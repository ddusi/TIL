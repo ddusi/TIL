{
 "cells": [
  {
   "cell_type": "markdown",
   "metadata": {},
   "source": [
    "\n",
    "실습 예제\n",
    "\n",
    "[파이썬과 웹 크롤링]\n",
    "\n",
    "https://datalab.naver.com/keyword/realtimeList.naver\n",
    "    \n",
    "셀레니움을 이용하여 네이버의 급상승 검색어 웹페이지에서 1위에서 20위까지 \n",
    "검색어 확인하는 파이썬 코드를 작성하시오."
   ]
  },
  {
   "cell_type": "markdown",
   "metadata": {},
   "source": [
    "### 크롤링 해온 후, dictionary 형태로 자료 저장."
   ]
  },
  {
   "cell_type": "code",
   "execution_count": 1,
   "metadata": {},
   "outputs": [
    {
     "name": "stdout",
     "output_type": "stream",
     "text": [
      "{1: '성준', 2: '이지영 강사', 3: '목격자', 4: '이지영', 5: '여자친구', 6: '하나은행 비대면계좌', 7: '천효재단', 8: '김신영', 9: '포교', 10: '한선교', 11: '코로나 완치', 12: '개리 아내', 13: '신민아', 14: '목운초등학교', 15: '너의 결혼식', 16: '이정섭', 17: '토트넘 맨시티', 18: '에버글로우', 19: '장지연', 20: '이서진'}\n"
     ]
    }
   ],
   "source": [
    "from selenium import webdriver as wd\n",
    "\n",
    "driver = wd.Chrome(executable_path='chromedriver.exe')\n",
    "\n",
    "driver.get('https://datalab.naver.com/keyword/realtimeList.naver')\n",
    "\n",
    "item2 = []\n",
    "for r in range(1,3):\n",
    "    for d in range(1,11):\n",
    "        item1 = driver.find_element_by_css_selector('.ranking_box > ul:nth-child(%d) > li:nth-child(%d) .item_title'%(r, d)).text\n",
    "        item2.append(item1)\n",
    "        \n",
    "dict = {}\n",
    "for i in range(1,21):\n",
    "     dict[i] = item2[i-1]\n",
    "        \n",
    "print(dict)\n"
   ]
  },
  {
   "cell_type": "markdown",
   "metadata": {},
   "source": [
    "### dictionary 형태로 저장한 데이터를 input에 따라 원하는 값 출력."
   ]
  },
  {
   "cell_type": "code",
   "execution_count": 3,
   "metadata": {},
   "outputs": [
    {
     "name": "stdout",
     "output_type": "stream",
     "text": [
      "실시간 검색어 1~20위 순위를 입력하시오. (0번은 전체리스트)2\n",
      "2위 이지영 강사\n",
      "실시간 검색어 1~20위 순위를 입력하시오. (0번은 전체리스트)3\n",
      "3위 목격자\n",
      "실시간 검색어 1~20위 순위를 입력하시오. (0번은 전체리스트)4\n",
      "4위 이지영\n",
      "실시간 검색어 1~20위 순위를 입력하시오. (0번은 전체리스트)5\n",
      "5위 여자친구\n",
      "실시간 검색어 1~20위 순위를 입력하시오. (0번은 전체리스트)6\n",
      "6위 하나은행 비대면계좌\n",
      "실시간 검색어 1~20위 순위를 입력하시오. (0번은 전체리스트)7\n",
      "7위 천효재단\n",
      "실시간 검색어 1~20위 순위를 입력하시오. (0번은 전체리스트)19\n",
      "19위 장지연\n",
      "실시간 검색어 1~20위 순위를 입력하시오. (0번은 전체리스트)20\n",
      "20위 이서진\n",
      "실시간 검색어 1~20위 순위를 입력하시오. (0번은 전체리스트)0\n",
      "1위 성준\n",
      "2위 이지영 강사\n",
      "3위 목격자\n",
      "4위 이지영\n",
      "5위 여자친구\n",
      "6위 하나은행 비대면계좌\n",
      "7위 천효재단\n",
      "8위 김신영\n",
      "9위 포교\n",
      "10위 한선교\n",
      "11위 코로나 완치\n",
      "12위 개리 아내\n",
      "13위 신민아\n",
      "14위 목운초등학교\n",
      "15위 너의 결혼식\n",
      "16위 이정섭\n",
      "17위 토트넘 맨시티\n",
      "18위 에버글로우\n",
      "19위 장지연\n",
      "20위 이서진\n"
     ]
    }
   ],
   "source": [
    "limit=[i for i in range(1,21)]\n",
    "\n",
    "while True:\n",
    "    data = int(input('실시간 검색어 1~20위 순위를 입력하시오. (0번은 전체리스트)'))\n",
    "    \n",
    "    \n",
    "    if data == 0:\n",
    "        for i in range(1,21):\n",
    "            print('%d위 '%i + dict[i])\n",
    "        break;\n",
    "    if data > 20 or data < 0:\n",
    "        break;\n",
    "    \n",
    "    print(str(data) + '위 ' +dict[data])\n",
    "    "
   ]
  }
 ],
 "metadata": {
  "kernelspec": {
   "display_name": "Python 3",
   "language": "python",
   "name": "python3"
  },
  "language_info": {
   "codemirror_mode": {
    "name": "ipython",
    "version": 3
   },
   "file_extension": ".py",
   "mimetype": "text/x-python",
   "name": "python",
   "nbconvert_exporter": "python",
   "pygments_lexer": "ipython3",
   "version": "3.7.4"
  }
 },
 "nbformat": 4,
 "nbformat_minor": 2
}
