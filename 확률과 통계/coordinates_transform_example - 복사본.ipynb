{
 "cells": [
  {
   "cell_type": "code",
   "execution_count": 2,
   "metadata": {},
   "outputs": [],
   "source": [
    "from pyproj import Proj, transform\n",
    "import numpy as np\n",
    "import pandas  as pd\n",
    "\n",
    "# Projection 정의\n",
    "# UTM-K\n",
    "proj_UTMK = Proj(init='epsg:5181') # UTM-K(Bassel) 도로명주소 지도 사용 중\n",
    "\n",
    "# WGS1984\n",
    "# proj_WGS84 = Proj(init='epsg:4326') # Wgs84 경도/위도, GPS사용 전지구 좌표\n",
    "proj_WGS84 = Proj(init='epsg:4326') # Wgs84 경도/위도, GPS사용 전지구 좌표"
   ]
  },
  {
   "cell_type": "markdown",
   "metadata": {},
   "source": [
    "# 좌표 변환 Example"
   ]
  },
  {
   "cell_type": "code",
   "execution_count": 3,
   "metadata": {},
   "outputs": [
    {
     "name": "stdout",
     "output_type": "stream",
     "text": [
      "126.837746714377 37.5299448479299\n"
     ]
    }
   ],
   "source": [
    "# UTM-K -> WGS84 샘플\n",
    "x1, y1 = 185658.40757,447839.99221\n",
    "x2, y2 = transform(proj_UTMK,proj_WGS84,x1,y1)\n",
    "print(x2,y2)"
   ]
  },
  {
   "cell_type": "code",
   "execution_count": 17,
   "metadata": {},
   "outputs": [
    {
     "data": {
      "text/html": [
       "<div>\n",
       "<style scoped>\n",
       "    .dataframe tbody tr th:only-of-type {\n",
       "        vertical-align: middle;\n",
       "    }\n",
       "\n",
       "    .dataframe tbody tr th {\n",
       "        vertical-align: top;\n",
       "    }\n",
       "\n",
       "    .dataframe thead th {\n",
       "        text-align: right;\n",
       "    }\n",
       "</style>\n",
       "<table border=\"1\" class=\"dataframe\">\n",
       "  <thead>\n",
       "    <tr style=\"text-align: right;\">\n",
       "      <th></th>\n",
       "      <th>r_code</th>\n",
       "      <th>r_name</th>\n",
       "      <th>r_kind</th>\n",
       "      <th>r_img</th>\n",
       "      <th>des</th>\n",
       "      <th>서울특별시 강남구 신사동 657-38번지</th>\n",
       "      <th>address-road</th>\n",
       "      <th>Latitude</th>\n",
       "      <th>longitude</th>\n",
       "    </tr>\n",
       "  </thead>\n",
       "  <tbody>\n",
       "    <tr>\n",
       "      <th>0</th>\n",
       "      <td>1</td>\n",
       "      <td>비안도넛</td>\n",
       "      <td>NaN</td>\n",
       "      <td>NaN</td>\n",
       "      <td>NaN</td>\n",
       "      <td>서울특별시 강남구 삼성동 114-15번지</td>\n",
       "      <td>서울특별시 강남구 선릉로157길 13-3 1층 (신사동)</td>\n",
       "      <td>203421.2131</td>\n",
       "      <td>447368.4963</td>\n",
       "    </tr>\n",
       "    <tr>\n",
       "      <th>1</th>\n",
       "      <td>2</td>\n",
       "      <td>언제나커피</td>\n",
       "      <td>NaN</td>\n",
       "      <td>NaN</td>\n",
       "      <td>NaN</td>\n",
       "      <td>서울특별시 강남구 삼성동 143-17번지</td>\n",
       "      <td>서울특별시 강남구 봉은사로 456 지하1층 (삼성동)</td>\n",
       "      <td>204373.0834</td>\n",
       "      <td>445796.1888</td>\n",
       "    </tr>\n",
       "    <tr>\n",
       "      <th>2</th>\n",
       "      <td>3</td>\n",
       "      <td>카페 그리다(CAFE GRIDA)</td>\n",
       "      <td>NaN</td>\n",
       "      <td>NaN</td>\n",
       "      <td>NaN</td>\n",
       "      <td>서울특별시 강남구 청담동 1-19번지</td>\n",
       "      <td>서울특별시 강남구 테헤란로69길 14 103호 (삼성동)</td>\n",
       "      <td>204652.0642</td>\n",
       "      <td>445257.8237</td>\n",
       "    </tr>\n",
       "    <tr>\n",
       "      <th>3</th>\n",
       "      <td>4</td>\n",
       "      <td>슬리피캣(SLEEPY CAT)</td>\n",
       "      <td>NaN</td>\n",
       "      <td>NaN</td>\n",
       "      <td>NaN</td>\n",
       "      <td>서울특별시 강남구 삼성동 159번지</td>\n",
       "      <td>서울특별시 강남구 선릉로 758-2 1층 (청담동)</td>\n",
       "      <td>203525.2872</td>\n",
       "      <td>446981.2271</td>\n",
       "    </tr>\n",
       "    <tr>\n",
       "      <th>4</th>\n",
       "      <td>5</td>\n",
       "      <td>세븐일레븐 코엑스아셈타워점</td>\n",
       "      <td>NaN</td>\n",
       "      <td>NaN</td>\n",
       "      <td>NaN</td>\n",
       "      <td>서울특별시 강남구 역삼동 642-5번지</td>\n",
       "      <td>서울특별시 강남구 영동대로 517 1층 (삼성동 아셈타워)</td>\n",
       "      <td>205283.2321</td>\n",
       "      <td>445960.8509</td>\n",
       "    </tr>\n",
       "    <tr>\n",
       "      <th>...</th>\n",
       "      <td>...</td>\n",
       "      <td>...</td>\n",
       "      <td>...</td>\n",
       "      <td>...</td>\n",
       "      <td>...</td>\n",
       "      <td>...</td>\n",
       "      <td>...</td>\n",
       "      <td>...</td>\n",
       "      <td>...</td>\n",
       "    </tr>\n",
       "    <tr>\n",
       "      <th>317</th>\n",
       "      <td>318</td>\n",
       "      <td>웨이크업 커피</td>\n",
       "      <td>NaN</td>\n",
       "      <td>NaN</td>\n",
       "      <td>NaN</td>\n",
       "      <td>서울특별시 강남구 신사동 537-8번지</td>\n",
       "      <td>서울특별시 강남구 강남대로96길 9 1층 (역삼동)</td>\n",
       "      <td>204673.6614</td>\n",
       "      <td>446141.8297</td>\n",
       "    </tr>\n",
       "    <tr>\n",
       "      <th>318</th>\n",
       "      <td>319</td>\n",
       "      <td>가로수 분식</td>\n",
       "      <td>NaN</td>\n",
       "      <td>NaN</td>\n",
       "      <td>NaN</td>\n",
       "      <td>서울특별시 강남구 신사동 550-9번지</td>\n",
       "      <td>서울특별시 강남구 언주로30길 57 (도곡동타워팰리스지하1층)</td>\n",
       "      <td>202452.5695</td>\n",
       "      <td>444488.6769</td>\n",
       "    </tr>\n",
       "    <tr>\n",
       "      <th>319</th>\n",
       "      <td>320</td>\n",
       "      <td>일젤라또</td>\n",
       "      <td>NaN</td>\n",
       "      <td>NaN</td>\n",
       "      <td>NaN</td>\n",
       "      <td>서울특별시 강남구 자곡동 658번지</td>\n",
       "      <td>서울특별시 강남구 선릉로157길 14-4 지상1층 (신사동)</td>\n",
       "      <td>204864.6222</td>\n",
       "      <td>443388.1435</td>\n",
       "    </tr>\n",
       "    <tr>\n",
       "      <th>320</th>\n",
       "      <td>321</td>\n",
       "      <td>신전떡볶이 자곡점</td>\n",
       "      <td>NaN</td>\n",
       "      <td>NaN</td>\n",
       "      <td>NaN</td>\n",
       "      <td>서울특별시 강남구 삼성동 70-1번지</td>\n",
       "      <td>서울특별시 강남구 학동로 423 (청담동)</td>\n",
       "      <td>203439.8296</td>\n",
       "      <td>447431.3473</td>\n",
       "    </tr>\n",
       "    <tr>\n",
       "      <th>321</th>\n",
       "      <td>322</td>\n",
       "      <td>커피인스튜디오</td>\n",
       "      <td>NaN</td>\n",
       "      <td>NaN</td>\n",
       "      <td>NaN</td>\n",
       "      <td>서울특별시 강남구 역삼동 817-11번지</td>\n",
       "      <td>서울특별시 강남구 테헤란로 429 (삼성동지하철2호선 선릉역 구내)</td>\n",
       "      <td>204122.3902</td>\n",
       "      <td>446549.8636</td>\n",
       "    </tr>\n",
       "  </tbody>\n",
       "</table>\n",
       "<p>322 rows × 9 columns</p>\n",
       "</div>"
      ],
      "text/plain": [
       "     r_code              r_name  r_kind  r_img  des  서울특별시 강남구 신사동 657-38번지   \\\n",
       "0         1                비안도넛     NaN    NaN  NaN  서울특별시 강남구 삼성동 114-15번지    \n",
       "1         2               언제나커피     NaN    NaN  NaN  서울특별시 강남구 삼성동 143-17번지    \n",
       "2         3  카페 그리다(CAFE GRIDA)     NaN    NaN  NaN    서울특별시 강남구 청담동 1-19번지    \n",
       "3         4    슬리피캣(SLEEPY CAT)     NaN    NaN  NaN     서울특별시 강남구 삼성동 159번지    \n",
       "4         5      세븐일레븐 코엑스아셈타워점     NaN    NaN  NaN   서울특별시 강남구 역삼동 642-5번지    \n",
       "..      ...                 ...     ...    ...  ...                      ...   \n",
       "317     318             웨이크업 커피     NaN    NaN  NaN   서울특별시 강남구 신사동 537-8번지    \n",
       "318     319              가로수 분식     NaN    NaN  NaN   서울특별시 강남구 신사동 550-9번지    \n",
       "319     320                일젤라또     NaN    NaN  NaN     서울특별시 강남구 자곡동 658번지    \n",
       "320     321           신전떡볶이 자곡점     NaN    NaN  NaN    서울특별시 강남구 삼성동 70-1번지    \n",
       "321     322             커피인스튜디오     NaN    NaN  NaN  서울특별시 강남구 역삼동 817-11번지    \n",
       "\n",
       "                              address-road     Latitude    longitude  \n",
       "0          서울특별시 강남구 선릉로157길 13-3 1층 (신사동)  203421.2131  447368.4963  \n",
       "1            서울특별시 강남구 봉은사로 456 지하1층 (삼성동)  204373.0834  445796.1888  \n",
       "2          서울특별시 강남구 테헤란로69길 14 103호 (삼성동)  204652.0642  445257.8237  \n",
       "3             서울특별시 강남구 선릉로 758-2 1층 (청담동)  203525.2872  446981.2271  \n",
       "4         서울특별시 강남구 영동대로 517 1층 (삼성동 아셈타워)  205283.2321  445960.8509  \n",
       "..                                     ...          ...          ...  \n",
       "317           서울특별시 강남구 강남대로96길 9 1층 (역삼동)  204673.6614  446141.8297  \n",
       "318     서울특별시 강남구 언주로30길 57 (도곡동타워팰리스지하1층)  202452.5695  444488.6769  \n",
       "319      서울특별시 강남구 선릉로157길 14-4 지상1층 (신사동)  204864.6222  443388.1435  \n",
       "320                서울특별시 강남구 학동로 423 (청담동)  203439.8296  447431.3473  \n",
       "321  서울특별시 강남구 테헤란로 429 (삼성동지하철2호선 선릉역 구내)  204122.3902  446549.8636  \n",
       "\n",
       "[322 rows x 9 columns]"
      ]
     },
     "execution_count": 17,
     "metadata": {},
     "output_type": "execute_result"
    }
   ],
   "source": [
    "df = pd.read_csv('D:\\data_little2.csv')\n",
    "df"
   ]
  },
  {
   "cell_type": "code",
   "execution_count": 18,
   "metadata": {},
   "outputs": [],
   "source": [
    "list_x = []\n",
    "list_y = []\n",
    "for i in range(len(df)):\n",
    "    x = df.loc[i]['Latitude']\n",
    "    y = df.loc[i]['longitude']\n",
    "\n",
    "    x2, y2 = transform(proj_UTMK,proj_WGS84,x,y)\n",
    "    list_x.append(x2)\n",
    "    list_y.append(y2)\n",
    "df['Latitude_x'] = list_x\n",
    "df['longitude_y'] = list_y"
   ]
  },
  {
   "cell_type": "code",
   "execution_count": 23,
   "metadata": {},
   "outputs": [],
   "source": [
    "df.to_csv('loc2.csv',encoding='euc-kr', sep=',')"
   ]
  },
  {
   "cell_type": "code",
   "execution_count": 3,
   "metadata": {},
   "outputs": [
    {
     "name": "stdout",
     "output_type": "stream",
     "text": [
      "961114.5197260004 1727112.2691739995\n"
     ]
    }
   ],
   "source": [
    "# WGS84 -> UTM-K 샘플\n",
    "x1, y1 = 127.07098392510115, 35.53895289091983\n",
    "x2, y2 = transform(proj_WGS84, proj_UTMK, x1, y1)\n",
    "print(x2,y2)"
   ]
  },
  {
   "cell_type": "markdown",
   "metadata": {},
   "source": [
    "# DataFrame 여러 좌표 변환 Example"
   ]
  },
  {
   "cell_type": "code",
   "execution_count": 4,
   "metadata": {},
   "outputs": [],
   "source": [
    "# x, y 컬럼을 이용하여 UTM-K좌표를 WGS84로 변환한 Series데이터 반환\n",
    "def transform_utmk_to_w84(df):\n",
    "    return pd.Series(transform(proj_UTMK, proj_WGS84, df['x'], df['y']), index=['x', 'y'])"
   ]
  },
  {
   "cell_type": "code",
   "execution_count": 5,
   "metadata": {},
   "outputs": [],
   "source": [
    "df_xy = pd.DataFrame([\n",
    "                                        ['A', 961114.519726,1727112.269174],\n",
    "                                        ['B', 940934.895125,1685175.196487],\n",
    "                                        ['C', 1087922.228298,1761958.688262]\n",
    "                                    ], columns=['id', 'x', 'y'])"
   ]
  },
  {
   "cell_type": "code",
   "execution_count": 6,
   "metadata": {},
   "outputs": [
    {
     "data": {
      "text/html": [
       "<div>\n",
       "<style scoped>\n",
       "    .dataframe tbody tr th:only-of-type {\n",
       "        vertical-align: middle;\n",
       "    }\n",
       "\n",
       "    .dataframe tbody tr th {\n",
       "        vertical-align: top;\n",
       "    }\n",
       "\n",
       "    .dataframe thead th {\n",
       "        text-align: right;\n",
       "    }\n",
       "</style>\n",
       "<table border=\"1\" class=\"dataframe\">\n",
       "  <thead>\n",
       "    <tr style=\"text-align: right;\">\n",
       "      <th></th>\n",
       "      <th>id</th>\n",
       "      <th>x</th>\n",
       "      <th>y</th>\n",
       "    </tr>\n",
       "  </thead>\n",
       "  <tbody>\n",
       "    <tr>\n",
       "      <th>0</th>\n",
       "      <td>A</td>\n",
       "      <td>9.611145e+05</td>\n",
       "      <td>1.727112e+06</td>\n",
       "    </tr>\n",
       "    <tr>\n",
       "      <th>1</th>\n",
       "      <td>B</td>\n",
       "      <td>9.409349e+05</td>\n",
       "      <td>1.685175e+06</td>\n",
       "    </tr>\n",
       "    <tr>\n",
       "      <th>2</th>\n",
       "      <td>C</td>\n",
       "      <td>1.087922e+06</td>\n",
       "      <td>1.761959e+06</td>\n",
       "    </tr>\n",
       "  </tbody>\n",
       "</table>\n",
       "</div>"
      ],
      "text/plain": [
       "  id             x             y\n",
       "0  A  9.611145e+05  1.727112e+06\n",
       "1  B  9.409349e+05  1.685175e+06\n",
       "2  C  1.087922e+06  1.761959e+06"
      ]
     },
     "execution_count": 6,
     "metadata": {},
     "output_type": "execute_result"
    }
   ],
   "source": [
    "df_xy"
   ]
  },
  {
   "cell_type": "code",
   "execution_count": 7,
   "metadata": {},
   "outputs": [],
   "source": [
    "df_xy[['x_w84', 'y_w84']] = df_xy.apply(transform_utmk_to_w84, axis=1)"
   ]
  },
  {
   "cell_type": "code",
   "execution_count": 8,
   "metadata": {},
   "outputs": [
    {
     "data": {
      "text/html": [
       "<div>\n",
       "<style scoped>\n",
       "    .dataframe tbody tr th:only-of-type {\n",
       "        vertical-align: middle;\n",
       "    }\n",
       "\n",
       "    .dataframe tbody tr th {\n",
       "        vertical-align: top;\n",
       "    }\n",
       "\n",
       "    .dataframe thead th {\n",
       "        text-align: right;\n",
       "    }\n",
       "</style>\n",
       "<table border=\"1\" class=\"dataframe\">\n",
       "  <thead>\n",
       "    <tr style=\"text-align: right;\">\n",
       "      <th></th>\n",
       "      <th>id</th>\n",
       "      <th>x</th>\n",
       "      <th>y</th>\n",
       "      <th>x_w84</th>\n",
       "      <th>y_w84</th>\n",
       "    </tr>\n",
       "  </thead>\n",
       "  <tbody>\n",
       "    <tr>\n",
       "      <th>0</th>\n",
       "      <td>A</td>\n",
       "      <td>9.611145e+05</td>\n",
       "      <td>1.727112e+06</td>\n",
       "      <td>127.070984</td>\n",
       "      <td>35.538953</td>\n",
       "    </tr>\n",
       "    <tr>\n",
       "      <th>1</th>\n",
       "      <td>B</td>\n",
       "      <td>9.409349e+05</td>\n",
       "      <td>1.685175e+06</td>\n",
       "      <td>126.851387</td>\n",
       "      <td>35.159797</td>\n",
       "    </tr>\n",
       "    <tr>\n",
       "      <th>2</th>\n",
       "      <td>C</td>\n",
       "      <td>1.087922e+06</td>\n",
       "      <td>1.761959e+06</td>\n",
       "      <td>128.473791</td>\n",
       "      <td>35.849993</td>\n",
       "    </tr>\n",
       "  </tbody>\n",
       "</table>\n",
       "</div>"
      ],
      "text/plain": [
       "  id             x             y       x_w84      y_w84\n",
       "0  A  9.611145e+05  1.727112e+06  127.070984  35.538953\n",
       "1  B  9.409349e+05  1.685175e+06  126.851387  35.159797\n",
       "2  C  1.087922e+06  1.761959e+06  128.473791  35.849993"
      ]
     },
     "execution_count": 8,
     "metadata": {},
     "output_type": "execute_result"
    }
   ],
   "source": [
    "df_xy"
   ]
  },
  {
   "cell_type": "code",
   "execution_count": null,
   "metadata": {},
   "outputs": [],
   "source": []
  }
 ],
 "metadata": {
  "kernelspec": {
   "display_name": "Python 3",
   "language": "python",
   "name": "python3"
  },
  "language_info": {
   "codemirror_mode": {
    "name": "ipython",
    "version": 3
   },
   "file_extension": ".py",
   "mimetype": "text/x-python",
   "name": "python",
   "nbconvert_exporter": "python",
   "pygments_lexer": "ipython3",
   "version": "3.7.4"
  }
 },
 "nbformat": 4,
 "nbformat_minor": 2
}
