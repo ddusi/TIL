{
 "cells": [
  {
   "cell_type": "markdown",
   "metadata": {},
   "source": [
    "# Nested Lists"
   ]
  },
  {
   "cell_type": "markdown",
   "metadata": {},
   "source": [
    "## 내 풀이 (분류하는데 잘 안됌)"
   ]
  },
  {
   "cell_type": "code",
   "execution_count": 26,
   "metadata": {},
   "outputs": [],
   "source": [
    "import operator\n",
    "json_score={}\n",
    "\n",
    "for _ in range(int(raw_input())):\n",
    "    name = raw_input()\n",
    "    score = float(input())\n",
    "    json_score[name] = score\n",
    "    \n",
    "new = sorted(json_score.items(), key=operator.itemgetter(1))\n",
    "if new[0][1] != new[1][1] and new[1][1] != new[2][1]: \n",
    "    print(new[1][0])\n",
    "elif new[0][1] != new[1][1] and new[1][1] == new[2][1]: \n",
    "    print(new[1][0])\n",
    "    print(new[2][0])\n",
    "else:\n",
    "    print(new[2][0])"
   ]
  },
  {
   "cell_type": "markdown",
   "metadata": {},
   "source": [
    "# 다른사람 풀이 1\n",
    "\n"
   ]
  },
  {
   "cell_type": "code",
   "execution_count": 32,
   "metadata": {},
   "outputs": [
    {
     "name": "stdout",
     "output_type": "stream",
     "text": [
      "5\n",
      "harry\n",
      "37.21\n",
      "barry\n",
      "37.21\n",
      "tina\n",
      "37.2\n",
      "akriti\n",
      "41\n",
      "harsh\n",
      "39\n"
     ]
    }
   ],
   "source": [
    "students = []\n",
    "score_list = []\n",
    "\n",
    "for _ in range(int(input())):\n",
    "    \n",
    "    temp = []\n",
    "    \n",
    "    name = input()\n",
    "    score = float(input())\n",
    "    \n",
    "    temp.append(name)\n",
    "    temp.append(score)\n",
    "    \n",
    "    score_list.append(score)\n",
    "    students.append(temp)"
   ]
  },
  {
   "cell_type": "code",
   "execution_count": 33,
   "metadata": {},
   "outputs": [],
   "source": [
    "score_list = list(dict.fromkeys(score_list))\n",
    "score_list.sort()"
   ]
  },
  {
   "cell_type": "code",
   "execution_count": 43,
   "metadata": {},
   "outputs": [
    {
     "data": {
      "text/plain": [
       "5"
      ]
     },
     "execution_count": 43,
     "metadata": {},
     "output_type": "execute_result"
    }
   ],
   "source": [
    "len(students)"
   ]
  },
  {
   "cell_type": "code",
   "execution_count": 45,
   "metadata": {},
   "outputs": [
    {
     "name": "stdout",
     "output_type": "stream",
     "text": [
      "barry\n",
      "harry\n"
     ]
    }
   ],
   "source": [
    "if len(students) >= 2:\n",
    "    second_lowest_students = []\n",
    "    second_lowest_score = score_list[1]\n",
    "\n",
    "    for i in students:\n",
    "        if second_lowest_score in i:\n",
    "            # print(i[0])\n",
    "            second_lowest_students.append(i[0])\n",
    "        else:\n",
    "            pass\n",
    "    print('\\n'.join(sorted(second_lowest_students, key=lambda second_lowest_students: second_lowest_students)))\n",
    "\n",
    "else:\n",
    "    print(students[0][0])"
   ]
  },
  {
   "cell_type": "code",
   "execution_count": null,
   "metadata": {},
   "outputs": [],
   "source": []
  }
 ],
 "metadata": {
  "kernelspec": {
   "display_name": "Python 3",
   "language": "python",
   "name": "python3"
  },
  "language_info": {
   "codemirror_mode": {
    "name": "ipython",
    "version": 3
   },
   "file_extension": ".py",
   "mimetype": "text/x-python",
   "name": "python",
   "nbconvert_exporter": "python",
   "pygments_lexer": "ipython3",
   "version": "3.7.4"
  }
 },
 "nbformat": 4,
 "nbformat_minor": 2
}
