{
 "cells": [
  {
   "cell_type": "markdown",
   "metadata": {},
   "source": [
    "# Nested Lists"
   ]
  },
  {
   "cell_type": "markdown",
   "metadata": {},
   "source": [
    "## 내 풀이 (분류하는데 잘 안됌)"
   ]
  },
  {
   "cell_type": "code",
   "execution_count": 26,
   "metadata": {},
   "outputs": [],
   "source": [
    "import operator\n",
    "json_score={}\n",
    "\n",
    "for _ in range(int(raw_input())):\n",
    "    name = raw_input()\n",
    "    score = float(input())\n",
    "    json_score[name] = score\n",
    "    \n",
    "new = sorted(json_score.items(), key=operator.itemgetter(1))\n",
    "if new[0][1] != new[1][1] and new[1][1] != new[2][1]: \n",
    "    print(new[1][0])\n",
    "elif new[0][1] != new[1][1] and new[1][1] == new[2][1]: \n",
    "    print(new[1][0])\n",
    "    print(new[2][0])\n",
    "else:\n",
    "    print(new[2][0])"
   ]
  },
  {
   "cell_type": "markdown",
   "metadata": {},
   "source": [
    "## 다른사람 풀이 1\n",
    "\n"
   ]
  },
  {
   "cell_type": "code",
   "execution_count": null,
   "metadata": {},
   "outputs": [],
   "source": [
    "students = []\n",
    "score_list = []\n",
    "\n",
    "for _ in range(int(input())):\n",
    "\n",
    "    temp = []\n",
    "\n",
    "    name = input()\n",
    "    score = float(input())\n",
    "\n",
    "    temp.append(name)\n",
    "    temp.append(score)\n",
    "\n",
    "    score_list.append(score)\n",
    "    students.append(temp)\n",
    "\n",
    "score_list = list(dict.fromkeys(score_list))\n",
    "# dict.fromkeys()는 리스트를 딕셔너리 형태로 만들어주는 함수이다.\n",
    "score_list.sort()\n",
    "\n",
    "if len(students) >= 2:\n",
    "    second_lowest_students = []\n",
    "    second_lowest_score = score_list[1]\n",
    "\n",
    "    for i in students:\n",
    "        if second_lowest_score in i:\n",
    "            # print(i[0])\n",
    "            second_lowest_students.append(i[0])\n",
    "        else:\n",
    "            pass\n",
    "    print('\\n'.join(sorted(second_lowest_students, key=lambda second_lowest_students: second_lowest_students)))\n",
    "\n",
    "else:\n",
    "    print(students[0][0])"
   ]
  },
  {
   "cell_type": "code",
   "execution_count": null,
   "metadata": {},
   "outputs": [],
   "source": [
    "students = []\n",
    "score_list = []\n",
    "\n",
    "for _ in range(int(input())):\n",
    "\n",
    "    temp = []\n",
    "\n",
    "    name = input()\n",
    "    score = float(input())\n",
    "\n",
    "    temp.append(name)\n",
    "    temp.append(score)\n",
    "\n",
    "    score_list.append(score)\n",
    "    students.append(temp)\n",
    "\n",
    "score_list = list(dict.fromkeys(score_list))\n",
    "score_list.sort()\n",
    "\n",
    "\n",
    "if len(students) >= 2:\n",
    "    second_lowest_students = []\n",
    "    second_lowest_score = score_list[1]\n",
    "\n",
    "    for i in students:\n",
    "        if second_lowest_score in i:\n",
    "            # print(i[0])\n",
    "            second_lowest_students.append(i[0])\n",
    "        else:\n",
    "            pass\n",
    "    print('\\n'.join(sorted(second_lowest_students)))\n",
    "\n",
    "else:\n",
    "    print(students[0][0])"
   ]
  },
  {
   "cell_type": "markdown",
   "metadata": {},
   "source": [
    "### 1. 각 리스트를 선언하고 input으로 값을 받아서 temp라는 리스트와, students, score_list라는 리스트 선언"
   ]
  },
  {
   "cell_type": "code",
   "execution_count": 58,
   "metadata": {},
   "outputs": [
    {
     "name": "stdout",
     "output_type": "stream",
     "text": [
      "5\n",
      "harry\n",
      "37.21\n",
      "berry\n",
      "37.21\n",
      "tina\n",
      "37.2\n",
      "akriti\n",
      "41\n",
      "harsh\n",
      "39\n"
     ]
    }
   ],
   "source": [
    "students = []\n",
    "score_list = []\n",
    "\n",
    "for _ in range(int(input())):\n",
    "\n",
    "    temp = []\n",
    "\n",
    "    name = input()\n",
    "    score = float(input())\n",
    "\n",
    "    temp.append(name) \n",
    "    temp.append(score) # 각 이름과, 점수를 순서대로 temp에 저장\n",
    "\n",
    "    score_list.append(score) #점수만 넣기!\n",
    "    students.append(temp) #temp 넣기!\n"
   ]
  },
  {
   "cell_type": "code",
   "execution_count": 65,
   "metadata": {
    "scrolled": false
   },
   "outputs": [
    {
     "name": "stdout",
     "output_type": "stream",
     "text": [
      "harsh\n",
      "39.0\n",
      "-----------------------------------\n",
      "temp = ['harsh', 39.0]\n",
      "students = [['harry', 37.21], ['berry', 37.21], ['tina', 37.2], ['akriti', 41.0], ['harsh', 39.0]]\n",
      "score_list = [37.21, 37.21, 37.2, 41.0, 39.0]\n"
     ]
    }
   ],
   "source": [
    "# 각 리스트에 무슨 값들이 들어갔는지 확인해보자.\n",
    "print(name) #마지막으로 입력한 값들이 들어감. 지역변수.\n",
    "print(score)\n",
    "print(\"-----------------------------------\")\n",
    "print('temp = {0}'.format(temp)) #각 for문 순서대로 이름과 점수를 같이 들어감.\n",
    "print('students = {0}'.format(students)) #딕셔너리를 \n",
    "print('score_list = {0}'.format(score_list)) #점수들만 들어감."
   ]
  },
  {
   "cell_type": "markdown",
   "metadata": {},
   "source": [
    "### 2.리스트를 딕셔너리형태로 만들고 그걸 다시 리스트로 만든다. (값의 위치지정하기 위함)"
   ]
  },
  {
   "cell_type": "code",
   "execution_count": 67,
   "metadata": {},
   "outputs": [
    {
     "data": {
      "text/plain": [
       "[37.21, 37.2, 41.0, 39.0]"
      ]
     },
     "execution_count": 67,
     "metadata": {},
     "output_type": "execute_result"
    }
   ],
   "source": [
    "score_list = list(dict.fromkeys(score_list))\n",
    "# dict.fromkeys()는 리스트를 딕셔너리 형태로 만들어주는 함수이다.\n",
    "score_list"
   ]
  },
  {
   "cell_type": "code",
   "execution_count": 68,
   "metadata": {},
   "outputs": [
    {
     "data": {
      "text/plain": [
       "[37.2, 37.21, 39.0, 41.0]"
      ]
     },
     "execution_count": 68,
     "metadata": {},
     "output_type": "execute_result"
    }
   ],
   "source": [
    "score_list.sort()\n",
    "score_list\n",
    "#sort() 함수는 아예 리스트를 바꿔주는 것이라 변수로 저장 안해도 되나봄."
   ]
  },
  {
   "cell_type": "code",
   "execution_count": null,
   "metadata": {},
   "outputs": [],
   "source": [
    "### if 함수 "
   ]
  },
  {
   "cell_type": "code",
   "execution_count": 75,
   "metadata": {},
   "outputs": [
    {
     "name": "stdout",
     "output_type": "stream",
     "text": [
      "[['harry', 37.21], ['berry', 37.21], ['tina', 37.2], ['akriti', 41.0], ['harsh', 39.0]]\n"
     ]
    }
   ],
   "source": [
    " print(students)"
   ]
  },
  {
   "cell_type": "code",
   "execution_count": 84,
   "metadata": {},
   "outputs": [
    {
     "name": "stdout",
     "output_type": "stream",
     "text": [
      "second_lowest_score = 37.21\n",
      "['harry', 37.21]\n",
      "harry\n",
      "['berry', 37.21]\n",
      "berry\n",
      "berry\n",
      "harry\n"
     ]
    }
   ],
   "source": [
    "if len(students) >= 2: # 지금 들어간 리스트의 길이는 5\n",
    "    second_lowest_students = [] # 새로운 변수 또 선언\n",
    "    second_lowest_score = score_list[1] # 1번의 값을 넣음. (2번째 값)\n",
    "    print('second_lowest_score = {0}'.format(second_lowest_score))\n",
    "    \n",
    "    for i in students: #students에는 5번의 key:velus의 형태의 리스트 들어감.\n",
    "        if second_lowest_score in i:\n",
    "            print(i)\n",
    "            print(i[0])\n",
    "            second_lowest_students.append(i[0])\n",
    "        else:\n",
    "            pass\n",
    "    print('\\n'.join(sorted(second_lowest_students)))\n",
    "\n",
    "else:\n",
    "    print(students[0][0])"
   ]
  },
  {
   "cell_type": "code",
   "execution_count": 4,
   "metadata": {},
   "outputs": [
    {
     "ename": "NameError",
     "evalue": "name 'second_lowest_students' is not defined",
     "output_type": "error",
     "traceback": [
      "\u001b[1;31m---------------------------------------------------------------------------\u001b[0m",
      "\u001b[1;31mNameError\u001b[0m                                 Traceback (most recent call last)",
      "\u001b[1;32m<ipython-input-4-94717c044883>\u001b[0m in \u001b[0;36m<module>\u001b[1;34m\u001b[0m\n\u001b[1;32m----> 1\u001b[1;33m \u001b[0mprint\u001b[0m\u001b[1;33m(\u001b[0m\u001b[1;34m'\\n'\u001b[0m\u001b[1;33m.\u001b[0m\u001b[0mjoin\u001b[0m\u001b[1;33m(\u001b[0m\u001b[0msorted\u001b[0m\u001b[1;33m(\u001b[0m\u001b[0msecond_lowest_students\u001b[0m\u001b[1;33m,\u001b[0m \u001b[0mkey\u001b[0m\u001b[1;33m=\u001b[0m\u001b[1;32mlambda\u001b[0m \u001b[0msecond_lowest_students\u001b[0m\u001b[1;33m:\u001b[0m \u001b[0msecond_lowest_students\u001b[0m\u001b[1;33m)\u001b[0m\u001b[1;33m)\u001b[0m\u001b[1;33m)\u001b[0m\u001b[1;33m\u001b[0m\u001b[1;33m\u001b[0m\u001b[0m\n\u001b[0m",
      "\u001b[1;31mNameError\u001b[0m: name 'second_lowest_students' is not defined"
     ]
    }
   ],
   "source": [
    "print('\\n'.join(sorted(second_lowest_students, key=lambda second_lowest_students: second_lowest_students)))\n"
   ]
  },
  {
   "cell_type": "code",
   "execution_count": 3,
   "metadata": {},
   "outputs": [
    {
     "ename": "SyntaxError",
     "evalue": "unexpected EOF while parsing (<ipython-input-3-5ddf2744a5a0>, line 1)",
     "output_type": "error",
     "traceback": [
      "\u001b[1;36m  File \u001b[1;32m\"<ipython-input-3-5ddf2744a5a0>\"\u001b[1;36m, line \u001b[1;32m1\u001b[0m\n\u001b[1;33m    print('\\n'.join(sorted(second_lowest_students))\u001b[0m\n\u001b[1;37m                                                   ^\u001b[0m\n\u001b[1;31mSyntaxError\u001b[0m\u001b[1;31m:\u001b[0m unexpected EOF while parsing\n"
     ]
    }
   ],
   "source": [
    "print('\\n'.join(sorted(second_lowest_students))"
   ]
  },
  {
   "cell_type": "code",
   "execution_count": 85,
   "metadata": {
    "scrolled": true
   },
   "outputs": [
    {
     "data": {
      "text/plain": [
       "'가/나/다/라'"
      ]
     },
     "execution_count": 85,
     "metadata": {},
     "output_type": "execute_result"
    }
   ],
   "source": [
    "# join 함수는 각 문자 사이에 문자 삽입\n",
    "'/'.join('가나다라')\n",
    "#/n은 다음줄"
   ]
  },
  {
   "cell_type": "code",
   "execution_count": 79,
   "metadata": {},
   "outputs": [
    {
     "data": {
      "text/plain": [
       "['harry', 'berry']"
      ]
     },
     "execution_count": 79,
     "metadata": {},
     "output_type": "execute_result"
    }
   ],
   "source": [
    "second_lowest_students"
   ]
  },
  {
   "cell_type": "code",
   "execution_count": 82,
   "metadata": {},
   "outputs": [
    {
     "data": {
      "text/plain": [
       "['berry', 'harry']"
      ]
     },
     "execution_count": 82,
     "metadata": {},
     "output_type": "execute_result"
    }
   ],
   "source": [
    "sorted(second_lowest_students, key=lambda second_lowest_students : second_lowest_students)\n"
   ]
  },
  {
   "cell_type": "code",
   "execution_count": 81,
   "metadata": {},
   "outputs": [
    {
     "data": {
      "text/plain": [
       "['berry', 'harry']"
      ]
     },
     "execution_count": 81,
     "metadata": {},
     "output_type": "execute_result"
    }
   ],
   "source": [
    "sorted(second_lowest_students)"
   ]
  },
  {
   "cell_type": "markdown",
   "metadata": {},
   "source": [
    "### 파이썬 정렬시 특정 기준으로 정렬하는 방법\n",
    "key Function\n",
    "\n",
    "list.sort(), sorted()를 통한 정렬시! 비교기준이 되는 key 파라미터를 가질 수있다. \n",
    "ex) list.sort(a, key=?)\n",
    "    sorted(a, key=?)\n",
    "    \n",
    "sorting 할때 키 값을 기준으로 정렬\n",
    "- 키 파라미터의 값은 하나의 인자를 받고 정렬 목적을 위한 키를 리턴하는 함수가 되어야 함.\n",
    "\n",
    "```\n",
    "    #공백을 기준으로 문자열을 나누어 리스트로 변환한다. \n",
    "    #리스트로 변환시\n",
    "    \n",
    "    sorted(\"This is a test string form Andrew\".split(), key=str.lower)\n",
    "```\n",
    "string문자열 기준으로 내림차순으로 정렬된다.\n",
    "\n",
    "### 복잡한 객체를 정렬할 때 자주 사용하는 것 \n",
    "```\n",
    "    student_tuples = [\n",
    "...     ('john', 'A', 15),\n",
    "...     ('jane', 'B', 12),\n",
    "...     ('dave', 'B', 10),\n",
    "... ]\n",
    "\n",
    ">>> sorted(student_tuples, key=lambda student: student[2])\n",
    "```\n",
    "\n",
    "key=lambda student: student[2] key에 람다를 넣으면 stuendt라는 리스트 안에서 [2]인자 기준으로 정렬한다는 것. sort by age\n",
    "\n"
   ]
  },
  {
   "cell_type": "markdown",
   "metadata": {},
   "source": [
    "## dict.fromkeys() 함수 연습"
   ]
  },
  {
   "cell_type": "code",
   "execution_count": 52,
   "metadata": {},
   "outputs": [
    {
     "data": {
      "text/plain": [
       "{'가': None, '나': None, '다': None, '라': None}"
      ]
     },
     "execution_count": 52,
     "metadata": {},
     "output_type": "execute_result"
    }
   ],
   "source": [
    "#리스트 선언\n",
    "test=['가', '나', '다', '라']\n",
    "\n",
    "test=dict.fromkeys(test)\n",
    "test\n",
    "#이런식으로 원래 리스트에 있는 값은 키값이 되고, velue값은 none로 저장된다. 이때 velue값을 넣어보자."
   ]
  },
  {
   "cell_type": "code",
   "execution_count": 53,
   "metadata": {},
   "outputs": [
    {
     "data": {
      "text/plain": [
       "{'가': 10, '나': 22, '다': None, '라': None}"
      ]
     },
     "execution_count": 53,
     "metadata": {},
     "output_type": "execute_result"
    }
   ],
   "source": [
    "test['가']=10\n",
    "test['나']=22\n",
    "\n",
    "test\n",
    "#딕셔너리는 key값은 수정할 수 없지만, velue값은 언제든지 수정가능."
   ]
  },
  {
   "cell_type": "code",
   "execution_count": null,
   "metadata": {},
   "outputs": [],
   "source": [
    "test={'다':33} #이런식으로 넣으면 아예 딕셔너리가 초기화됨."
   ]
  },
  {
   "cell_type": "code",
   "execution_count": 32,
   "metadata": {},
   "outputs": [
    {
     "name": "stdout",
     "output_type": "stream",
     "text": [
      "5\n",
      "harry\n",
      "37.21\n",
      "barry\n",
      "37.21\n",
      "tina\n",
      "37.2\n",
      "akriti\n",
      "41\n",
      "harsh\n",
      "39\n"
     ]
    }
   ],
   "source": [
    "students = []\n",
    "score_list = []\n",
    "\n",
    "for _ in range(int(input())):\n",
    "    \n",
    "    temp = []\n",
    "    \n",
    "    name = input()\n",
    "    score = float(input())\n",
    "    \n",
    "    temp.append(name)\n",
    "    temp.append(score)\n",
    "    \n",
    "    score_list.append(score)\n",
    "    students.append(temp)"
   ]
  },
  {
   "cell_type": "code",
   "execution_count": 33,
   "metadata": {},
   "outputs": [],
   "source": [
    "score_list = list(dict.fromkeys(score_list))\n",
    "score_list.sort()"
   ]
  },
  {
   "cell_type": "code",
   "execution_count": 45,
   "metadata": {},
   "outputs": [
    {
     "name": "stdout",
     "output_type": "stream",
     "text": [
      "barry\n",
      "harry\n"
     ]
    }
   ],
   "source": [
    "if len(students) >= 2:\n",
    "    second_lowest_students = []\n",
    "    second_lowest_score = score_list[1]\n",
    "\n",
    "    for i in students:\n",
    "        if second_lowest_score in i:\n",
    "            # print(i[0])\n",
    "            second_lowest_students.append(i[0])\n",
    "        else:\n",
    "            pass\n",
    "    print('\\n'.join(sorted(second_lowest_students, key=lambda second_lowest_students: second_lowest_students)))\n",
    "\n",
    "else:\n",
    "    print(students[0][0])"
   ]
  },
  {
   "cell_type": "code",
   "execution_count": null,
   "metadata": {},
   "outputs": [],
   "source": []
  },
  {
   "cell_type": "code",
   "execution_count": null,
   "metadata": {},
   "outputs": [],
   "source": []
  },
  {
   "cell_type": "code",
   "execution_count": null,
   "metadata": {},
   "outputs": [],
   "source": []
  },
  {
   "cell_type": "code",
   "execution_count": null,
   "metadata": {},
   "outputs": [],
   "source": []
  },
  {
   "cell_type": "code",
   "execution_count": null,
   "metadata": {},
   "outputs": [],
   "source": []
  }
 ],
 "metadata": {
  "kernelspec": {
   "display_name": "Python 3",
   "language": "python",
   "name": "python3"
  },
  "language_info": {
   "codemirror_mode": {
    "name": "ipython",
    "version": 3
   },
   "file_extension": ".py",
   "mimetype": "text/x-python",
   "name": "python",
   "nbconvert_exporter": "python",
   "pygments_lexer": "ipython3",
   "version": "3.7.4"
  }
 },
 "nbformat": 4,
 "nbformat_minor": 2
}
