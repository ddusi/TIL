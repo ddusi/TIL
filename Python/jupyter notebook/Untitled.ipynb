{
 "cells": [
  {
   "cell_type": "code",
   "execution_count": 1,
   "metadata": {
    "scrolled": true
   },
   "outputs": [
    {
     "ename": "SyntaxError",
     "evalue": "unexpected EOF while parsing (<ipython-input-1-3b9f17f3e90f>, line 5)",
     "output_type": "error",
     "traceback": [
      "\u001b[1;36m  File \u001b[1;32m\"<ipython-input-1-3b9f17f3e90f>\"\u001b[1;36m, line \u001b[1;32m5\u001b[0m\n\u001b[1;33m    print(text)\u001b[0m\n\u001b[1;37m               ^\u001b[0m\n\u001b[1;31mSyntaxError\u001b[0m\u001b[1;31m:\u001b[0m unexpected EOF while parsing\n"
     ]
    }
   ],
   "source": [
    "try: \n",
    "    file = open('text.txt', 'r')\n",
    "    text = file.read()\n",
    "    \n",
    "    print(text)"
   ]
  },
  {
   "cell_type": "code",
   "execution_count": 2,
   "metadata": {},
   "outputs": [
    {
     "ename": "UnicodeDecodeError",
     "evalue": "'utf-8' codec can't decode byte 0xa1 in position 177: invalid start byte",
     "output_type": "error",
     "traceback": [
      "\u001b[1;31m---------------------------------------------------------------------------\u001b[0m",
      "\u001b[1;31mUnicodeDecodeError\u001b[0m                        Traceback (most recent call last)",
      "\u001b[1;32m<ipython-input-2-08a2017140d9>\u001b[0m in \u001b[0;36m<module>\u001b[1;34m\u001b[0m\n\u001b[0;32m      5\u001b[0m     \u001b[0mprint\u001b[0m\u001b[1;33m(\u001b[0m\u001b[1;34m'존재하지 않음'\u001b[0m\u001b[1;33m)\u001b[0m\u001b[1;33m\u001b[0m\u001b[1;33m\u001b[0m\u001b[0m\n\u001b[0;32m      6\u001b[0m \u001b[1;32melse\u001b[0m\u001b[1;33m:\u001b[0m\u001b[1;33m\u001b[0m\u001b[1;33m\u001b[0m\u001b[0m\n\u001b[1;32m----> 7\u001b[1;33m     \u001b[0mprint\u001b[0m\u001b[1;33m(\u001b[0m\u001b[0mfile\u001b[0m\u001b[1;33m.\u001b[0m\u001b[0mread\u001b[0m\u001b[1;33m(\u001b[0m\u001b[1;33m)\u001b[0m\u001b[1;33m)\u001b[0m\u001b[1;33m\u001b[0m\u001b[1;33m\u001b[0m\u001b[0m\n\u001b[0m",
      "\u001b[1;32m~\\Miniconda3\\lib\\codecs.py\u001b[0m in \u001b[0;36mdecode\u001b[1;34m(self, input, final)\u001b[0m\n\u001b[0;32m    320\u001b[0m         \u001b[1;31m# decode input (taking the buffer into account)\u001b[0m\u001b[1;33m\u001b[0m\u001b[1;33m\u001b[0m\u001b[1;33m\u001b[0m\u001b[0m\n\u001b[0;32m    321\u001b[0m         \u001b[0mdata\u001b[0m \u001b[1;33m=\u001b[0m \u001b[0mself\u001b[0m\u001b[1;33m.\u001b[0m\u001b[0mbuffer\u001b[0m \u001b[1;33m+\u001b[0m \u001b[0minput\u001b[0m\u001b[1;33m\u001b[0m\u001b[1;33m\u001b[0m\u001b[0m\n\u001b[1;32m--> 322\u001b[1;33m         \u001b[1;33m(\u001b[0m\u001b[0mresult\u001b[0m\u001b[1;33m,\u001b[0m \u001b[0mconsumed\u001b[0m\u001b[1;33m)\u001b[0m \u001b[1;33m=\u001b[0m \u001b[0mself\u001b[0m\u001b[1;33m.\u001b[0m\u001b[0m_buffer_decode\u001b[0m\u001b[1;33m(\u001b[0m\u001b[0mdata\u001b[0m\u001b[1;33m,\u001b[0m \u001b[0mself\u001b[0m\u001b[1;33m.\u001b[0m\u001b[0merrors\u001b[0m\u001b[1;33m,\u001b[0m \u001b[0mfinal\u001b[0m\u001b[1;33m)\u001b[0m\u001b[1;33m\u001b[0m\u001b[1;33m\u001b[0m\u001b[0m\n\u001b[0m\u001b[0;32m    323\u001b[0m         \u001b[1;31m# keep undecoded input until the next call\u001b[0m\u001b[1;33m\u001b[0m\u001b[1;33m\u001b[0m\u001b[1;33m\u001b[0m\u001b[0m\n\u001b[0;32m    324\u001b[0m         \u001b[0mself\u001b[0m\u001b[1;33m.\u001b[0m\u001b[0mbuffer\u001b[0m \u001b[1;33m=\u001b[0m \u001b[0mdata\u001b[0m\u001b[1;33m[\u001b[0m\u001b[0mconsumed\u001b[0m\u001b[1;33m:\u001b[0m\u001b[1;33m]\u001b[0m\u001b[1;33m\u001b[0m\u001b[1;33m\u001b[0m\u001b[0m\n",
      "\u001b[1;31mUnicodeDecodeError\u001b[0m: 'utf-8' codec can't decode byte 0xa1 in position 177: invalid start byte"
     ]
    }
   ],
   "source": [
    "try:\n",
    "    file_name = '06_02_python.txt'\n",
    "    file = open(file_name, encoding='utf8')\n",
    "except:\n",
    "    print('존재하지 않음')\n",
    "else:\n",
    "    print(file.read())"
   ]
  },
  {
   "cell_type": "code",
   "execution_count": 5,
   "metadata": {
    "scrolled": true
   },
   "outputs": [
    {
     "name": "stdout",
     "output_type": "stream",
     "text": [
      "dx: 4 dy: 2\n"
     ]
    }
   ],
   "source": [
    "def distance(start, end):\n",
    "    dx=abs(start[0] - end[0])\n",
    "    dy=abs(start[1] - end[1])\n",
    "    return dx, dy\n",
    "\n",
    "start = (1, 1)\n",
    "end = (5, 3)\n",
    "\n",
    "dx, dy = distance(start, end)\n",
    "\n",
    "print('dx:', dx, 'dy:', dy)"
   ]
  },
  {
   "cell_type": "code",
   "execution_count": 7,
   "metadata": {
    "scrolled": true
   },
   "outputs": [
    {
     "name": "stdout",
     "output_type": "stream",
     "text": [
      "컴파일 언어가 아닌 것은?\n",
      "1. C 2. C# 3. Python 4. swift => 1\n",
      "컴퓨터 장치가 아닌 것은?\n",
      "1. HDD 2. SDD 3. RAM 4. CPU => \n",
      "파이썬의 자료형이 아닌 것은?\n",
      "1. str 2. tuple 3. list 4. Map => 2\n",
      "재입력\n"
     ]
    }
   ],
   "source": [
    "print('컴파일 언어가 아닌 것은?')\n",
    "answer1 = input('1. C 2. C# 3. Python 4. swift => ')\n",
    "\n",
    "print('컴퓨터 장치가 아닌 것은?')\n",
    "answer2 = input('1. HDD 2. SDD 3. RAM 4. CPU => ')\n",
    "\n",
    "print('파이썬의 자료형이 아닌 것은?')\n",
    "answer3 = input('1. str 2. tuple 3. list 4. Map => ')\n",
    "\n",
    "answer_list = list()\n",
    "answer_list.append(answer1)\n",
    "answer_list.append(answer2)\n",
    "answer_list.append(answer3)\n",
    "# 코드 작성\n",
    "if all(answer_list):\n",
    "    print('제출 완료')\n",
    "else:\n",
    "    print('재입력')"
   ]
  },
  {
   "cell_type": "code",
   "execution_count": 9,
   "metadata": {},
   "outputs": [
    {
     "name": "stdout",
     "output_type": "stream",
     "text": [
      "몫 7\n",
      "나머지 11\n",
      "(7, 11)\n"
     ]
    }
   ],
   "source": [
    "a = 123\n",
    "b = 16\n",
    "quotient, remainder = divmod(a, b)\n",
    "\n",
    "print('몫', quotient)\n",
    "print('나머지', remainder)\n",
    "print(c)"
   ]
  },
  {
   "cell_type": "code",
   "execution_count": 11,
   "metadata": {
    "scrolled": true
   },
   "outputs": [
    {
     "name": "stdout",
     "output_type": "stream",
     "text": [
      "{}\n"
     ]
    }
   ],
   "source": [
    "char_list = ['a', 'b', 'c', 'd', 'e', 'f', 'g']\n",
    "char_dict = {}\n",
    "enumerate(char_list)\n",
    "print(char_dict)"
   ]
  },
  {
   "cell_type": "code",
   "execution_count": 12,
   "metadata": {},
   "outputs": [
    {
     "data": {
      "text/plain": [
       "[1, 3, 8]"
      ]
     },
     "execution_count": 12,
     "metadata": {},
     "output_type": "execute_result"
    }
   ],
   "source": [
    "num_list = [1, -2, 3, -5, 8, -3]\n",
    "list(filter( lambda n : n > 0, num_list))"
   ]
  },
  {
   "cell_type": "code",
   "execution_count": 13,
   "metadata": {},
   "outputs": [
    {
     "data": {
      "text/plain": [
       "[1, 2, 3, 4, 5, 6, 7, 8, 9, 10, 11, 12, 13, 14, 15, 16, 17, 18, 19, 20]"
      ]
     },
     "execution_count": 13,
     "metadata": {},
     "output_type": "execute_result"
    }
   ],
   "source": [
    "num_list = range(1, 21)\n",
    "list(filter( lambda x : x != 0, num_list))"
   ]
  },
  {
   "cell_type": "code",
   "execution_count": 14,
   "metadata": {},
   "outputs": [
    {
     "name": "stdout",
     "output_type": "stream",
     "text": [
      "0xbe 0x42 0xcd\n"
     ]
    }
   ],
   "source": [
    "red = 190\n",
    "green = 66\n",
    "blue = 205\n",
    "\n",
    "# 코드 작성\n",
    "r = hex(red)\n",
    "g = hex(green)\n",
    "b = hex(blue)\n",
    "\n",
    "print(r, g, b)"
   ]
  },
  {
   "cell_type": "markdown",
   "metadata": {},
   "source": [
    "####  주어진 16진수 문자를 이용하여 실행결과와 같이 출력될 수 있도록\n",
    " show_hex_to_ch() 함수 작성 (split(), chr(), int() 등 이용)\n"
   ]
  },
  {
   "cell_type": "code",
   "execution_count": 27,
   "metadata": {
    "scrolled": true
   },
   "outputs": [
    {
     "name": "stdout",
     "output_type": "stream",
     "text": [
      "HELLO\n",
      "GGOREB\n"
     ]
    }
   ],
   "source": [
    "hexa_string1 = '48 45 4C 4C 4F'\n",
    "hexa_string2 = '47 47 4F 52 45 42'\n",
    "def show_hex_to_ch(hexa_string):\n",
    " # 코드 작성\n",
    "    hexa_list = hexa_string.split(' ')\n",
    "    for hexa in hexa_list:\n",
    "        print(chr(int(hexa, 16)), end='') \n",
    "    print()\n",
    "    \n",
    "show_hex_to_ch(hexa_string1)\n",
    "show_hex_to_ch(hexa_string2)"
   ]
  },
  {
   "cell_type": "markdown",
   "metadata": {},
   "source": [
    "#### Values 리스트 변수에 저장되어 있는 요소 중 모든 정수(int)와 실수(float)의 합 구하기"
   ]
  },
  {
   "cell_type": "code",
   "execution_count": 31,
   "metadata": {},
   "outputs": [
    {
     "name": "stdout",
     "output_type": "stream",
     "text": [
      "29.04\n"
     ]
    }
   ],
   "source": [
    "values = [10, 'a', True, {}, [], -4, 23.24, (1,), -1.2]\n",
    "result = 0\n",
    "# 코드 작성\n",
    "for value in values:\n",
    "    if not isinstance(value, bool) and isinstance(value, int) or isinstance(value, float):\n",
    "        result += value\n",
    "        \n",
    "print(result) # 29.04"
   ]
  },
  {
   "cell_type": "code",
   "execution_count": 32,
   "metadata": {},
   "outputs": [
    {
     "data": {
      "text/plain": [
       "True"
      ]
     },
     "execution_count": 32,
     "metadata": {},
     "output_type": "execute_result"
    }
   ],
   "source": [
    "isinstance(True, bool)"
   ]
  },
  {
   "cell_type": "code",
   "execution_count": 34,
   "metadata": {
    "scrolled": true
   },
   "outputs": [
    {
     "ename": "NameError",
     "evalue": "name 'numlist' is not defined",
     "output_type": "error",
     "traceback": [
      "\u001b[1;31m---------------------------------------------------------------------------\u001b[0m",
      "\u001b[1;31mNameError\u001b[0m                                 Traceback (most recent call last)",
      "\u001b[1;32m<ipython-input-34-ccdad2d41b80>\u001b[0m in \u001b[0;36m<module>\u001b[1;34m\u001b[0m\n\u001b[0;32m      3\u001b[0m     \u001b[1;32mreturn\u001b[0m \u001b[0mx\u001b[0m \u001b[1;33m*\u001b[0m \u001b[1;36m3\u001b[0m\u001b[1;33m\u001b[0m\u001b[1;33m\u001b[0m\u001b[0m\n\u001b[0;32m      4\u001b[0m \u001b[1;33m\u001b[0m\u001b[0m\n\u001b[1;32m----> 5\u001b[1;33m \u001b[0mlist\u001b[0m\u001b[1;33m(\u001b[0m\u001b[0mmap\u001b[0m\u001b[1;33m(\u001b[0m\u001b[0mmul\u001b[0m\u001b[1;33m,\u001b[0m \u001b[0mnumlist\u001b[0m\u001b[1;33m)\u001b[0m\u001b[1;33m)\u001b[0m\u001b[1;33m\u001b[0m\u001b[1;33m\u001b[0m\u001b[0m\n\u001b[0m",
      "\u001b[1;31mNameError\u001b[0m: name 'numlist' is not defined"
     ]
    }
   ],
   "source": [
    "num_list = [1, 2, 3, 4]\n",
    "def mul(x):\n",
    "    return x * 3\n",
    "    \n",
    "list(map(mul, numlist))\n"
   ]
  },
  {
   "cell_type": "code",
   "execution_count": 35,
   "metadata": {},
   "outputs": [
    {
     "data": {
      "text/plain": [
       "[3, 6, 9, 12]"
      ]
     },
     "execution_count": 35,
     "metadata": {},
     "output_type": "execute_result"
    }
   ],
   "source": [
    "num_list = [1, 2, 3, 4]\n",
    "list( map( lambda x : x * 3, num_list ))"
   ]
  },
  {
   "cell_type": "code",
   "execution_count": 39,
   "metadata": {},
   "outputs": [
    {
     "data": {
      "text/plain": [
       "[2, 4, 8, 16]"
      ]
     },
     "execution_count": 39,
     "metadata": {},
     "output_type": "execute_result"
    }
   ],
   "source": [
    "num_list = [1, 2, 3, 4]\n",
    "list(map( lambda x: 2 ** x, num_list))"
   ]
  },
  {
   "cell_type": "code",
   "execution_count": 40,
   "metadata": {},
   "outputs": [
    {
     "name": "stdout",
     "output_type": "stream",
     "text": [
      "7 -8 9\n"
     ]
    }
   ],
   "source": [
    "num_list = [-8, 2, 7, 5, -3, 5, 0, 1]\n",
    "print( max(num_list), min(num_list), sum(num_list))"
   ]
  },
  {
   "cell_type": "code",
   "execution_count": 42,
   "metadata": {},
   "outputs": [
    {
     "name": "stdout",
     "output_type": "stream",
     "text": [
      "\n",
      "65 83 67 73 73 32 84 65 66 76 69 80 89 84 72 79 78 "
     ]
    }
   ],
   "source": [
    "string1 = 'ASCII TABLE'\n",
    "string2 = 'PYTHON'\n",
    "def show_ch_to_ascii(string):\n",
    "    # 코드 작성\n",
    "    for s in string:\n",
    "        print(ord(s), end=' ')\n",
    "\n",
    "print()\n",
    "show_ch_to_ascii(string1)\n",
    "show_ch_to_ascii(string2)"
   ]
  },
  {
   "cell_type": "code",
   "execution_count": 54,
   "metadata": {},
   "outputs": [
    {
     "name": "stdout",
     "output_type": "stream",
     "text": [
      "<zip object at 0x000002403B8A2C88>\n",
      "[(1, 'a', '가'), (2, 'b', '나'), (3, 'c', '다'), (4, 'd', '라')]\n",
      "가\n",
      "나\n",
      "다\n",
      "라\n"
     ]
    }
   ],
   "source": [
    "list1 = [1, 2, 3, 4]\n",
    "list2 = ['a', 'b', 'c', 'd']\n",
    "list3 = ['가', '나', '다', '라']\n",
    "# 코드 작성\n",
    "\n",
    "print(zip(list1, list2, list3))\n",
    "print(list(zip(list1, list2, list3)))\n",
    "\n",
    "for a, b, c in zip(list1, list2, list3):\n",
    "    print(c)\n",
    "\n"
   ]
  },
  {
   "cell_type": "code",
   "execution_count": 55,
   "metadata": {
    "scrolled": true
   },
   "outputs": [
    {
     "name": "stdout",
     "output_type": "stream",
     "text": [
      "3\n",
      "c\n",
      "다\n"
     ]
    }
   ],
   "source": [
    "data = ([1, 2, 3, 4], ['a', 'b', 'c', 'd'], ['가', '나', '다', '라'])\n",
    "for a, b, c, d in data:\n",
    "    print(c)"
   ]
  }
 ],
 "metadata": {
  "kernelspec": {
   "display_name": "Python 3",
   "language": "python",
   "name": "python3"
  },
  "language_info": {
   "codemirror_mode": {
    "name": "ipython",
    "version": 3
   },
   "file_extension": ".py",
   "mimetype": "text/x-python",
   "name": "python",
   "nbconvert_exporter": "python",
   "pygments_lexer": "ipython3",
   "version": "3.7.4"
  }
 },
 "nbformat": 4,
 "nbformat_minor": 2
}
