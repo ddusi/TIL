{
 "cells": [
  {
   "cell_type": "code",
   "execution_count": null,
   "metadata": {},
   "outputs": [],
   "source": [
    "class Letter:\n",
    " # 변수 선언 및 초기화\n",
    " # write 메소드(함수) 작성\n",
    " # show 메소드(함수) 작성\n",
    "\n",
    "letter1 = Letter()\n",
    "letter1.write('가나다라')\n",
    "letter1.write('카타파하')\n",
    "\n",
    "letter2 = Letter()\n",
    "letter2.write('ABCD')\n",
    "letter2.write('WXYZ')\n",
    "\n",
    "print(letter1.show())\n",
    "print(letter2.show())\n",
    "\n",
    "\n",
    "\n"
   ]
  }
 ],
 "metadata": {
  "kernelspec": {
   "display_name": "Python 3",
   "language": "python",
   "name": "python3"
  },
  "language_info": {
   "codemirror_mode": {
    "name": "ipython",
    "version": 3
   },
   "file_extension": ".py",
   "mimetype": "text/x-python",
   "name": "python",
   "nbconvert_exporter": "python",
   "pygments_lexer": "ipython3",
   "version": "3.7.4"
  }
 },
 "nbformat": 4,
 "nbformat_minor": 2
}
