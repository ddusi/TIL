{
 "cells": [
  {
   "cell_type": "code",
   "execution_count": 4,
   "metadata": {},
   "outputs": [
    {
     "name": "stdout",
     "output_type": "stream",
     "text": [
      "True\n"
     ]
    }
   ],
   "source": [
    "import re\n",
    "pat = re.compile('[a-z0-9]') # a-z, 0~9 만 입력가능\n",
    "s = 'zzz'\n",
    "if pat.match( s ):\n",
    "    print(True)\n",
    "else:\n",
    "    print(False)"
   ]
  },
  {
   "cell_type": "code",
   "execution_count": 8,
   "metadata": {},
   "outputs": [
    {
     "name": "stdout",
     "output_type": "stream",
     "text": [
      "False\n"
     ]
    }
   ],
   "source": [
    "import re\n",
    "pat = re.compile('^a.*[xz]$') # a-z, 0~9 만 입력가능\n",
    "s = 'a'\n",
    "if pat.match( s ):\n",
    "    print(True)\n",
    "else:\n",
    "    print(False)"
   ]
  },
  {
   "cell_type": "code",
   "execution_count": 10,
   "metadata": {},
   "outputs": [
    {
     "name": "stdout",
     "output_type": "stream",
     "text": [
      "<re.Match object; span=(0, 14), match='791111-1234567'>\n"
     ]
    }
   ],
   "source": [
    "import re\n",
    "\n",
    "text = '791111-1234567'\n",
    "regex = '[0-9]{6}-[1-4]{1}\\d{6}'\n",
    "pattern = re.compile(regex)\n",
    "res = pattern.match(text)\n",
    "\n",
    "print(res)"
   ]
  },
  {
   "cell_type": "code",
   "execution_count": 12,
   "metadata": {},
   "outputs": [
    {
     "name": "stdout",
     "output_type": "stream",
     "text": [
      "<re.Match object; span=(0, 13), match='123-12-123456'>\n"
     ]
    }
   ],
   "source": [
    "import re\n",
    "\n",
    "text = '123-12-123456'\n",
    "regex = '1\\d{2}-1\\d{1}-\\d{6}'\n",
    "pattern = re.compile(regex)\n",
    "res = pattern.match(text)\n",
    "\n",
    "print(res)"
   ]
  },
  {
   "cell_type": "code",
   "execution_count": 13,
   "metadata": {},
   "outputs": [
    {
     "name": "stdout",
     "output_type": "stream",
     "text": [
      "<re.Match object; span=(0, 14), match='791111-1234567'>\n"
     ]
    }
   ],
   "source": [
    "import re\n",
    "\n",
    "text = '791111-1234567'\n",
    "regex = '[0-9]{6}-([1-4]{1}\\d{6}$)'\n",
    "pattern = re.compile(regex)\n",
    "res = pattern.match(text)\n",
    "\n",
    "print(res)"
   ]
  },
  {
   "cell_type": "code",
   "execution_count": 16,
   "metadata": {},
   "outputs": [
    {
     "name": "stdout",
     "output_type": "stream",
     "text": [
      "<re.Match object; span=(0, 41), match='안녕하세요. 저는 OOO에서 태어났고... 열심히 하겠습니다. 감사합니다.'>\n"
     ]
    }
   ],
   "source": [
    "import re\n",
    "text = '안녕하세요. 저는 OOO에서 태어났고... 열심히 하겠습니다. 감사합니다.'\n",
    "\n",
    "regex = '안녕하세요.*열심히.*감사합니다[.]'\n",
    "pattern = re.compile(regex)\n",
    "res = pattern.match(text)\n",
    "\n",
    "print(res)"
   ]
  },
  {
   "cell_type": "code",
   "execution_count": 18,
   "metadata": {},
   "outputs": [
    {
     "name": "stdout",
     "output_type": "stream",
     "text": [
      "꼬렙\n",
      "1234\n"
     ]
    }
   ],
   "source": [
    "import re\n",
    "\n",
    "text = '이름:꼬렙, 전화번호:1234'\n",
    "regex = '이름:(.+), 전화번호:(\\d+)$'\n",
    "\n",
    "pattern = re.compile(regex)\n",
    "res = pattern.match(text)\n",
    "print(res.group(1))\n",
    "print(res.group(2))\n"
   ]
  },
  {
   "cell_type": "code",
   "execution_count": 22,
   "metadata": {},
   "outputs": [
    {
     "name": "stdout",
     "output_type": "stream",
     "text": [
      "<re.Match object; span=(0, 8), match='98zx9876'>\n"
     ]
    }
   ],
   "source": [
    "import re\n",
    "\n",
    "text = '12ab1234'\n",
    "regex = '\\d{2}[a-z]{2}[0-9]{4}$'\n",
    "pattern = re.compile(regex)\n",
    "res = pattern.match(text)\n",
    "\n",
    "print(res)"
   ]
  },
  {
   "cell_type": "code",
   "execution_count": 36,
   "metadata": {},
   "outputs": [
    {
     "name": "stdout",
     "output_type": "stream",
     "text": [
      "None\n"
     ]
    }
   ],
   "source": [
    "import re\n",
    "\n",
    "text = 'abcd1234'\n",
    "regex = '.^[a-zA-Z0-9]*$'\n",
    "pattern = re.compile(regex)\n",
    "res = pattern.match(text)\n",
    "\n",
    "print(res)\n"
   ]
  },
  {
   "cell_type": "code",
   "execution_count": 44,
   "metadata": {},
   "outputs": [
    {
     "name": "stdout",
     "output_type": "stream",
     "text": [
      "100-99-23242324\n"
     ]
    }
   ],
   "source": [
    "import re\n",
    "\n",
    "text = '대표자 : 꼬렙 사업자등록번호 : 100-99-23242324 대표전화 : 051-1234-5678'\n",
    "regex = '\\d{3}-\\d{2}-\\d{8}'\n",
    "pattern = re.compile(regex)\n",
    "res = pattern.search(text)\n",
    "\n",
    "print(res.group())\n"
   ]
  },
  {
   "cell_type": "code",
   "execution_count": 41,
   "metadata": {},
   "outputs": [
    {
     "name": "stdout",
     "output_type": "stream",
     "text": [
      "051-1234-5678\n"
     ]
    }
   ],
   "source": [
    "import re\n",
    "text = '대표자 : 꼬렙 사업자등록번호 : 100-99-23242324 대표전화 : 051-1234-5678'\n",
    "regex = '\\d{2,3}-\\d{4}-\\d{4}'\n",
    "pattern = re.compile(regex)\n",
    "res = pattern.search(text)\n",
    "print(res.group())"
   ]
  },
  {
   "cell_type": "code",
   "execution_count": 51,
   "metadata": {},
   "outputs": [
    {
     "name": "stdout",
     "output_type": "stream",
     "text": [
      "['서울', '강남', '맛집', '주꾸미']\n",
      "['서울', '강남', '맛집', '주꾸미']\n",
      "['서울', '강남', '맛집', '주꾸미']\n",
      "['서울', '강남', '맛집', '주꾸미']\n"
     ]
    }
   ],
   "source": [
    "\n",
    "import re\n",
    "text = '#서울, #강남, #맛집, #주꾸미'\n",
    "regex = '#(\\w+),*\\s*'\n",
    "pattern = re.compile(regex)\n",
    "res = pattern.findall(text)\n",
    "for it in res:\n",
    "    print(res)\n"
   ]
  },
  {
   "cell_type": "code",
   "execution_count": 57,
   "metadata": {},
   "outputs": [
    {
     "name": "stdout",
     "output_type": "stream",
     "text": [
      "010-****-8181\n"
     ]
    }
   ],
   "source": [
    "import re\n",
    "text = '010-8478-8181'\n",
    "regex = '(\\d{3})-\\d{4}-(\\d{4})'\n",
    "pattern = re.compile(regex)\n",
    "change = '\\g<1>-****-\\g<2>'\n",
    "res = pattern.sub(change, text)\n",
    "print(res)"
   ]
  },
  {
   "cell_type": "code",
   "execution_count": 59,
   "metadata": {
    "scrolled": true
   },
   "outputs": [
    {
     "name": "stdout",
     "output_type": "stream",
     "text": [
      "ggoreb@*****.com\n",
      "seorab@*****.com\n",
      "human@*****.com\n"
     ]
    }
   ],
   "source": [
    "import re\n",
    "user_list = ['ggoreb@naver.com', 'seorab@gmail.com', 'human@ggoreb.com']\n",
    "regex = '(\\w+@)\\w+([.]com)'\n",
    "pattern = re.compile(regex)\n",
    "change = '\\g<1>*****\\g<2>'\n",
    "for user in user_list:\n",
    " res = pattern.sub(change, user)\n",
    " print(res)"
   ]
  },
  {
   "cell_type": "code",
   "execution_count": 62,
   "metadata": {},
   "outputs": [],
   "source": [
    "import requests\n",
    "result = requests.get('https://dhlottery.co.kr/gameResult.do?method=byWin&drwNo=893')\n",
    "result.encoding = None"
   ]
  },
  {
   "cell_type": "code",
   "execution_count": 64,
   "metadata": {},
   "outputs": [
    {
     "data": {
      "text/plain": [
       "['1', '15', '17', '23', '25', '41', '10']"
      ]
     },
     "execution_count": 64,
     "metadata": {},
     "output_type": "execute_result"
    }
   ],
   "source": [
    "import re\n",
    "pat = re.compile('lrg\\s+ball.+>(\\d+)</span>')\n",
    "pat.findall(result.text)"
   ]
  },
  {
   "cell_type": "code",
   "execution_count": null,
   "metadata": {},
   "outputs": [],
   "source": []
  },
  {
   "cell_type": "code",
   "execution_count": 17,
   "metadata": {},
   "outputs": [
    {
     "name": "stdout",
     "output_type": "stream",
     "text": [
      "[2, 12, 28, 29, 34, 45]\n",
      "[5, 7, 24, 37, 42, 44]\n",
      "[4, 15, 20, 22, 25, 40]\n",
      "[2, 4, 18, 20, 29, 32]\n",
      "[8, 11, 24, 25, 33, 39]\n"
     ]
    }
   ],
   "source": [
    "import random\n",
    "for j in range(5):\n",
    "    num = set()\n",
    "    \n",
    "    while True:\n",
    "        result = random.randint(1,45)\n",
    "        num.add(result)\n",
    "        if len(num) == 6:\n",
    "            break\n",
    "    num = sorted(num)    \n",
    "    print(num)\n",
    "    \n",
    "#     for i in range(6):\n",
    "#         result = random.randint(1,45)\n",
    "#         while True:\n",
    "#             if result not in num:\n",
    "#                 break\n",
    "#             else:\n",
    "#                 result = random.randint(1,45)\n",
    "                \n",
    "        \n",
    "#         if result not in num:\n",
    "#             num.append(result)\n",
    "#         elif result in num: \n",
    "#             while True:\n",
    "#                 result = random.randint(1,45)\n",
    "#                 if result not in num:\n",
    "#                     break\n",
    "#     num.sort()\n",
    "#     print(num)"
   ]
  },
  {
   "cell_type": "code",
   "execution_count": null,
   "metadata": {},
   "outputs": [],
   "source": []
  },
  {
   "cell_type": "code",
   "execution_count": null,
   "metadata": {},
   "outputs": [],
   "source": []
  },
  {
   "cell_type": "code",
   "execution_count": null,
   "metadata": {},
   "outputs": [],
   "source": []
  },
  {
   "cell_type": "code",
   "execution_count": null,
   "metadata": {},
   "outputs": [],
   "source": []
  }
 ],
 "metadata": {
  "kernelspec": {
   "display_name": "Python 3",
   "language": "python",
   "name": "python3"
  },
  "language_info": {
   "codemirror_mode": {
    "name": "ipython",
    "version": 3
   },
   "file_extension": ".py",
   "mimetype": "text/x-python",
   "name": "python",
   "nbconvert_exporter": "python",
   "pygments_lexer": "ipython3",
   "version": "3.7.4"
  }
 },
 "nbformat": 4,
 "nbformat_minor": 2
}
