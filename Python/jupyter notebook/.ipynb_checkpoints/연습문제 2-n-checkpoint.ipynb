{
 "cells": [
  {
   "cell_type": "markdown",
   "metadata": {},
   "source": [
    "## 연습문제 2-1"
   ]
  },
  {
   "cell_type": "code",
   "execution_count": 8,
   "metadata": {},
   "outputs": [
    {
     "name": "stdout",
     "output_type": "stream",
     "text": [
      "10\n",
      "퇴근~\n"
     ]
    }
   ],
   "source": [
    "workingTime = int(input())\n",
    "\n",
    "if workingTime >= 8:\n",
    "    print('퇴근~')\n",
    "else:\n",
    "    print('계속 근무!')\n"
   ]
  },
  {
   "cell_type": "code",
   "execution_count": 16,
   "metadata": {},
   "outputs": [
    {
     "name": "stdout",
     "output_type": "stream",
     "text": [
      "60\n",
      "C학점\n"
     ]
    }
   ],
   "source": [
    "score = int(input())\n",
    "\n",
    "if score >= 90:\n",
    "    print(\"A학점\")\n",
    "elif score >= 70:\n",
    "    print(\"C학점\")\n",
    "else:\n",
    "    print(\"C학점\")"
   ]
  },
  {
   "cell_type": "code",
   "execution_count": 32,
   "metadata": {},
   "outputs": [
    {
     "name": "stdout",
     "output_type": "stream",
     "text": [
      "우리카드\n",
      "10% 할인 후 결제\n",
      "신한카드\n",
      "그냥 결제\n",
      "KB카드\n",
      "그냥 결제\n"
     ]
    }
   ],
   "source": [
    "cardList = ['우리카드', '신한카드', 'KB카드']\n",
    "\n",
    "for i in cardList :\n",
    "    print(i)\n",
    "    if '우리카드' == i:\n",
    "        print(\"10% 할인 후 결제\") \n",
    "    else:\n",
    "        print(\"그냥 결제\")"
   ]
  },
  {
   "cell_type": "markdown",
   "metadata": {},
   "source": [
    "\n",
    "ㅡㅡㅡㅡㅡㅡㅡㅡㅡㅡㅡㅡㅡㅡㅡㅡㅡㅡㅡㅡㅡㅡㅡㅡㅡㅡㅡㅡㅡㅡㅡㅡㅡㅡㅡ\n",
    "\n",
    "1. 3과목 이상을 수강하였고 평점이 70점 이상인 경우 '학위 취득'\n",
    "                                         → 2가지 조건 만족\n",
    "    3과목 이상을 수강하였거나 평점이 70점 이상인 경우 '졸업'\n",
    "                                         → 1가지 조건 만족\n",
    "    그 외의 경우 '재수강'을 출력하는 조건문 작성\n",
    "    \n",
    "ㅡㅡㅡㅡㅡㅡㅡㅡㅡㅡㅡㅡㅡㅡㅡㅡㅡㅡㅡㅡㅡㅡㅡㅡㅡㅡㅡㅡㅡㅡㅡㅡㅡㅡㅡ"
   ]
  },
  {
   "cell_type": "code",
   "execution_count": 38,
   "metadata": {},
   "outputs": [
    {
     "name": "stdout",
     "output_type": "stream",
     "text": [
      "20\n",
      "재수강\n"
     ]
    }
   ],
   "source": [
    "subjectList = ['운영체제', '데이터베이스', '객체지향언어'] # 수강한 과목 리스트\n",
    "average = int(input()) # 평점\n",
    "\n",
    "if len(subjectList) == 3 and average >= 70:\n",
    "    print('학위취득')\n",
    "elif len(subjectList) == 3 or average >= 70:\n",
    "    print('졸업')\n",
    "else:\n",
    "    print('재수강')\n",
    "    \n"
   ]
  },
  {
   "cell_type": "markdown",
   "metadata": {},
   "source": [
    "ㅡㅡㅡㅡㅡㅡㅡㅡㅡㅡㅡㅡㅡㅡㅡㅡㅡㅡㅡㅡㅡㅡㅡㅡㅡㅡㅡㅡㅡㅡㅡㅡㅡㅡㅡ\n",
    "\n",
    "2. 이수한 과목 목록 중 '자료구조'가 있는지 확인하고\n",
    "  '자료구조'가 있다면 점수를 확인한 후\n",
    "   60점 이상이면 '이수 완료'를 출력하는 조건문 작성\n",
    "   \n",
    "ㅡㅡㅡㅡㅡㅡㅡㅡㅡㅡㅡㅡㅡㅡㅡㅡㅡㅡㅡㅡㅡㅡㅡㅡㅡㅡㅡㅡㅡㅡㅡㅡㅡㅡㅡ\n"
   ]
  },
  {
   "cell_type": "code",
   "execution_count": 42,
   "metadata": {},
   "outputs": [
    {
     "name": "stdout",
     "output_type": "stream",
     "text": [
      "이수 완료\n"
     ]
    }
   ],
   "source": [
    "subject = {'자료구조' : 60, '알고리즘' : 60, '네트워크' : 90}\n",
    "\n",
    "a = subject.get('자료구조')\n",
    "if a >= 60:\n",
    "    print(\"이수 완료\")\n",
    "else:\n",
    "    print(\"이수 미달\")"
   ]
  },
  {
   "cell_type": "markdown",
   "metadata": {},
   "source": [
    "# 연습문제 2-2"
   ]
  },
  {
   "cell_type": "code",
   "execution_count": 1,
   "metadata": {},
   "outputs": [
    {
     "name": "stdout",
     "output_type": "stream",
     "text": [
      "졸업\n"
     ]
    }
   ],
   "source": [
    "subjectList = ['운영체제', '데이터베이스', '객체지향언어'] # 수강한 과목 리스트\n",
    "average = 60 # 평점\n",
    "\n",
    "if len(subjectList) == 3 and average >= 70:\n",
    "    print('학위취득')\n",
    "elif len(subjectList) == 3 or average >= 70:\n",
    "    print('졸업')\n",
    "else:\n",
    "    print('재수강')\n",
    "\n",
    "# 코드 작성\n",
    "# 리스트 요소의 개수를 확인할 때 len() 함수 사용, ex) len(subjectList)"
   ]
  },
  {
   "cell_type": "code",
   "execution_count": 5,
   "metadata": {},
   "outputs": [
    {
     "name": "stdout",
     "output_type": "stream",
     "text": [
      "이수완료\n"
     ]
    }
   ],
   "source": [
    "subject = {'자료구조' : 80, '알고리즘' : 60, '네트워크' : 90}\n",
    "\n",
    "if subject.get('자료구조') >= 60:\n",
    "    print('이수완료')\n",
    "    \n",
    "else:\n",
    "    print('이수 미완료')"
   ]
  },
  {
   "cell_type": "markdown",
   "metadata": {},
   "source": [
    "# 연습문제 2-3 "
   ]
  },
  {
   "cell_type": "code",
   "execution_count": 6,
   "metadata": {},
   "outputs": [
    {
     "name": "stdout",
     "output_type": "stream",
     "text": [
      "짝수입니다.\n"
     ]
    }
   ],
   "source": [
    "num = 122\n",
    "if num % 2 == 0:\n",
    "    print('짝수입니다.')\n",
    "else:\n",
    "    print('홀수입니다.')"
   ]
  },
  {
   "cell_type": "code",
   "execution_count": 14,
   "metadata": {},
   "outputs": [
    {
     "name": "stdout",
     "output_type": "stream",
     "text": [
      "쿵\n"
     ]
    }
   ],
   "source": [
    "score = 15\n",
    "\n",
    "if score % 6 == 0:\n",
    "    print('쿵짝')\n",
    "\n",
    "elif score % 2 == 0:\n",
    "    print('짝')\n",
    "elif score % 3 == 0:\n",
    "    print('쿵')\n",
    "    \n",
    "else:\n",
    "    print(score)"
   ]
  },
  {
   "cell_type": "markdown",
   "metadata": {},
   "source": [
    "# 연습문제 2-4"
   ]
  },
  {
   "cell_type": "code",
   "execution_count": 28,
   "metadata": {},
   "outputs": [
    {
     "name": "stdout",
     "output_type": "stream",
     "text": [
      "500500\n"
     ]
    }
   ],
   "source": [
    "num = 1\n",
    "total = 0\n",
    "\n",
    "# 코드 작성\n",
    "for num in range(1001):\n",
    "    total += num\n",
    "    num + 1\n",
    "    \n",
    "\n",
    "print(total)"
   ]
  },
  {
   "cell_type": "code",
   "execution_count": 33,
   "metadata": {},
   "outputs": [
    {
     "name": "stdout",
     "output_type": "stream",
     "text": [
      "500500\n"
     ]
    }
   ],
   "source": [
    "num = 1\n",
    "total = 0\n",
    "\n",
    "while num <= 1000:\n",
    "    total += num\n",
    "    num += 1\n",
    "    \n",
    "print(total)"
   ]
  },
  {
   "cell_type": "code",
   "execution_count": 34,
   "metadata": {},
   "outputs": [
    {
     "name": "stdout",
     "output_type": "stream",
     "text": [
      "166833\n"
     ]
    }
   ],
   "source": [
    "num = 1\n",
    "total = 0\n",
    "\n",
    "for num in range(1,1001):\n",
    "    if num % 3 == 0:\n",
    "        total += num\n",
    "\n",
    "print(total)"
   ]
  },
  {
   "cell_type": "code",
   "execution_count": 37,
   "metadata": {},
   "outputs": [
    {
     "name": "stdout",
     "output_type": "stream",
     "text": [
      "166833\n"
     ]
    }
   ],
   "source": [
    "num = 1\n",
    "total = 0\n",
    "\n",
    "while num <= 1000:\n",
    "    if num % 3 == 0:\n",
    "        total += num\n",
    "    num += 1\n",
    "        \n",
    "print(total)"
   ]
  },
  {
   "cell_type": "markdown",
   "metadata": {},
   "source": [
    "# 연습문제 2-5"
   ]
  },
  {
   "cell_type": "code",
   "execution_count": 56,
   "metadata": {
    "scrolled": true
   },
   "outputs": [
    {
     "name": "stdout",
     "output_type": "stream",
     "text": [
      "481\n"
     ]
    }
   ],
   "source": [
    "scoreList = [20, 55, 67, 82, 45, 33, 90, 87, 100, 25]\n",
    "total = 0\n",
    "# 코드 작성 - List pop() 함수 이용\n",
    "for i in reversed(scoreList):\n",
    "    score = scoreList.pop()\n",
    "    \n",
    "    if score >= 50:\n",
    "        total += score\n",
    "\n",
    "print(total)"
   ]
  },
  {
   "cell_type": "markdown",
   "metadata": {},
   "source": [
    "# 질문 사항"
   ]
  },
  {
   "cell_type": "code",
   "execution_count": 67,
   "metadata": {},
   "outputs": [
    {
     "name": "stdout",
     "output_type": "stream",
     "text": [
      "20\n",
      "55\n",
      "67\n",
      "82\n",
      "45\n",
      "204\n"
     ]
    }
   ],
   "source": [
    "scoreList = [20, 55, 67, 82, 45, 33, 90, 87, 100, 25]\n",
    "total = 0\n",
    "# 코드 작성 - List pop() 함수 이용\n",
    "for i in scoreList:\n",
    "    score = scoreList.pop(0)\n",
    "    print(score)\n",
    "    \n",
    "    if score >= 50:\n",
    "        total += score\n",
    "\n",
    "print(total)"
   ]
  },
  {
   "cell_type": "code",
   "execution_count": 42,
   "metadata": {},
   "outputs": [
    {
     "name": "stdout",
     "output_type": "stream",
     "text": [
      "481\n"
     ]
    }
   ],
   "source": [
    "scoreList = [33, 55, 67, 82, 45, 33, 90, 87, 100, 25]\n",
    "total = 0\n",
    "\n",
    "while scoreList:\n",
    "    score = scoreList.pop()\n",
    "\n",
    "    if score >= 50:\n",
    "        total += score\n",
    "\n",
    "print(total)"
   ]
  },
  {
   "cell_type": "code",
   "execution_count": 82,
   "metadata": {},
   "outputs": [
    {
     "name": "stdout",
     "output_type": "stream",
     "text": [
      "359\n"
     ]
    }
   ],
   "source": [
    "studentInfo = {\n",
    " 'a':33, 'b':55, 'c':67, 'd':82, 'e':45,\n",
    " 'f':33, 'g':90, 'h':87, 'i': 100, 'j':25\n",
    "}\n",
    "total = 0\n",
    "# 코드 작성 \n",
    "key1 = list(studentInfo.keys()) #딕셔너리의 키값만 뽑아서 리스트화 시켰다.\n",
    "\n",
    "for i in key1: #그 리스트값을 for문으로 차례로 뽑아 아래와 같은 문장에 대입\n",
    "    a = studentInfo.get(i) #딕셔너리 메서드인 get을 이용하여 values의 값에 접근.\n",
    "    if a >= 80:\n",
    "        total += a\n",
    "\n",
    "print(total)"
   ]
  },
  {
   "cell_type": "code",
   "execution_count": 85,
   "metadata": {},
   "outputs": [
    {
     "name": "stdout",
     "output_type": "stream",
     "text": [
      "359\n"
     ]
    }
   ],
   "source": [
    "studentInfo = {\n",
    " 'a':33, 'b':55, 'c':67, 'd':82, 'e':45,\n",
    " 'f':33, 'g':90, 'h':87, 'i': 100, 'j':25\n",
    "}\n",
    "total = 0\n",
    "# 코드 작성 - Dictionary values(), List pop() 등 이용\n",
    "val = list(studentInfo.values())\n",
    "\n",
    "while val:\n",
    "    val2 = val.pop()\n",
    "    \n",
    "    if val2 >= 80:\n",
    "        total += val2\n",
    "    \n",
    "\n",
    "print(total)"
   ]
  },
  {
   "cell_type": "markdown",
   "metadata": {},
   "source": [
    "# 연습문제 2-6 "
   ]
  },
  {
   "cell_type": "code",
   "execution_count": 121,
   "metadata": {},
   "outputs": [
    {
     "name": "stdout",
     "output_type": "stream",
     "text": [
      "2 / 5\n",
      "1 / 2\n",
      "6 / 5\n",
      "1 / 6\n",
      "5 / 5\n",
      "두 눈이 같으므로 종료\n"
     ]
    }
   ],
   "source": [
    "import random # random 모듈 import\n",
    "\n",
    "# 코드 작성\n",
    "while True:\n",
    "    a = random.randint(1,6)\n",
    "    b = random.randint(1,6)\n",
    "    print (a,'/',b)\n",
    "    if a == b:\n",
    "        print('두 눈이 같으므로 종료')\n",
    "        break\n",
    "\n",
    "# random.randint(1, 6) 함수 이용\n",
    "# 두 눈이 같을 때 break"
   ]
  },
  {
   "cell_type": "code",
   "execution_count": 128,
   "metadata": {},
   "outputs": [
    {
     "name": "stdout",
     "output_type": "stream",
     "text": [
      "[16, 19, 5, 14, 14, 21]\n"
     ]
    }
   ],
   "source": [
    "import random\n",
    "lottoList = list() # 빈 List 생성\n",
    "# 코드 작성\n",
    "for i in range(6):\n",
    "    a = random.randint(1, 45)\n",
    "    lottoList.append(a)\n",
    "\n",
    "# 반복문 조건으로 len() 함수 이용\n",
    "# random.randint(1, 45) 함수 이용\n",
    "# 번호 생성 후 lottoList에 append\n",
    "print(lottoList)"
   ]
  },
  {
   "cell_type": "code",
   "execution_count": 135,
   "metadata": {},
   "outputs": [
    {
     "name": "stdout",
     "output_type": "stream",
     "text": [
      "[12, 18, 33, 24, 32, 33]\n"
     ]
    }
   ],
   "source": [
    "import random\n",
    "lottoList = list()\n",
    "\n",
    "while True:\n",
    "    a = random.randint(1, 45)\n",
    "    lottoList.append(a)\n",
    "    if len(lottoList) >= 6:\n",
    "        break\n",
    "\n",
    "print(lottoList)"
   ]
  },
  {
   "cell_type": "markdown",
   "metadata": {},
   "source": [
    "# 연습문제 2-7"
   ]
  },
  {
   "cell_type": "code",
   "execution_count": 139,
   "metadata": {},
   "outputs": [
    {
     "name": "stdout",
     "output_type": "stream",
     "text": [
      "*\n",
      "**\n",
      "***\n",
      "****\n",
      "*****\n"
     ]
    }
   ],
   "source": [
    "i = 1 # '*' 개수\n",
    "\n",
    "while i < 6:\n",
    "    print('*' * i)\n",
    "    i += 1\n",
    "    \n"
   ]
  },
  {
   "cell_type": "code",
   "execution_count": 141,
   "metadata": {},
   "outputs": [
    {
     "name": "stdout",
     "output_type": "stream",
     "text": [
      "*\n",
      "**\n",
      "***\n",
      "****\n",
      "*****\n"
     ]
    }
   ],
   "source": [
    "i = 1 \n",
    "\n",
    "for i in range(1,6):\n",
    "    print('*' * i)\n",
    "    i+=1"
   ]
  },
  {
   "cell_type": "code",
   "execution_count": 148,
   "metadata": {},
   "outputs": [
    {
     "name": "stdout",
     "output_type": "stream",
     "text": [
      "50\n",
      "                                                 *\n",
      "                                                **\n",
      "                                               ***\n",
      "                                              ****\n",
      "                                             *****\n",
      "                                            ******\n",
      "                                           *******\n",
      "                                          ********\n",
      "                                         *********\n",
      "                                        **********\n",
      "                                       ***********\n",
      "                                      ************\n",
      "                                     *************\n",
      "                                    **************\n",
      "                                   ***************\n",
      "                                  ****************\n",
      "                                 *****************\n",
      "                                ******************\n",
      "                               *******************\n",
      "                              ********************\n",
      "                             *********************\n",
      "                            **********************\n",
      "                           ***********************\n",
      "                          ************************\n",
      "                         *************************\n",
      "                        **************************\n",
      "                       ***************************\n",
      "                      ****************************\n",
      "                     *****************************\n",
      "                    ******************************\n",
      "                   *******************************\n",
      "                  ********************************\n",
      "                 *********************************\n",
      "                **********************************\n",
      "               ***********************************\n",
      "              ************************************\n",
      "             *************************************\n",
      "            **************************************\n",
      "           ***************************************\n",
      "          ****************************************\n",
      "         *****************************************\n",
      "        ******************************************\n",
      "       *******************************************\n",
      "      ********************************************\n",
      "     *********************************************\n",
      "    **********************************************\n",
      "   ***********************************************\n",
      "  ************************************************\n",
      " *************************************************\n",
      "**************************************************\n"
     ]
    }
   ],
   "source": [
    "i = 1 # '*' 개수\n",
    "space = 0 # 여백의 크기\n",
    "s = int(input())\n",
    "while i <= s:\n",
    "    space = s - i\n",
    "    print(' ' * space, end='')\n",
    "    print('*' * i)\n",
    "    i += 1\n",
    "\n"
   ]
  },
  {
   "cell_type": "code",
   "execution_count": null,
   "metadata": {},
   "outputs": [],
   "source": [
    "count= 0\n",
    "for i in range(1,101)\n",
    "    if "
   ]
  },
  {
   "cell_type": "code",
   "execution_count": null,
   "metadata": {},
   "outputs": [],
   "source": []
  },
  {
   "cell_type": "code",
   "execution_count": null,
   "metadata": {},
   "outputs": [],
   "source": []
  }
 ],
 "metadata": {
  "kernelspec": {
   "display_name": "Python 3",
   "language": "python",
   "name": "python3"
  },
  "language_info": {
   "codemirror_mode": {
    "name": "ipython",
    "version": 3
   },
   "file_extension": ".py",
   "mimetype": "text/x-python",
   "name": "python",
   "nbconvert_exporter": "python",
   "pygments_lexer": "ipython3",
   "version": "3.7.4"
  }
 },
 "nbformat": 4,
 "nbformat_minor": 2
}
