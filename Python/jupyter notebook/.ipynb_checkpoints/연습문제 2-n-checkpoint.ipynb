{
 "cells": [
  {
   "cell_type": "markdown",
   "metadata": {},
   "source": [
    "## 연습문제 2-1"
   ]
  },
  {
   "cell_type": "code",
   "execution_count": 8,
   "metadata": {},
   "outputs": [
    {
     "name": "stdout",
     "output_type": "stream",
     "text": [
      "10\n",
      "퇴근~\n"
     ]
    }
   ],
   "source": [
    "workingTime = int(input())\n",
    "\n",
    "if workingTime >= 8:\n",
    "    print('퇴근~')\n",
    "else:\n",
    "    print('계속 근무!')\n"
   ]
  },
  {
   "cell_type": "code",
   "execution_count": 16,
   "metadata": {},
   "outputs": [
    {
     "name": "stdout",
     "output_type": "stream",
     "text": [
      "60\n",
      "C학점\n"
     ]
    }
   ],
   "source": [
    "score = int(input())\n",
    "\n",
    "if score >= 90:\n",
    "    print(\"A학점\")\n",
    "elif score >= 70:\n",
    "    print(\"C학점\")\n",
    "else:\n",
    "    print(\"C학점\")"
   ]
  },
  {
   "cell_type": "code",
   "execution_count": 32,
   "metadata": {},
   "outputs": [
    {
     "name": "stdout",
     "output_type": "stream",
     "text": [
      "우리카드\n",
      "10% 할인 후 결제\n",
      "신한카드\n",
      "그냥 결제\n",
      "KB카드\n",
      "그냥 결제\n"
     ]
    }
   ],
   "source": [
    "cardList = ['우리카드', '신한카드', 'KB카드']\n",
    "\n",
    "for i in cardList :\n",
    "    print(i)\n",
    "    if '우리카드' == i:\n",
    "        print(\"10% 할인 후 결제\") \n",
    "    else:\n",
    "        print(\"그냥 결제\")"
   ]
  },
  {
   "cell_type": "markdown",
   "metadata": {},
   "source": [
    "\n",
    "ㅡㅡㅡㅡㅡㅡㅡㅡㅡㅡㅡㅡㅡㅡㅡㅡㅡㅡㅡㅡㅡㅡㅡㅡㅡㅡㅡㅡㅡㅡㅡㅡㅡㅡㅡ\n",
    "\n",
    "1. 3과목 이상을 수강하였고 평점이 70점 이상인 경우 '학위 취득'\n",
    "                                         → 2가지 조건 만족\n",
    "    3과목 이상을 수강하였거나 평점이 70점 이상인 경우 '졸업'\n",
    "                                         → 1가지 조건 만족\n",
    "    그 외의 경우 '재수강'을 출력하는 조건문 작성\n",
    "    \n",
    "ㅡㅡㅡㅡㅡㅡㅡㅡㅡㅡㅡㅡㅡㅡㅡㅡㅡㅡㅡㅡㅡㅡㅡㅡㅡㅡㅡㅡㅡㅡㅡㅡㅡㅡㅡ"
   ]
  },
  {
   "cell_type": "code",
   "execution_count": 38,
   "metadata": {},
   "outputs": [
    {
     "name": "stdout",
     "output_type": "stream",
     "text": [
      "20\n",
      "재수강\n"
     ]
    }
   ],
   "source": [
    "subjectList = ['운영체제', '데이터베이스', '객체지향언어'] # 수강한 과목 리스트\n",
    "average = int(input()) # 평점\n",
    "\n",
    "if len(subjectList) == 3 and average >= 70:\n",
    "    print('학위취득')\n",
    "elif len(subjectList) == 3 or average >= 70:\n",
    "    print('졸업')\n",
    "else:\n",
    "    print('재수강')\n",
    "    \n"
   ]
  },
  {
   "cell_type": "markdown",
   "metadata": {},
   "source": [
    "ㅡㅡㅡㅡㅡㅡㅡㅡㅡㅡㅡㅡㅡㅡㅡㅡㅡㅡㅡㅡㅡㅡㅡㅡㅡㅡㅡㅡㅡㅡㅡㅡㅡㅡㅡ\n",
    "\n",
    "2. 이수한 과목 목록 중 '자료구조'가 있는지 확인하고\n",
    "  '자료구조'가 있다면 점수를 확인한 후\n",
    "   60점 이상이면 '이수 완료'를 출력하는 조건문 작성\n",
    "   \n",
    "ㅡㅡㅡㅡㅡㅡㅡㅡㅡㅡㅡㅡㅡㅡㅡㅡㅡㅡㅡㅡㅡㅡㅡㅡㅡㅡㅡㅡㅡㅡㅡㅡㅡㅡㅡ\n"
   ]
  },
  {
   "cell_type": "code",
   "execution_count": 42,
   "metadata": {},
   "outputs": [
    {
     "name": "stdout",
     "output_type": "stream",
     "text": [
      "이수 완료\n"
     ]
    }
   ],
   "source": [
    "subject = {'자료구조' : 60, '알고리즘' : 60, '네트워크' : 90}\n",
    "\n",
    "a = subject.get('자료구조')\n",
    "if a >= 60:\n",
    "    print(\"이수 완료\")\n",
    "else:\n",
    "    print(\"이수 미달\")"
   ]
  },
  {
   "cell_type": "code",
   "execution_count": null,
   "metadata": {},
   "outputs": [],
   "source": []
  }
 ],
 "metadata": {
  "kernelspec": {
   "display_name": "Python 3",
   "language": "python",
   "name": "python3"
  },
  "language_info": {
   "codemirror_mode": {
    "name": "ipython",
    "version": 3
   },
   "file_extension": ".py",
   "mimetype": "text/x-python",
   "name": "python",
   "nbconvert_exporter": "python",
   "pygments_lexer": "ipython3",
   "version": "3.7.4"
  }
 },
 "nbformat": 4,
 "nbformat_minor": 2
}
