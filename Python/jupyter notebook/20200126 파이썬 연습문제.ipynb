{
 "cells": [
  {
   "cell_type": "markdown",
   "metadata": {},
   "source": [
    "# 1-1"
   ]
  },
  {
   "cell_type": "code",
   "execution_count": 14,
   "metadata": {},
   "outputs": [
    {
     "name": "stdout",
     "output_type": "stream",
     "text": [
      "총점 403점 합계 80.6점\n"
     ]
    }
   ],
   "source": [
    "num={'프로그래밍 언어':80, '데이터베이스':66, '운영체제':73, '전자계산기':90, '네트워크':94}\n",
    "sum_num=sum(num.values())\n",
    "avu=sum_num/len(num)\n",
    "\n",
    "print('총점 {0}점 합계 {1}점'.format(sum_num, avu))"
   ]
  },
  {
   "cell_type": "markdown",
   "metadata": {},
   "source": [
    "# 1-2"
   ]
  },
  {
   "cell_type": "markdown",
   "metadata": {},
   "source": [
    "1. 23을 5로 나누었을 때의 몫과 나머지 구하기\n"
   ]
  },
  {
   "cell_type": "code",
   "execution_count": 22,
   "metadata": {},
   "outputs": [
    {
     "name": "stdout",
     "output_type": "stream",
     "text": [
      "몫 4.6\n",
      "나머지 3\n"
     ]
    }
   ],
   "source": [
    "print('몫', 23/5)\n",
    "print('나머지', 23%5)"
   ]
  },
  {
   "cell_type": "markdown",
   "metadata": {},
   "source": [
    "2. 16진수 FF의 10진수 값 구하기"
   ]
  },
  {
   "cell_type": "code",
   "execution_count": 27,
   "metadata": {},
   "outputs": [
    {
     "name": "stdout",
     "output_type": "stream",
     "text": [
      "16진수 FF => 255\n"
     ]
    }
   ],
   "source": [
    "print('16진수 FF =>', 0xff)"
   ]
  },
  {
   "cell_type": "code",
   "execution_count": 29,
   "metadata": {},
   "outputs": [
    {
     "name": "stdout",
     "output_type": "stream",
     "text": [
      "8진수 33 =>  27\n"
     ]
    }
   ],
   "source": [
    "print('8진수 33 => ',0o33)"
   ]
  },
  {
   "cell_type": "markdown",
   "metadata": {},
   "source": [
    "# 1-3"
   ]
  },
  {
   "cell_type": "markdown",
   "metadata": {},
   "source": [
    "1. \"Life\" is too short, You need 'Python' 출력하기"
   ]
  },
  {
   "cell_type": "code",
   "execution_count": 34,
   "metadata": {},
   "outputs": [
    {
     "name": "stdout",
     "output_type": "stream",
     "text": [
      "\"Life\" is too short, You need 'Python' \n"
     ]
    }
   ],
   "source": [
    "print('\\\"Life\\\" is too short, You need \\'Python\\' ')"
   ]
  },
  {
   "cell_type": "markdown",
   "metadata": {},
   "source": [
    "2. 문자열 Slicing"
   ]
  },
  {
   "cell_type": "code",
   "execution_count": 36,
   "metadata": {},
   "outputs": [
    {
     "name": "stdout",
     "output_type": "stream",
     "text": [
      "2007 03 27\n"
     ]
    }
   ],
   "source": [
    "date = '2007-03-27'\n",
    "change_date = date.replace('-', ' ')\n",
    "print(change_date)"
   ]
  },
  {
   "cell_type": "markdown",
   "metadata": {},
   "source": [
    " 3. 문자열 앞뒤 공백 추가 (format함수) – 총 길이 20\n"
   ]
  },
  {
   "cell_type": "code",
   "execution_count": 38,
   "metadata": {},
   "outputs": [
    {
     "data": {
      "text/plain": [
       "'  python  '"
      ]
     },
     "execution_count": 38,
     "metadata": {},
     "output_type": "execute_result"
    }
   ],
   "source": [
    "s = 'python'\n",
    "'{0:^10}'.format(s)\n",
    "\n"
   ]
  },
  {
   "cell_type": "markdown",
   "metadata": {},
   "source": [
    "# 1-4"
   ]
  },
  {
   "cell_type": "markdown",
   "metadata": {},
   "source": [
    "1. 아래와 같은 문자열에서 \"short\"라는 문자열이 시작되는 위치(인덱스) 구하기\n",
    " (find, index)"
   ]
  },
  {
   "cell_type": "code",
   "execution_count": 43,
   "metadata": {},
   "outputs": [
    {
     "data": {
      "text/plain": [
       "12"
      ]
     },
     "execution_count": 43,
     "metadata": {},
     "output_type": "execute_result"
    }
   ],
   "source": [
    "s = 'Life is too short, You need Python'\n",
    "s.find('short')\n",
    "s.index('short')"
   ]
  },
  {
   "cell_type": "markdown",
   "metadata": {},
   "source": [
    "2. 아래와 같은 문자열을 출력결과와 같은 문자열로 변경하기 (replace)"
   ]
  },
  {
   "cell_type": "code",
   "execution_count": 47,
   "metadata": {},
   "outputs": [
    {
     "name": "stdout",
     "output_type": "stream",
     "text": [
      "Eighty percent of success is showing up.\n"
     ]
    }
   ],
   "source": [
    "s = 'Eighty percent of $ucce$$ i$ $howing up.'\n",
    "s=s.replace('$', 's')\n",
    "print(s)\n"
   ]
  },
  {
   "cell_type": "markdown",
   "metadata": {},
   "source": [
    "3. 공백 문자를 기준으로 문자열을 리스트로 변환하기 (split)"
   ]
  },
  {
   "cell_type": "code",
   "execution_count": 49,
   "metadata": {},
   "outputs": [
    {
     "name": "stdout",
     "output_type": "stream",
     "text": [
      "['Life', 'is', 'too', 'short,', 'You', 'need', 'Python']\n"
     ]
    }
   ],
   "source": [
    "s = 'Life is too short, You need Python'\n",
    "my_list=s.split()\n",
    "print(my_list)"
   ]
  },
  {
   "cell_type": "markdown",
   "metadata": {},
   "source": [
    "# 1-5"
   ]
  },
  {
   "cell_type": "markdown",
   "metadata": {},
   "source": [
    "1. season과 color에서 인덱싱을 사용하여 아래와 같은 결과가 나오도록 작성"
   ]
  },
  {
   "cell_type": "code",
   "execution_count": 70,
   "metadata": {},
   "outputs": [
    {
     "name": "stdout",
     "output_type": "stream",
     "text": [
      "가을 + GREEN\n"
     ]
    }
   ],
   "source": [
    "season = ['봄', '여름', '가을', '겨울']\n",
    "color = ['RED', 'GREEN', 'BLUE']\n",
    "join = season[2]+' + '+color[1]\n",
    "print(join)"
   ]
  },
  {
   "cell_type": "markdown",
   "metadata": {},
   "source": [
    "2. 중첩 리스트 person에서 인덱싱을 사용하여 아래와 같은 결과가 나오도록 작성\n"
   ]
  },
  {
   "cell_type": "code",
   "execution_count": 68,
   "metadata": {},
   "outputs": [
    {
     "name": "stdout",
     "output_type": "stream",
     "text": [
      "[ggoreb]신림동/둔산동\n"
     ]
    }
   ],
   "source": [
    "person = [\n",
    " 'ggoreb',\n",
    " 20,\n",
    " ['서울', '관악구', '신림동'],\n",
    " ['대전', '서구', '둔산동']\n",
    "]\n",
    "data='['+person[0]+']'+person[2][2]+'/'+person[3][2]\n",
    "\n",
    "print(data)"
   ]
  },
  {
   "cell_type": "markdown",
   "metadata": {},
   "source": [
    "3. 2번의 중첩 리스트 person에서 인덱싱을 사용하여 아래와 같은 결과가 나오도록 작성"
   ]
  },
  {
   "cell_type": "code",
   "execution_count": 75,
   "metadata": {},
   "outputs": [
    {
     "name": "stdout",
     "output_type": "stream",
     "text": [
      "ggoreb 20\n"
     ]
    }
   ],
   "source": [
    "data=person[0] +' '+ str(person[1])\n",
    "print(data)"
   ]
  },
  {
   "cell_type": "markdown",
   "metadata": {},
   "source": [
    "# 1-6"
   ]
  },
  {
   "cell_type": "markdown",
   "metadata": {},
   "source": [
    "1. 리스트 요소 추가하기 (연산자, append, extend)"
   ]
  },
  {
   "cell_type": "code",
   "execution_count": 78,
   "metadata": {},
   "outputs": [
    {
     "name": "stdout",
     "output_type": "stream",
     "text": [
      "['a', 'b', 'c', 'x', 'z']\n"
     ]
    }
   ],
   "source": [
    "list = ['a', 'b', 'c']\n",
    "list.append('x')\n",
    "list.extend('z')\n",
    "print(list)\n",
    "#extend는 무조건 같은 리스트로"
   ]
  },
  {
   "cell_type": "markdown",
   "metadata": {},
   "source": [
    "2. 리스트 요소 정렬하기 (sort)\n"
   ]
  },
  {
   "cell_type": "code",
   "execution_count": 82,
   "metadata": {},
   "outputs": [
    {
     "name": "stdout",
     "output_type": "stream",
     "text": [
      "['h', 'n', 'o', 'p', 't', 'y']\n",
      "['y', 't', 'p', 'o', 'n', 'h']\n"
     ]
    }
   ],
   "source": [
    "list = ['p', 'y', 't', 'h', 'o', 'n']\n",
    "# 오름차순 정렬 코드 작성\n",
    "list.sort()\n",
    "print(list)\n",
    "# 내림차순 정렬 코드 작성\n",
    "list.sort(reverse=True)\n",
    "print(list)"
   ]
  },
  {
   "cell_type": "markdown",
   "metadata": {},
   "source": [
    "3. 리스트 요소 중 '대전' 개수 확인하기\n"
   ]
  },
  {
   "cell_type": "code",
   "execution_count": 85,
   "metadata": {},
   "outputs": [
    {
     "name": "stdout",
     "output_type": "stream",
     "text": [
      "4\n"
     ]
    }
   ],
   "source": [
    "list = [\n",
    " '서울', '부산', '광주', '대전', '부산',\n",
    " '대전', '대전', '서울', '부산', '대전'\n",
    "]\n",
    "count=list.count('대전')\n",
    "\n",
    "print(count)"
   ]
  },
  {
   "cell_type": "markdown",
   "metadata": {},
   "source": [
    "# 1-7 "
   ]
  },
  {
   "cell_type": "markdown",
   "metadata": {},
   "source": [
    "1. 리스트 요소 삭제하기 (remove, pop, del)"
   ]
  },
  {
   "cell_type": "code",
   "execution_count": 107,
   "metadata": {},
   "outputs": [
    {
     "name": "stdout",
     "output_type": "stream",
     "text": [
      "['열혈강호', '용비불패']\n"
     ]
    }
   ],
   "source": [
    "list = ['원피스', '나루토', '열혈강호', '용비불패', '드래곤볼']\n",
    "list.remove('원피스')\n",
    "list.remove('나루토')\n",
    "list.pop()\n",
    "print(list)"
   ]
  },
  {
   "cell_type": "markdown",
   "metadata": {},
   "source": [
    "2. 리스트 요소 삽입하기 (insert)"
   ]
  },
  {
   "cell_type": "code",
   "execution_count": 102,
   "metadata": {},
   "outputs": [
    {
     "name": "stdout",
     "output_type": "stream",
     "text": [
      "['열혈강호', '고수', '용비불패']\n"
     ]
    }
   ],
   "source": [
    "list = ['열혈강호', '용비불패']\n",
    "list.insert(1,'고수')\n",
    "print(list)"
   ]
  },
  {
   "cell_type": "markdown",
   "metadata": {},
   "source": [
    "3. 리스트 요소 수정하기"
   ]
  },
  {
   "cell_type": "code",
   "execution_count": 106,
   "metadata": {},
   "outputs": [
    {
     "name": "stdout",
     "output_type": "stream",
     "text": [
      "['원피스', '보루토', '열혈강호', '용비불패', '드래곤볼']\n"
     ]
    }
   ],
   "source": [
    "list = ['원피스', '나루토', '열혈강호', '용비불패', '드래곤볼']\n",
    "list[1]='보루토'\n",
    "count = list\n",
    "print(count)"
   ]
  },
  {
   "cell_type": "markdown",
   "metadata": {},
   "source": [
    "# 1-8"
   ]
  },
  {
   "cell_type": "markdown",
   "metadata": {},
   "source": [
    "1. 숫자 3만을 요소로 가지는 튜플 생성"
   ]
  },
  {
   "cell_type": "code",
   "execution_count": 110,
   "metadata": {},
   "outputs": [
    {
     "name": "stdout",
     "output_type": "stream",
     "text": [
      "(3,)\n"
     ]
    }
   ],
   "source": [
    "tuple=(3,)\n",
    "print(tuple)"
   ]
  },
  {
   "cell_type": "markdown",
   "metadata": {},
   "source": [
    "2. 튜플 요소 추가하기"
   ]
  },
  {
   "cell_type": "code",
   "execution_count": 117,
   "metadata": {},
   "outputs": [
    {
     "name": "stdout",
     "output_type": "stream",
     "text": [
      "('a', 'b', 'c', '가')\n"
     ]
    }
   ],
   "source": [
    "tuple = ('a', 'b', 'c')\n",
    "\n",
    "list = tuple + ('가',)\n",
    "print(list)\n"
   ]
  },
  {
   "cell_type": "markdown",
   "metadata": {},
   "source": [
    "# 1-9"
   ]
  },
  {
   "cell_type": "code",
   "execution_count": null,
   "metadata": {},
   "outputs": [],
   "source": [
    "1. 딕셔너리 생성하기"
   ]
  },
  {
   "cell_type": "code",
   "execution_count": 3,
   "metadata": {},
   "outputs": [
    {
     "name": "stdout",
     "output_type": "stream",
     "text": [
      "{'서울': '02', '대전': '042', '부산': '051', '광주': '062', '제주': '064'}\n"
     ]
    }
   ],
   "source": [
    "number={'서울':'02', '대전':'042', '부산':'051', '광주':'062', '제주':'064'}\n",
    "print(number)"
   ]
  },
  {
   "cell_type": "markdown",
   "metadata": {},
   "source": [
    "2. 1번 항목에서 생성된 딕셔너리의 Key를 리스트로 생성 (keys, list)\n"
   ]
  },
  {
   "cell_type": "code",
   "execution_count": 4,
   "metadata": {},
   "outputs": [
    {
     "name": "stdout",
     "output_type": "stream",
     "text": [
      "['서울', '대전', '부산', '광주', '제주']\n"
     ]
    }
   ],
   "source": [
    "key_list = list(number.keys())\n",
    "print(key_list)"
   ]
  },
  {
   "cell_type": "markdown",
   "metadata": {},
   "source": [
    "3. 1번 항목에서 생성된 딕셔너리의 Value를 리스트로 생성 (values, list)"
   ]
  },
  {
   "cell_type": "code",
   "execution_count": 6,
   "metadata": {},
   "outputs": [
    {
     "name": "stdout",
     "output_type": "stream",
     "text": [
      "['02', '042', '051', '062', '064']\n"
     ]
    }
   ],
   "source": [
    "value_list = list(number.values())\n",
    "print(value_list)"
   ]
  },
  {
   "cell_type": "markdown",
   "metadata": {},
   "source": [
    "# 1-10"
   ]
  },
  {
   "cell_type": "markdown",
   "metadata": {},
   "source": [
    "1. 딕셔너리의 key, value를 튜플 리스트로 변경\n"
   ]
  },
  {
   "cell_type": "code",
   "execution_count": 11,
   "metadata": {},
   "outputs": [
    {
     "name": "stdout",
     "output_type": "stream",
     "text": [
      "[('서울', '02'), ('대전', '042'), ('부산', '051'), ('광주', '062'), ('제주', '064')]\n"
     ]
    }
   ],
   "source": [
    "number = {'서울':'02', '대전':'042', '부산':'051', '광주':'062', '제주':'064'}\n",
    "t_list=list(tuple(number.items()))\n",
    "print(t_list)"
   ]
  },
  {
   "cell_type": "markdown",
   "metadata": {},
   "source": [
    "2. '부산'에 해당하는 value 출력\n"
   ]
  },
  {
   "cell_type": "code",
   "execution_count": 14,
   "metadata": {},
   "outputs": [
    {
     "name": "stdout",
     "output_type": "stream",
     "text": [
      "051\n"
     ]
    }
   ],
   "source": [
    "number = {'서울':'02', '대전':'042', '부산':'051', '광주':'062', '제주':'064'}\n",
    "busan=number['부산']\n",
    "print(busan)\n"
   ]
  },
  {
   "cell_type": "markdown",
   "metadata": {},
   "source": [
    "3. 리스트 요소 중에서 '천안' 이라는 Key가 있는지 확인"
   ]
  },
  {
   "cell_type": "code",
   "execution_count": 16,
   "metadata": {},
   "outputs": [
    {
     "name": "stdout",
     "output_type": "stream",
     "text": [
      "False\n"
     ]
    }
   ],
   "source": [
    "number = {'서울':'02', '대전':'042', '부산':'051', '광주':'062', '제주':'064'}\n",
    "is_exist = '천안' in number\n",
    "print(is_exist)"
   ]
  },
  {
   "cell_type": "markdown",
   "metadata": {},
   "source": [
    "# 1-11"
   ]
  },
  {
   "cell_type": "markdown",
   "metadata": {},
   "source": [
    "1. 아래와 같은 요소를 가지는 집합 생성"
   ]
  },
  {
   "cell_type": "code",
   "execution_count": 23,
   "metadata": {},
   "outputs": [
    {
     "name": "stdout",
     "output_type": "stream",
     "text": [
      "{1, 4, 10, 12, 45, 28}\n"
     ]
    }
   ],
   "source": [
    "lotto_set = {1, 4, 10, 12, 45, 28}\n",
    "print(lotto_set)"
   ]
  },
  {
   "cell_type": "markdown",
   "metadata": {},
   "source": [
    "2. 리스트 요소 중 중복 데이터를 제거하여 아래와 같이 출력 "
   ]
  },
  {
   "cell_type": "code",
   "execution_count": 25,
   "metadata": {},
   "outputs": [
    {
     "name": "stdout",
     "output_type": "stream",
     "text": [
      "{7, 9, 11, 15, 26}\n"
     ]
    }
   ],
   "source": [
    "num_list = [9, 7, 11, 26, 15, 9, 15, 26]\n",
    "new_list=set(num_list)\n",
    "print(new_list)"
   ]
  },
  {
   "cell_type": "markdown",
   "metadata": {},
   "source": [
    "# 1-12"
   ]
  },
  {
   "cell_type": "markdown",
   "metadata": {},
   "source": [
    "1. 집합의 요소를 추가 및 삭제하여 아래와 같이 출력\n"
   ]
  },
  {
   "cell_type": "code",
   "execution_count": 29,
   "metadata": {},
   "outputs": [
    {
     "name": "stdout",
     "output_type": "stream",
     "text": [
      "{'jsp', 'python', 'django'}\n"
     ]
    }
   ],
   "source": [
    "str_set = {'python', 'java', 'jsp'}\n",
    "str_set.remove('java')\n",
    "str_set.add('django')\n",
    "\n",
    "print(str_set)"
   ]
  },
  {
   "cell_type": "markdown",
   "metadata": {},
   "source": [
    "2. 두 개의 집합에서 공통 요소만 출력 (교집합)"
   ]
  },
  {
   "cell_type": "code",
   "execution_count": 32,
   "metadata": {},
   "outputs": [
    {
     "name": "stdout",
     "output_type": "stream",
     "text": [
      "{34, 12, 6}\n"
     ]
    }
   ],
   "source": [
    "lotto_num1 = {6, 12, 17, 21, 34, 37}\n",
    "lotto_num2 = {6, 12, 19, 24, 34, 41}\n",
    "new_set = lotto_num1 & lotto_num2\n",
    "\n",
    "print(new_set)"
   ]
  },
  {
   "cell_type": "markdown",
   "metadata": {},
   "source": [
    "# 2-1"
   ]
  },
  {
   "cell_type": "markdown",
   "metadata": {},
   "source": [
    "1. 근무시간이 8시간 이상이면 퇴근이 가능하도록 조건문 작성"
   ]
  },
  {
   "cell_type": "code",
   "execution_count": 36,
   "metadata": {},
   "outputs": [
    {
     "name": "stdout",
     "output_type": "stream",
     "text": [
      "퇴근~\n"
     ]
    }
   ],
   "source": [
    "workingTime = 8 # 근무시간\n",
    "\n",
    "if workingTime >= 8:\n",
    "    print('퇴근~')\n",
    "else:\n",
    "    print('계속 근무!')\n",
    "\n",
    "# workingTime 이 8 이상이면 퇴근\n",
    "# workingTime 이 8 미만이면 계속 근무"
   ]
  },
  {
   "cell_type": "markdown",
   "metadata": {},
   "source": [
    "2. 시험점수에 따라 A ~ F 학점을 출력하는 조건문 작성"
   ]
  },
  {
   "cell_type": "code",
   "execution_count": 42,
   "metadata": {},
   "outputs": [
    {
     "name": "stdout",
     "output_type": "stream",
     "text": [
      "A 학점\n"
     ]
    }
   ],
   "source": [
    "score = 90 # 시험점수\n",
    "if score >= 90:\n",
    "    print(\"A 학점\")\n",
    "elif score >= 70:\n",
    "    print(\"C 학점\")\n",
    "else:\n",
    "    print('F 학점')\n"
   ]
  },
  {
   "cell_type": "markdown",
   "metadata": {},
   "source": [
    "3. '하나카드'로 결제 시 할인이 가능하도록 조건문 작성"
   ]
  },
  {
   "cell_type": "code",
   "execution_count": 45,
   "metadata": {},
   "outputs": [
    {
     "name": "stdout",
     "output_type": "stream",
     "text": [
      "10% 할인 후 결제\n"
     ]
    }
   ],
   "source": [
    "cardList = ['우리카드', '신한카드', 'KB카드', '하나카드']\n",
    "\n",
    "if '하나카드' in cardList:\n",
    "    print('10% 할인 후 결제')\n",
    "else:\n",
    "    print('그냥 결제')\n"
   ]
  },
  {
   "cell_type": "markdown",
   "metadata": {},
   "source": [
    "# 2-2"
   ]
  },
  {
   "cell_type": "markdown",
   "metadata": {},
   "source": [
    "1. 3과목 이상을 수강하였고 평점이 70점 이상인 경우 '학위 취득' → 2가지 조건 만족\n",
    " 3과목 이상을 수강하였거나 평점이 70점 이상인 경우 '졸업' → 1가지 조건 만족\n",
    " 그 외의 경우 '재수강'을 출력하는 조건문 작성\n"
   ]
  },
  {
   "cell_type": "code",
   "execution_count": 51,
   "metadata": {},
   "outputs": [
    {
     "name": "stdout",
     "output_type": "stream",
     "text": [
      "졸업\n"
     ]
    }
   ],
   "source": [
    "subjectList = ['운영체제', '데이터베이스', '객체지향언어'] # 수강한 과목 리스트\n",
    "average = 60 # 평점\n",
    "\n",
    "if len(subjectList)>=3 and average >= 70:\n",
    "    print('학위 취득')\n",
    "elif len(subjectList)>=3 or average >= 70:\n",
    "    print('졸업')\n",
    "else:\n",
    "    print('재수강')\n",
    "\n",
    "\n",
    "# 리스트 요소의 개수를 확인할 때 len() 함수 사용, ex) len(subjectList)\n"
   ]
  },
  {
   "cell_type": "markdown",
   "metadata": {},
   "source": [
    "2. 이수한 과목 목록 중 '자료구조'가 있는지 확인하고\n",
    " '자료구조'가 있다면 점수를 확인한 후\n",
    " 60점 이상이면 '이수 완료'를 출력하는 조건문 작성"
   ]
  },
  {
   "cell_type": "code",
   "execution_count": 53,
   "metadata": {},
   "outputs": [
    {
     "name": "stdout",
     "output_type": "stream",
     "text": [
      "이수 완료\n"
     ]
    }
   ],
   "source": [
    "subject = {'자료구조' : 80, '알고리즘' : 60, '네트워크' : 90}\n",
    "\n",
    "if '자료구조' in subject:\n",
    "    if subject['자료구조']>=60:\n",
    "        print('이수 완료')\n",
    "    else:\n",
    "        print('이수 실패')\n",
    "else:\n",
    "    print('자료구조 수업을 안들음')"
   ]
  },
  {
   "cell_type": "markdown",
   "metadata": {},
   "source": [
    "# 2-3"
   ]
  },
  {
   "cell_type": "markdown",
   "metadata": {},
   "source": [
    "1. 주어진 숫자가 짝수인지 홀수인지 확인할 수 있는 조건문 작성"
   ]
  },
  {
   "cell_type": "code",
   "execution_count": 58,
   "metadata": {},
   "outputs": [
    {
     "name": "stdout",
     "output_type": "stream",
     "text": [
      "짝수\n"
     ]
    }
   ],
   "source": [
    "num = 122\n",
    "# 코드 작성, % 연산자\n",
    "if num % 2 == 0:\n",
    "    print('짝수')\n",
    "else:\n",
    "    print('홀수')"
   ]
  },
  {
   "cell_type": "markdown",
   "metadata": {},
   "source": [
    "2. score가 2의 배수인 경우 '짝', 3의 배수인 경우 '쿵',\n",
    " 2의 배수이고 3의 배수인 경우 '쿵짝',\n",
    " 그 외의 경우는 score 가 출력되도록 조건문 작성"
   ]
  },
  {
   "cell_type": "code",
   "execution_count": 65,
   "metadata": {},
   "outputs": [
    {
     "name": "stdout",
     "output_type": "stream",
     "text": [
      "12\n",
      "쿵짝\n"
     ]
    }
   ],
   "source": [
    "score = int(input())\n",
    "if score%6==0:\n",
    "    print('쿵짝')\n",
    "elif score%3==0:\n",
    "    print('쿵')\n",
    "else:\n",
    "    print('짝')"
   ]
  },
  {
   "cell_type": "markdown",
   "metadata": {},
   "source": [
    "# 2-4"
   ]
  },
  {
   "cell_type": "markdown",
   "metadata": {},
   "source": [
    " 1부터 1000 까지의 정수 합 구하기"
   ]
  },
  {
   "cell_type": "code",
   "execution_count": 82,
   "metadata": {},
   "outputs": [
    {
     "name": "stdout",
     "output_type": "stream",
     "text": [
      "500500\n"
     ]
    }
   ],
   "source": [
    "num = 1\n",
    "total = 0\n",
    "\n",
    "while num<=1000:\n",
    "    total += num\n",
    "    num+=1\n",
    "\n",
    "print(total)\n"
   ]
  },
  {
   "cell_type": "code",
   "execution_count": 94,
   "metadata": {},
   "outputs": [
    {
     "name": "stdout",
     "output_type": "stream",
     "text": [
      "500500\n"
     ]
    }
   ],
   "source": [
    "num = 1\n",
    "total = 0\n",
    "\n",
    "for _ in range(num,1001):\n",
    "    total=total+_\n",
    "\n",
    "print(total)\n"
   ]
  },
  {
   "cell_type": "markdown",
   "metadata": {},
   "source": [
    "2. 1부터 1000 까지의 정수 중 3의 배수 합 구하기"
   ]
  },
  {
   "cell_type": "code",
   "execution_count": 96,
   "metadata": {},
   "outputs": [
    {
     "name": "stdout",
     "output_type": "stream",
     "text": [
      "166833\n"
     ]
    }
   ],
   "source": [
    "num = 1\n",
    "total = 0\n",
    "\n",
    "while num<=1000:\n",
    "    if num %3==0:\n",
    "        total += num\n",
    "        num+=1\n",
    "    else:\n",
    "        num+=1\n",
    "\n",
    "print(total)"
   ]
  },
  {
   "cell_type": "code",
   "execution_count": 104,
   "metadata": {},
   "outputs": [
    {
     "name": "stdout",
     "output_type": "stream",
     "text": [
      "166833\n"
     ]
    }
   ],
   "source": [
    "num = 1\n",
    "total = 0\n",
    "\n",
    "for i in range(num,1001):\n",
    "    if i%3==0:\n",
    "        total+=i\n",
    "    else:\n",
    "        continue\n",
    "print(total)"
   ]
  },
  {
   "cell_type": "markdown",
   "metadata": {},
   "source": [
    "# 2-5"
   ]
  },
  {
   "cell_type": "markdown",
   "metadata": {},
   "source": [
    "1. 각 학생들의 점수를 표현한 리스트를 이용하여 50점 이상인 학생의 점수 합 구하기"
   ]
  },
  {
   "cell_type": "code",
   "execution_count": 121,
   "metadata": {},
   "outputs": [
    {
     "name": "stdout",
     "output_type": "stream",
     "text": [
      "481\n"
     ]
    }
   ],
   "source": [
    "scoreList = [20, 55, 67, 82, 45, 33, 90, 87, 100, 25]\n",
    "total = 0\n",
    "# 코드 작성 - List pop() 함수 이용\n",
    "for i in range(len(scoreList)):\n",
    "    num=scoreList.pop()\n",
    "    if num >= 50:\n",
    "        total+=num\n",
    "    \n",
    "        \n",
    "\n",
    "print(total)"
   ]
  },
  {
   "cell_type": "code",
   "execution_count": 119,
   "metadata": {},
   "outputs": [
    {
     "name": "stdout",
     "output_type": "stream",
     "text": [
      "481\n"
     ]
    }
   ],
   "source": [
    "while scoreList:\n",
    "    score = scoreList.pop()\n",
    "\n",
    "    if score >= 50:\n",
    "        total += score\n",
    "\n",
    "print(total)\n"
   ]
  },
  {
   "cell_type": "markdown",
   "metadata": {},
   "source": [
    "2. 각 학생들의 점수를 표현한 딕셔너리를 이용하여 80점 이상인 학생의 점수 합 구하기"
   ]
  },
  {
   "cell_type": "code",
   "execution_count": 130,
   "metadata": {},
   "outputs": [
    {
     "name": "stdout",
     "output_type": "stream",
     "text": [
      "359\n"
     ]
    }
   ],
   "source": [
    "studentInfo = {\n",
    " 'a':33, 'b':55, 'c':67, 'd':82, 'e':45,\n",
    " 'f':33, 'g':90, 'h':87, 'i': 100, 'j':25\n",
    "}\n",
    "total = 0\n",
    "# 코드 작성 - Dictionary values(), List pop() 등 이용\n",
    "score=list(studentInfo.values())\n",
    "while score:\n",
    "    num=score.pop()\n",
    "    if num >= 80:\n",
    "        total+=num\n",
    "\n",
    "print(total)"
   ]
  },
  {
   "cell_type": "markdown",
   "metadata": {},
   "source": [
    "# 2-6"
   ]
  },
  {
   "cell_type": "markdown",
   "metadata": {},
   "source": [
    "1. 두 개의 두사위를 던졌을때 나오는 눈을 출력하고 두 눈이 같으면 종료"
   ]
  },
  {
   "cell_type": "code",
   "execution_count": 151,
   "metadata": {},
   "outputs": [
    {
     "name": "stdout",
     "output_type": "stream",
     "text": [
      "6 / 5\n",
      "3 / 6\n",
      "4 / 4\n",
      "두 눈이 같으므로 종료\n"
     ]
    }
   ],
   "source": [
    "import random # random 모듈 import\n",
    "\n",
    "while True:\n",
    "    a=str(random.randint(1,6))\n",
    "    b=str(random.randint(1,6))\n",
    "    print(a+' / '+b)\n",
    "    \n",
    "    if a == b:\n",
    "        print('두 눈이 같으므로 종료')\n",
    "        break\n",
    "\n",
    "# random.randint(1, 6) 함수 이용\n",
    "# 두 눈이 같을 때 break"
   ]
  },
  {
   "cell_type": "markdown",
   "metadata": {},
   "source": [
    "2. 랜덤 기능을 이용하여 6개의 로또 번호 만들기\n"
   ]
  },
  {
   "cell_type": "code",
   "execution_count": 21,
   "metadata": {},
   "outputs": [
    {
     "name": "stdout",
     "output_type": "stream",
     "text": [
      "[1, 10, 11, 20, 21, 41]\n",
      "[1, 11, 16, 27, 33, 42]\n",
      "[1, 14, 30, 35, 41, 42]\n",
      "[24, 28, 32, 36, 39, 44]\n"
     ]
    }
   ],
   "source": [
    "import random\n",
    "lottoList = list() # 빈 List 생성\n",
    "\n",
    "i=1\n",
    "while i <= 4:\n",
    "    lottoSet=set()\n",
    "    while True:\n",
    "        num=random.randint(1,45)\n",
    "        lottoSet.add(num)\n",
    "        if len(lottoSet)==6:\n",
    "            lottoSet = sorted(lottoSet)\n",
    "            lottoList.append(list(lottoSet))\n",
    "            break\n",
    "    i+=1\n",
    "for i in range(len(lottoList)):\n",
    "    print(lottoList[i], sep='\\n')"
   ]
  },
  {
   "cell_type": "code",
   "execution_count": 22,
   "metadata": {},
   "outputs": [
    {
     "name": "stdout",
     "output_type": "stream",
     "text": [
      "[2, 4, 11, 21, 27, 38]\n",
      "[14, 16, 23, 24, 38, 41]\n",
      "[27, 28, 31, 42, 43, 45]\n",
      "[9, 12, 28, 29, 31, 33]\n",
      "[8, 9, 16, 26, 27, 36]\n"
     ]
    }
   ],
   "source": [
    "import random\n",
    "for j in range(5):\n",
    "    num = set()\n",
    "    \n",
    "    while True:\n",
    "        result = random.randint(1,45)\n",
    "        num.add(result)\n",
    "        if len(num) == 6:\n",
    "            break\n",
    "    num = sorted(num)    \n",
    "    print(num)"
   ]
  },
  {
   "cell_type": "markdown",
   "metadata": {},
   "source": [
    "# 2-7"
   ]
  },
  {
   "cell_type": "markdown",
   "metadata": {},
   "source": [
    "1. 아래와 같은 모습의 삼각형 모습 출력"
   ]
  },
  {
   "cell_type": "code",
   "execution_count": 30,
   "metadata": {},
   "outputs": [
    {
     "name": "stdout",
     "output_type": "stream",
     "text": [
      "\n",
      "*\n",
      "**\n",
      "***\n",
      "****\n",
      "*****\n"
     ]
    }
   ],
   "source": [
    "i = 1 # '*' 개수\n",
    "for i in range(6):\n",
    "    print('*'*i)"
   ]
  },
  {
   "cell_type": "markdown",
   "metadata": {},
   "source": [
    "2. 아래와 같은 모습의 삼각형 모습 출력"
   ]
  },
  {
   "cell_type": "code",
   "execution_count": 35,
   "metadata": {},
   "outputs": [
    {
     "name": "stdout",
     "output_type": "stream",
     "text": [
      "    *\n",
      "   **\n",
      "  ***\n",
      " ****\n",
      "*****\n",
      "\n"
     ]
    }
   ],
   "source": [
    "i = 1\n",
    "space = 0\n",
    "while i <= 5:\n",
    "    space = 5 - i\n",
    "    print(' ' * space, end='')\n",
    "    print('*' * i)\n",
    "    i += 1\n",
    "print()"
   ]
  },
  {
   "cell_type": "markdown",
   "metadata": {},
   "source": [
    "# 2-8"
   ]
  },
  {
   "cell_type": "markdown",
   "metadata": {},
   "source": [
    "1. 1 ~ 100 사이의 숫자 중 3을 포함하고 있는 숫자와 그 개수를 출력"
   ]
  },
  {
   "cell_type": "code",
   "execution_count": 60,
   "metadata": {
    "scrolled": true
   },
   "outputs": [
    {
     "name": "stdout",
     "output_type": "stream",
     "text": [
      "3\n",
      "13\n",
      "23\n",
      "30\n",
      "31\n",
      "32\n",
      "33\n",
      "34\n",
      "35\n",
      "36\n",
      "37\n",
      "38\n",
      "39\n",
      "43\n",
      "53\n",
      "63\n",
      "73\n",
      "83\n",
      "93\n",
      "개수 : 19\n"
     ]
    }
   ],
   "source": [
    "count = 0\n",
    "i=0\n",
    "while i <= 100:\n",
    "    a=str(i)\n",
    "    if '3' in a:\n",
    "        print(a)\n",
    "        count+=1\n",
    "    i+=1\n",
    "print('개수 : ' + str(count))\n",
    "# 코드 작성\n",
    "# 숫자를 문자열로 바꾸기 str(숫자) 함수 이용\n",
    "# 자료의 내부 값 확인 in 연산자 이용"
   ]
  },
  {
   "cell_type": "markdown",
   "metadata": {},
   "source": [
    "# 2-9"
   ]
  },
  {
   "cell_type": "markdown",
   "metadata": {},
   "source": [
    "1. 아래와 같은 리스트가 있을 때 각 요소가 3의 배수인지 확인하여 삭제하는 코드 작성"
   ]
  },
  {
   "cell_type": "code",
   "execution_count": 119,
   "metadata": {
    "scrolled": false
   },
   "outputs": [
    {
     "name": "stdout",
     "output_type": "stream",
     "text": [
      "0\n",
      "1\n",
      "2\n",
      "3\n",
      "4\n",
      "5\n",
      "6\n"
     ]
    },
    {
     "ename": "IndexError",
     "evalue": "list index out of range",
     "output_type": "error",
     "traceback": [
      "\u001b[1;31m---------------------------------------------------------------------------\u001b[0m",
      "\u001b[1;31mIndexError\u001b[0m                                Traceback (most recent call last)",
      "\u001b[1;32m<ipython-input-119-29ef69d85767>\u001b[0m in \u001b[0;36m<module>\u001b[1;34m\u001b[0m\n\u001b[0;32m      2\u001b[0m \u001b[1;32mfor\u001b[0m \u001b[0mi\u001b[0m \u001b[1;32min\u001b[0m \u001b[0mrange\u001b[0m\u001b[1;33m(\u001b[0m\u001b[0mlen\u001b[0m\u001b[1;33m(\u001b[0m\u001b[0mlist1\u001b[0m\u001b[1;33m)\u001b[0m\u001b[1;33m)\u001b[0m\u001b[1;33m:\u001b[0m\u001b[1;33m\u001b[0m\u001b[1;33m\u001b[0m\u001b[0m\n\u001b[0;32m      3\u001b[0m     \u001b[0mprint\u001b[0m\u001b[1;33m(\u001b[0m\u001b[0mi\u001b[0m\u001b[1;33m)\u001b[0m\u001b[1;33m\u001b[0m\u001b[1;33m\u001b[0m\u001b[0m\n\u001b[1;32m----> 4\u001b[1;33m     \u001b[1;32mif\u001b[0m \u001b[0mlist1\u001b[0m\u001b[1;33m[\u001b[0m\u001b[0mi\u001b[0m\u001b[1;33m-\u001b[0m\u001b[1;36m1\u001b[0m\u001b[1;33m]\u001b[0m \u001b[1;33m%\u001b[0m \u001b[1;36m3\u001b[0m \u001b[1;33m==\u001b[0m \u001b[1;36m0\u001b[0m\u001b[1;33m:\u001b[0m\u001b[1;33m\u001b[0m\u001b[1;33m\u001b[0m\u001b[0m\n\u001b[0m\u001b[0;32m      5\u001b[0m         \u001b[0mlist1\u001b[0m\u001b[1;33m.\u001b[0m\u001b[0mpop\u001b[0m\u001b[1;33m(\u001b[0m\u001b[0mi\u001b[0m\u001b[1;33m-\u001b[0m\u001b[1;36m1\u001b[0m\u001b[1;33m)\u001b[0m\u001b[1;33m\u001b[0m\u001b[1;33m\u001b[0m\u001b[0m\n\u001b[0;32m      6\u001b[0m \u001b[1;33m\u001b[0m\u001b[0m\n",
      "\u001b[1;31mIndexError\u001b[0m: list index out of range"
     ]
    }
   ],
   "source": [
    "list1 = [10, 20, 30, 40, 50, 60, 70]\n",
    "for i in range(len(list1)):\n",
    "    print(i)\n",
    "    if list1[i-1] % 3 == 0:\n",
    "        list1.pop(i-1)\n",
    "        \n",
    "print(list1)\n",
    "# remove() 함수를 사용하지 말고 pop() 함수를 이용하여 작성"
   ]
  },
  {
   "cell_type": "code",
   "execution_count": 120,
   "metadata": {
    "scrolled": true
   },
   "outputs": [
    {
     "name": "stdout",
     "output_type": "stream",
     "text": [
      "[10, 20, 40, 50, 70]\n",
      "\n"
     ]
    }
   ],
   "source": [
    "list = [10, 20, 30, 40, 50, 60, 70]\n",
    "\n",
    "for i in range(len(list), 0, -1):\n",
    "    if list[i - 1] % 3 == 0:\n",
    "        list.pop(i - 1)\n",
    "\n",
    "print(list)\n",
    "\n",
    "print()"
   ]
  },
  {
   "cell_type": "code",
   "execution_count": 121,
   "metadata": {},
   "outputs": [
    {
     "name": "stdout",
     "output_type": "stream",
     "text": [
      "\n",
      "[10, 20, 40, 50, 70]\n",
      "\n"
     ]
    }
   ],
   "source": [
    "print()\n",
    "\n",
    "list = [10, 20, 30, 40, 50, 60, 70]\n",
    "\n",
    "for i in reversed(range(len(list))):\n",
    "    if list[i] % 3 == 0:\n",
    "        list.pop(i)\n",
    "\n",
    "print(list)\n",
    "\n",
    "print()"
   ]
  }
 ],
 "metadata": {
  "kernelspec": {
   "display_name": "Python 3",
   "language": "python",
   "name": "python3"
  },
  "language_info": {
   "codemirror_mode": {
    "name": "ipython",
    "version": 3
   },
   "file_extension": ".py",
   "mimetype": "text/x-python",
   "name": "python",
   "nbconvert_exporter": "python",
   "pygments_lexer": "ipython3",
   "version": "3.7.4"
  }
 },
 "nbformat": 4,
 "nbformat_minor": 2
}
