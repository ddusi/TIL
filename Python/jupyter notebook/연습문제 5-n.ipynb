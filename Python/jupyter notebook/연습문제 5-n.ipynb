{
 "cells": [
  {
   "cell_type": "code",
   "execution_count": 3,
   "metadata": {},
   "outputs": [
    {
     "name": "stdout",
     "output_type": "stream",
     "text": [
      "가나다라카타파하\n",
      "ABCDWXYZ\n"
     ]
    }
   ],
   "source": [
    "class Letter:\n",
    "    # 변수 선언 및 초기화\n",
    "    letter = ''\n",
    "    # write 메소드(함수) 작성\n",
    "    def write(self, text):\n",
    "        self.letter += text\n",
    "    # show 메소드(함수) 작성\n",
    "    def show(self):\n",
    "        return self.letter\n",
    "\n",
    "#생성된 인스턴스의 주소 저장\n",
    "letter1 = Letter()\n",
    "# write 호출시 주소가 self로 전달\n",
    "letter1.write('가나다라')\n",
    "letter1.write('카타파하')\n",
    "\n",
    "letter2 = Letter()\n",
    "letter2.write('ABCD')\n",
    "letter2.write('WXYZ')\n",
    "\n",
    "print(letter1.show())\n",
    "print(letter2.show())"
   ]
  },
  {
   "cell_type": "code",
   "execution_count": 8,
   "metadata": {},
   "outputs": [
    {
     "name": "stdout",
     "output_type": "stream",
     "text": [
      "Python 10000\n",
      "Java 20000\n"
     ]
    }
   ],
   "source": [
    "class Book:\n",
    "    title = ''\n",
    "    price = 0\n",
    "    def setTitle(self, title):\n",
    "        self.title = title\n",
    "    def setPrice(self, price):\n",
    "        self.price = price\n",
    "\n",
    "book1 = Book()\n",
    "book1.setTitle('Python')\n",
    "book1.setPrice(10000)\n",
    "\n",
    "book2 = Book()\n",
    "book2.setTitle('Java')\n",
    "book2.setPrice(20000)\n",
    "\n",
    "print(book1.title, book1.price)\n",
    "print(book2.title, book2.price)"
   ]
  },
  {
   "cell_type": "code",
   "execution_count": null,
   "metadata": {},
   "outputs": [],
   "source": [
    "class Product:\n",
    "    \n",
    " \n",
    "    def show_info(self):\n",
    "    return 'name=' + self.name + ', code=' + self.code + ', count=' + str(self.count)\n",
    "\n",
    "p1 = Product('clock', 'c0001', 500)\n",
    "print(p1.show_info())\n",
    "p2 = Product('tv', 't0001', 1500)\n",
    "print(p2.show_info())"
   ]
  },
  {
   "cell_type": "code",
   "execution_count": 12,
   "metadata": {},
   "outputs": [
    {
     "name": "stdout",
     "output_type": "stream",
     "text": [
      "['전동 트렁크', '통풍 시트']\n",
      "['뒷자리 에어백', '하이패스']\n"
     ]
    }
   ],
   "source": [
    "class Car:\n",
    "    # 생성자 작성\n",
    "    def __init__(self):\n",
    "        self.result = []\n",
    "        #self.result = list()\n",
    "        \n",
    "    # add_option 메소드 작성\n",
    "    def add_option(self, option):\n",
    "        self.result.append(option)\n",
    "        #result += [option]\n",
    "    \n",
    "    # show_option 메소드 작성\n",
    "    def show_option(self):\n",
    "        return self.result\n",
    "    \n",
    "car1 = Car()\n",
    "car2 = Car()\n",
    "\n",
    "car1.add_option('전동 트렁크')\n",
    "car1.add_option('통풍 시트')\n",
    "car2.add_option('뒷자리 에어백')\n",
    "car2.add_option('하이패스')\n",
    "\n",
    "print(car1.show_option())\n",
    "print(car2.show_option())"
   ]
  },
  {
   "cell_type": "code",
   "execution_count": 11,
   "metadata": {},
   "outputs": [
    {
     "name": "stdout",
     "output_type": "stream",
     "text": [
      "['치즈', '베이컨', '고구마']\n",
      "['불고기', '피망']\n"
     ]
    }
   ],
   "source": [
    "class Pizza:\n",
    " # 생성자 작성\n",
    "    def __init__(self):\n",
    "        self.topping = []\n",
    " # add_topping 메소드 작성\n",
    "    def add_topping(self, topping):\n",
    "        self.topping += [topping]\n",
    " # remove 메소드 작성\n",
    "    def remove(self, topping):\n",
    "        self.topping.remove(topping)\n",
    " # show_topping 메소드 작성\n",
    "    def show_topping(self):\n",
    "        return self.topping\n",
    "    \n",
    "    \n",
    "p1 = Pizza()\n",
    "p1.add_topping('치즈')\n",
    "p1.add_topping('베이컨')\n",
    "p1.add_topping('고구마')\n",
    "p2 = Pizza()\n",
    "p2.add_topping('소시지')\n",
    "p2.add_topping('불고기')\n",
    "p2.add_topping('피망')\n",
    "p2.remove('소시지')\n",
    "print(p1.show_topping())\n",
    "print(p2.show_topping())"
   ]
  },
  {
   "cell_type": "code",
   "execution_count": 15,
   "metadata": {},
   "outputs": [
    {
     "name": "stdout",
     "output_type": "stream",
     "text": [
      "2\n",
      "5\n",
      "8\n"
     ]
    }
   ],
   "source": [
    "data = ([1,2,3], [4,5,6], [7,8,9])\n",
    "for a, b, c in data:\n",
    "    print(b)"
   ]
  },
  {
   "cell_type": "code",
   "execution_count": 16,
   "metadata": {},
   "outputs": [
    {
     "name": "stdout",
     "output_type": "stream",
     "text": [
      "합계 15\n"
     ]
    }
   ],
   "source": [
    "class EachSum:\n",
    "    def __init__(self):\n",
    "        self.total = 0\n",
    "    def compute(self, num):\n",
    "        while True:\n",
    "            self.total += num % 10\n",
    "            num //= 10\n",
    "            if num == 0: break\n",
    "        return self.total\n",
    "    \n",
    "each = EachSum()\n",
    "total = each.compute(12345)\n",
    "print('합계', total)"
   ]
  },
  {
   "cell_type": "code",
   "execution_count": 5,
   "metadata": {},
   "outputs": [],
   "source": [
    "import Calendar as cal\n",
    "# 모듈 사용법\n",
    "# as는 별칭을 붙여 저걸로 불러온다."
   ]
  },
  {
   "cell_type": "code",
   "execution_count": 8,
   "metadata": {},
   "outputs": [
    {
     "data": {
      "text/plain": [
       "7"
      ]
     },
     "execution_count": 8,
     "metadata": {},
     "output_type": "execute_result"
    }
   ],
   "source": [
    "cal.plus(5, 2)"
   ]
  },
  {
   "cell_type": "code",
   "execution_count": 21,
   "metadata": {},
   "outputs": [
    {
     "name": "stdout",
     "output_type": "stream",
     "text": [
      "짬뽕\n"
     ]
    }
   ],
   "source": [
    "import random\n",
    "class SelectMenu:\n",
    "    def __init__(self, menu):\n",
    "        self.menu = menu\n",
    "    def get_menu(self):\n",
    "        num = random.randint(0, 3)\n",
    "        return self.menu[num]\n",
    "        \n",
    "menu = SelectMenu(['짬뽕', '초밥', '쌀국수', '쭈꾸미'])\n",
    "print(menu.get_menu())\n",
    "        \n",
    "        \n",
    "        "
   ]
  },
  {
   "cell_type": "code",
   "execution_count": 12,
   "metadata": {},
   "outputs": [
    {
     "data": {
      "text/plain": [
       "2"
      ]
     },
     "execution_count": 12,
     "metadata": {},
     "output_type": "execute_result"
    }
   ],
   "source": [
    "#import로 불러오면 항상 random.randint를 써야한다.\n",
    "import random\n",
    "random.randint(1, 3)"
   ]
  },
  {
   "cell_type": "code",
   "execution_count": 14,
   "metadata": {},
   "outputs": [
    {
     "data": {
      "text/plain": [
       "3"
      ]
     },
     "execution_count": 14,
     "metadata": {},
     "output_type": "execute_result"
    }
   ],
   "source": [
    "# 하지만, from A import B 를 활용하면 바로 사용 가능.\n",
    "from random import randint\n",
    "randint(1, 3)"
   ]
  },
  {
   "cell_type": "code",
   "execution_count": 9,
   "metadata": {},
   "outputs": [
    {
     "data": {
      "text/plain": [
       "3"
      ]
     },
     "execution_count": 9,
     "metadata": {},
     "output_type": "execute_result"
    }
   ],
   "source": [
    "from mymod import myfunc\n",
    "\n",
    "myfunc(1, 2)"
   ]
  },
  {
   "cell_type": "code",
   "execution_count": 10,
   "metadata": {},
   "outputs": [
    {
     "name": "stdout",
     "output_type": "stream",
     "text": [
      "A\n",
      "A\n"
     ]
    }
   ],
   "source": [
    "import mod_class as mc\n",
    "my_class = mc.MyClass('A')\n",
    "my_class.show()\n",
    "print(my_class.get_name())"
   ]
  },
  {
   "cell_type": "code",
   "execution_count": null,
   "metadata": {},
   "outputs": [],
   "source": []
  },
  {
   "cell_type": "code",
   "execution_count": null,
   "metadata": {},
   "outputs": [],
   "source": []
  }
 ],
 "metadata": {
  "kernelspec": {
   "display_name": "Python 3",
   "language": "python",
   "name": "python3"
  },
  "language_info": {
   "codemirror_mode": {
    "name": "ipython",
    "version": 3
   },
   "file_extension": ".py",
   "mimetype": "text/x-python",
   "name": "python",
   "nbconvert_exporter": "python",
   "pygments_lexer": "ipython3",
   "version": "3.7.4"
  }
 },
 "nbformat": 4,
 "nbformat_minor": 2
}
