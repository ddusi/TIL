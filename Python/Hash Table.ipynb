{
 "cells": [
  {
   "cell_type": "code",
   "execution_count": 65,
   "metadata": {
    "scrolled": true
   },
   "outputs": [
    {
     "name": "stdout",
     "output_type": "stream",
     "text": [
      "line [plus]\n"
     ]
    },
    {
     "data": {
      "text/plain": [
       "'line [plus]'"
      ]
     },
     "execution_count": 65,
     "metadata": {},
     "output_type": "execute_result"
    }
   ],
   "source": [
    "text_a =(input())\n",
    "limit = ['(', ')', '{', '}', '[', ']', '<', '>']\n",
    "check = True;\n",
    "text_a\n"
   ]
  },
  {
   "cell_type": "code",
   "execution_count": 66,
   "metadata": {},
   "outputs": [
    {
     "name": "stdout",
     "output_type": "stream",
     "text": [
      "[-1, -1, -1, -1, 5, 10, -1, -1]\n"
     ]
    }
   ],
   "source": [
    "# 안에 괄호가 있는지 확인하기\n",
    "b = []\n",
    "for i in range(0,8):\n",
    "    a = text_a.find(limit[i])\n",
    "    b.append(a)\n",
    "print(b)"
   ]
  },
  {
   "cell_type": "code",
   "execution_count": 74,
   "metadata": {},
   "outputs": [
    {
     "name": "stdout",
     "output_type": "stream",
     "text": [
      "\n"
     ]
    }
   ],
   "source": [
    "# 만약에 있다면, \n",
    "for i in range(0,8):\n",
    "    c = [i]\n",
    "    if c != -1:\n",
    "        check = False\n",
    "    else: \n",
    "        b.remove[i]\n",
    "if check == False:\n",
    "    print()\n",
    "    \n",
    "    \n",
    "    "
   ]
  },
  {
   "cell_type": "code",
   "execution_count": 76,
   "metadata": {
    "collapsed": true
   },
   "outputs": [
    {
     "data": {
      "text/plain": [
       "[-1, -1, -1, -1, 5, 10, -1, -1]"
      ]
     },
     "execution_count": 76,
     "metadata": {},
     "output_type": "execute_result"
    }
   ],
   "source": [
    "b\n"
   ]
  },
  {
   "cell_type": "code",
   "execution_count": 78,
   "metadata": {},
   "outputs": [],
   "source": [
    "class Hashtable:\n",
    "    def __init__(self):\n",
    "        self.table = [None for _ in range(139)]\n",
    "    def simple_hash(self, name):\n",
    "        sum = 0\n",
    "        for letter in name:\n",
    "            sum += ord(letter)\n",
    "            return sum % len(self.table)\n",
    "    def put(self, name, num):\n",
    "        self.table[self.simple_hash(name)] = num\n",
    "        \n",
    "    def show(self):\n",
    "        for idx, value in enumerate(self.table):\n",
    "            if value is not None:\n",
    "                print(idx, value)\n",
    "    def find(self, name):\n",
    "        return self.table[self.simple_hash(name)]"
   ]
  },
  {
   "cell_type": "code",
   "execution_count": 85,
   "metadata": {},
   "outputs": [
    {
     "name": "stdout",
     "output_type": "stream",
     "text": [
      "67 7532\n",
      "74 8569\n",
      "75 7458\n",
      "77 2563\n",
      "82 1598\n",
      "83 1452\n"
     ]
    }
   ],
   "source": [
    "boo = Hashtable() \n",
    "boo.put('Kim', 7458) \n",
    "boo.put('John', 8569) \n",
    "boo.put('Smith', 1452) \n",
    "boo.put('Michael', 2563) \n",
    "boo.put('Raymond', 1598) \n",
    "boo.put('Clayton', 7532) \n",
    "boo.show()\n"
   ]
  },
  {
   "cell_type": "code",
   "execution_count": 84,
   "metadata": {
    "scrolled": true
   },
   "outputs": [
    {
     "name": "stdout",
     "output_type": "stream",
     "text": [
      "1598\n"
     ]
    }
   ],
   "source": [
    "print(boo.find('Raymond'))"
   ]
  },
  {
   "cell_type": "code",
   "execution_count": 83,
   "metadata": {
    "scrolled": false
   },
   "outputs": [
    {
     "name": "stdout",
     "output_type": "stream",
     "text": [
      "67 7532\n",
      "74 8569\n",
      "77 2563\n",
      "82 1598\n",
      "83 1452\n",
      "107 7458\n"
     ]
    }
   ],
   "source": [
    "boo.show()"
   ]
  },
  {
   "cell_type": "markdown",
   "metadata": {},
   "source": [
    "<hr>"
   ]
  },
  {
   "cell_type": "markdown",
   "metadata": {},
   "source": [
    "## hash Table "
   ]
  },
  {
   "cell_type": "code",
   "execution_count": 95,
   "metadata": {},
   "outputs": [],
   "source": [
    "dial_code = dict()\n",
    "dial_code[86] = 'Chin'\n",
    "dial_code[91] = 'India'"
   ]
  },
  {
   "cell_type": "code",
   "execution_count": 98,
   "metadata": {},
   "outputs": [
    {
     "name": "stdout",
     "output_type": "stream",
     "text": [
      "hi\n"
     ]
    }
   ],
   "source": [
    "# 해쉬 함수. 키를 넣으면 해쉬값을 리턴한다. (해쉬값이 주소가 된다.)\n",
    "def hash_func(data):\n",
    "    return data % 10\n",
    "#해쉬 테이블에 저장.\n",
    "hash_table = list([0 for i in range(10)])\n",
    "def storage_data(hash_address, data):\n",
    "    hash_table[hash_address] = data\n",
    "#해쉬 테이블에서 특정 주소의 데이터를 가져오는 함수도 만들어 봅시다.\n",
    "def get_data(key):\n",
    "    return hash_table[hash_func(key)]\n",
    "#실제 데이터를 저장하고 읽어옴.\n",
    "address = hash_func(86)\n",
    "storage_data(address, 'hi')\n",
    "print(get_data(86))"
   ]
  },
  {
   "cell_type": "code",
   "execution_count": 99,
   "metadata": {},
   "outputs": [
    {
     "data": {
      "text/plain": [
       "'hi'"
      ]
     },
     "execution_count": 99,
     "metadata": {},
     "output_type": "execute_result"
    }
   ],
   "source": [
    "get_data(86)"
   ]
  },
  {
   "cell_type": "code",
   "execution_count": 100,
   "metadata": {},
   "outputs": [
    {
     "data": {
      "text/plain": [
       "[0, 0, 0, 0, 0, 0, 'hi', 0, 0, 0]"
      ]
     },
     "execution_count": 100,
     "metadata": {},
     "output_type": "execute_result"
    }
   ],
   "source": [
    "# 해쉬 테이블 안 내용\n",
    "hash_table"
   ]
  },
  {
   "cell_type": "markdown",
   "metadata": {},
   "source": [
    "<hr>"
   ]
  },
  {
   "cell_type": "markdown",
   "metadata": {},
   "source": [
    "내부적으로는 결국 hash로 구현\n",
    "예: 스마트폰에 전화번호 저장하기\n",
    "전화번호 저장시 이름을 저장하기\n",
    "이름: 여친, 전화번호: 000-2222-3333\n",
    "이름으로 전화번호 찾기"
   ]
  },
  {
   "cell_type": "code",
   "execution_count": 121,
   "metadata": {},
   "outputs": [
    {
     "data": {
      "text/plain": [
       "'000-1111-2222'"
      ]
     },
     "execution_count": 121,
     "metadata": {},
     "output_type": "execute_result"
    }
   ],
   "source": [
    "import numpy as np\n",
    "\n",
    "data = list([0 for i in range(8)])\n",
    "data = np.empty(8, dtype=object)\n",
    "\n",
    "#내장함수 hash()로 해쉬코드 만들기\n",
    "hash('Dave')\n",
    "hash('David')\n",
    "\n",
    "#해쉬코드를 인덱스로 나눠주기\n",
    "hash('Dave') % 8\n",
    "hash('David') % 8\n",
    "\n",
    "# 임의로 8개의 해싱함수 만들기\n",
    "def hash_function(string):\n",
    "    return hash(string) % 8\n",
    "\n",
    "# key를 딕셔너리를 사용하여 데이터 저장하기\n",
    "data[hash_function('Dave')] = '000-111-2222'\n",
    "data[hash_function('David')] = '000-111-3333'\n",
    "\n",
    "# key를 딕셔너리를 사용하지 않고 데이터 저장하기\n",
    "class HashMap:\n",
    "    def __init__(self):\n",
    "        self.items = list([0 for i in range(8)])\n",
    "    \n",
    "    def save(self, key, data):\n",
    "        self.items[hash_function(key)] = data\n",
    "    \n",
    "    def get(self, key):\n",
    "        return self.items[hash_function(key)]\n",
    "    \n",
    "# 값을 저장하고 출력하기\n",
    "hash_list = HashMap()\n",
    "hash_list.save('Dave', '000-1111-2222')\n",
    "hash_list.get('Dave')"
   ]
  },
  {
   "cell_type": "code",
   "execution_count": 122,
   "metadata": {},
   "outputs": [
    {
     "data": {
      "text/plain": [
       "array([None, None, None, '000-111-3333', '000-111-2222', None, None, None],\n",
       "      dtype=object)"
      ]
     },
     "execution_count": 122,
     "metadata": {},
     "output_type": "execute_result"
    }
   ],
   "source": [
    "data"
   ]
  },
  {
   "cell_type": "code",
   "execution_count": null,
   "metadata": {},
   "outputs": [],
   "source": []
  },
  {
   "cell_type": "code",
   "execution_count": null,
   "metadata": {},
   "outputs": [],
   "source": []
  }
 ],
 "metadata": {
  "kernelspec": {
   "display_name": "Python 3",
   "language": "python",
   "name": "python3"
  },
  "language_info": {
   "codemirror_mode": {
    "name": "ipython",
    "version": 3
   },
   "file_extension": ".py",
   "mimetype": "text/x-python",
   "name": "python",
   "nbconvert_exporter": "python",
   "pygments_lexer": "ipython3",
   "version": "3.7.4"
  }
 },
 "nbformat": 4,
 "nbformat_minor": 2
}
