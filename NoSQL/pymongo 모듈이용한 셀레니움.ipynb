{
 "cells": [
  {
   "cell_type": "markdown",
   "metadata": {},
   "source": [
    "모듈 가져오기"
   ]
  },
  {
   "cell_type": "code",
   "execution_count": 8,
   "metadata": {},
   "outputs": [],
   "source": [
    "from pymongo import MongoClient"
   ]
  },
  {
   "cell_type": "markdown",
   "metadata": {},
   "source": [
    "MongoDB 접속"
   ]
  },
  {
   "cell_type": "code",
   "execution_count": 9,
   "metadata": {},
   "outputs": [],
   "source": [
    "client = MongoClient(host='localhost', port=27017)"
   ]
  },
  {
   "cell_type": "markdown",
   "metadata": {},
   "source": [
    "test 데이터베이스 지정"
   ]
  },
  {
   "cell_type": "code",
   "execution_count": 10,
   "metadata": {},
   "outputs": [],
   "source": [
    "db = client['test']"
   ]
  },
  {
   "cell_type": "markdown",
   "metadata": {},
   "source": [
    "score 컬렉션 데이터 조회"
   ]
  },
  {
   "cell_type": "code",
   "execution_count": 11,
   "metadata": {},
   "outputs": [],
   "source": [
    "cursor = db.score.find()"
   ]
  },
  {
   "cell_type": "markdown",
   "metadata": {},
   "source": [
    "데이터 확인"
   ]
  },
  {
   "cell_type": "code",
   "execution_count": 12,
   "metadata": {},
   "outputs": [
    {
     "name": "stdout",
     "output_type": "stream",
     "text": [
      "99.0\n",
      "0.0\n",
      "1.0\n",
      "2.0\n",
      "3.0\n",
      "4.0\n"
     ]
    }
   ],
   "source": [
    "cursor.rewind()\n",
    "\n",
    "for data in list(cursor):\n",
    "    print(data['a'])"
   ]
  },
  {
   "cell_type": "markdown",
   "metadata": {},
   "source": [
    "score 컬렉션에 데이터 입력"
   ]
  },
  {
   "cell_type": "code",
   "execution_count": 13,
   "metadata": {
    "scrolled": true
   },
   "outputs": [
    {
     "name": "stderr",
     "output_type": "stream",
     "text": [
      "D:\\ddusi\\Miniconda3\\lib\\site-packages\\ipykernel_launcher.py:1: DeprecationWarning: save is deprecated. Use insert_one or replace_one instead\n",
      "  \"\"\"Entry point for launching an IPython kernel.\n"
     ]
    },
    {
     "data": {
      "text/plain": [
       "ObjectId('5e3142a6f328ed0c5de20e6f')"
      ]
     },
     "execution_count": 13,
     "metadata": {},
     "output_type": "execute_result"
    }
   ],
   "source": [
    "db.score.save( { 'a' : 5, 'exam' : 6})"
   ]
  },
  {
   "cell_type": "markdown",
   "metadata": {},
   "source": [
    "score 컬렉션 데이터 조회"
   ]
  },
  {
   "cell_type": "code",
   "execution_count": 15,
   "metadata": {
    "scrolled": true
   },
   "outputs": [
    {
     "name": "stdout",
     "output_type": "stream",
     "text": [
      "99.0\n",
      "0.0\n",
      "1.0\n",
      "2.0\n",
      "3.0\n",
      "4.0\n",
      "5\n"
     ]
    }
   ],
   "source": [
    "cursor.rewind()\n",
    "\n",
    "for data in list(cursor):\n",
    "    print(data['a'])"
   ]
  },
  {
   "cell_type": "markdown",
   "metadata": {},
   "source": [
    "score 컬렉션 데이터 수정"
   ]
  },
  {
   "cell_type": "code",
   "execution_count": 19,
   "metadata": {},
   "outputs": [
    {
     "name": "stderr",
     "output_type": "stream",
     "text": [
      "D:\\ddusi\\Miniconda3\\lib\\site-packages\\ipykernel_launcher.py:1: DeprecationWarning: update is deprecated. Use replace_one, update_one or update_many instead.\n",
      "  \"\"\"Entry point for launching an IPython kernel.\n"
     ]
    },
    {
     "data": {
      "text/plain": [
       "{'n': 1, 'nModified': 1, 'ok': 1.0, 'updatedExisting': True}"
      ]
     },
     "execution_count": 19,
     "metadata": {},
     "output_type": "execute_result"
    }
   ],
   "source": [
    "db.score.update( { 'a' : 5 }, { '$set' : { 'exam' : 10 } } )\n"
   ]
  },
  {
   "cell_type": "code",
   "execution_count": 20,
   "metadata": {
    "scrolled": true
   },
   "outputs": [
    {
     "name": "stdout",
     "output_type": "stream",
     "text": [
      "{'_id': ObjectId('5e2ff835bcdc2cbd88a3eeea'), 'a': 99.0}\n",
      "{'_id': ObjectId('5e2ff889bcdc2cbd88a3eeeb'), 'a': 0.0, 'exam': 5.0}\n",
      "{'_id': ObjectId('5e2ff889bcdc2cbd88a3eeec'), 'a': 1.0, 'exam': 5.0}\n",
      "{'_id': ObjectId('5e2ff889bcdc2cbd88a3eeed'), 'a': 2.0, 'exam': 5.0}\n",
      "{'_id': ObjectId('5e2ff889bcdc2cbd88a3eeee'), 'a': 3.0, 'exam': 5.0}\n",
      "{'_id': ObjectId('5e2ff889bcdc2cbd88a3eeef'), 'a': 4.0, 'exam': 5.0}\n",
      "{'_id': ObjectId('5e3142a6f328ed0c5de20e6f'), 'a': 5, 'exam': 10}\n"
     ]
    }
   ],
   "source": [
    "cursor.rewind()\n",
    "for data in list(cursor):\n",
    "    print(data)"
   ]
  },
  {
   "cell_type": "markdown",
   "metadata": {},
   "source": [
    "score 컬렉션 데이터 삭제"
   ]
  },
  {
   "cell_type": "code",
   "execution_count": 22,
   "metadata": {
    "scrolled": true
   },
   "outputs": [
    {
     "data": {
      "text/plain": [
       "<pymongo.results.DeleteResult at 0x1f8bb6cb788>"
      ]
     },
     "execution_count": 22,
     "metadata": {},
     "output_type": "execute_result"
    }
   ],
   "source": [
    "db.score.delete_one( { 'a' : 5 } )"
   ]
  },
  {
   "cell_type": "code",
   "execution_count": 24,
   "metadata": {},
   "outputs": [
    {
     "name": "stdout",
     "output_type": "stream",
     "text": [
      "{'_id': ObjectId('5e2ff835bcdc2cbd88a3eeea'), 'a': 99.0}\n",
      "{'_id': ObjectId('5e2ff889bcdc2cbd88a3eeeb'), 'a': 0.0, 'exam': 5.0}\n",
      "{'_id': ObjectId('5e2ff889bcdc2cbd88a3eeec'), 'a': 1.0, 'exam': 5.0}\n",
      "{'_id': ObjectId('5e2ff889bcdc2cbd88a3eeed'), 'a': 2.0, 'exam': 5.0}\n",
      "{'_id': ObjectId('5e2ff889bcdc2cbd88a3eeee'), 'a': 3.0, 'exam': 5.0}\n",
      "{'_id': ObjectId('5e2ff889bcdc2cbd88a3eeef'), 'a': 4.0, 'exam': 5.0}\n"
     ]
    }
   ],
   "source": [
    "cursor.rewind()\n",
    "\n",
    "for data in list(cursor):\n",
    "    print(data)"
   ]
  },
  {
   "cell_type": "markdown",
   "metadata": {},
   "source": [
    "## 인터파크 투어에서 조회한 결과를 MongoDB로 저장하기"
   ]
  },
  {
   "cell_type": "code",
   "execution_count": 23,
   "metadata": {},
   "outputs": [],
   "source": [
    "from selenium import webdriver as wd\n",
    "driver = wd.Chrome(executable_path='chromedriver.exe')\n",
    "from selenium.webdriver.common.by import By\n",
    "from selenium.webdriver.support.ui import WebDriverWait\n",
    "from selenium.webdriver.support import expected_conditions as EC\n",
    "import time\n",
    "\n",
    "driver.get('http://tour.interpark.com')\n",
    "driver.implicitly_wait(10)\n",
    "driver.find_element_by_id('SearchGNBText').send_keys('달랏')\n",
    "driver.find_element_by_css_selector('button.search-btn').click()\n",
    "\n",
    "WebDriverWait(driver, 10).until(\n",
    " EC.presence_of_element_located((By.CLASS_NAME, 'oTravelBox'))\n",
    ")\n",
    "driver.find_element_by_css_selector('.oTravelBox .moreBtn').click()"
   ]
  },
  {
   "cell_type": "code",
   "execution_count": 26,
   "metadata": {},
   "outputs": [
    {
     "name": "stdout",
     "output_type": "stream",
     "text": [
      "이미지 http://tourimage.interpark.com/product/tour/00161/A10/280/A1031420_1_027.jpg\n",
      "링크 searchModule.OnClickDetail('http://tour.interpark.com/goods/detail/?BaseGoodsCd=A1031420','')\n",
      "상품명 [달랏4일] 낭만도시 달랏 직항+랑비앙 포함 3박4일\n",
      "추가설명 ★직항 취항 기념 초특가★\n",
      "가격 365,000 원~\n",
      "여행 기간 : 3박4일\n",
      "출발 가능 기간 : 2020.01.29~2020.05.03\n",
      "평점 0.0\n",
      "0개의 상품평\n",
      "====================\n",
      "이미지 http://tourimage.interpark.com/product/tour/00161/A10/280/A1024924_1_620.jpg\n",
      "링크 searchModule.OnClickDetail('http://tour.interpark.com/goods/detail/?BaseGoodsCd=A1024924','')\n",
      "상품명 [나트랑/달랏5일] 시원한 낭만도시 랑비앙관광 5일\n",
      "추가설명 ★떠오르는 베트남 인생여행지★\n",
      "가격 434,700 원~\n",
      "여행 기간 : 3박5일\n",
      "출발 가능 기간 : 2020.01.29~2020.06.30\n",
      "평점 10.0\n",
      "1개의 상품평\n",
      "====================\n",
      "이미지 http://tourimage.interpark.com/product/tour/00161/A10/280/A1025044_3_337.jpg\n",
      "링크 searchModule.OnClickDetail('http://tour.interpark.com/goods/detail/?BaseGoodsCd=A1025044','')\n",
      "상품명 [대구출발_나트랑5일] 지금 핫한 그곳! 아름다운 나트랑/달랏 관광\n",
      "추가설명 머드온천&나트랑 시내관광 포함-동양의 나폴리 나트랑&달랏여행♥\n",
      "가격 499,000 원~\n",
      "여행 기간 : 3박5일\n",
      "출발 가능 기간 : 2020.01.29~2020.03.28\n",
      "평점 0.0\n",
      "0개의 상품평\n",
      "====================\n",
      "이미지 http://tourimage.interpark.com/product/tour/00161/A10/280/A1031349_1_470.jpg\n",
      "링크 searchModule.OnClickDetail('http://tour.interpark.com/goods/detail/?BaseGoodsCd=A1031349','')\n",
      "상품명 [나트랑 5일★연합] 나트랑 1박/ 달랏 2박 꽉찬 관광일정\n",
      "추가설명 신규취항★뱀부항공/기내식제공/수하물20KG\n",
      "가격 349,000 원~\n",
      "여행 기간 : 3박5일\n",
      "출발 가능 기간 : 2020.01.29~2020.03.28\n",
      "평점 10.0\n",
      "2개의 상품평\n",
      "====================\n",
      "이미지 http://img.modetour.com/eagle/photoimg/42164/bfile/636724338254712656.JPG\n",
      "링크 searchModule.OnClickDetail('http://tour.interpark.com/goods/detail/?BaseGoodsCd=A1023759','')\n",
      "상품명 *출발확정*[관광형] 나트랑x달랏 3박5일 [4성(1박)+달랏(2박)]\n",
      "추가설명 최대 7만원 쿠폰할인 (출발일 2020.01.01~2020.03.31)\n",
      "가격 405,000 원~\n",
      "여행 기간 : 3박5일\n",
      "출발 가능 기간 : 2020.01.29~2020.07.31\n",
      "평점 6.3\n",
      "2개의 상품평\n",
      "====================\n",
      "이미지 http://tourimage.interpark.com/product/tour/00161/A10/280/A1025396_7_460.jpg\n",
      "링크 searchModule.OnClickDetail('http://tour.interpark.com/goods/detail/?BaseGoodsCd=A1025396','')\n",
      "상품명 [부산출발_나트랑5일] 떠오르는 여행지 나트랑 + 봄의 도시 달랏을 동시에!! 실속 관광형\n",
      "추가설명 전 일전 준특급호텔 + 아름다운 나트랑 달랏 관광♡\n",
      "가격 499,000 원~\n",
      "여행 기간 : 3박5일\n",
      "출발 가능 기간 : 2020.01.29~2020.03.31\n",
      "평점 4.0\n",
      "1개의 상품평\n",
      "====================\n",
      "이미지 http://img.modetour.com/eagle/photoimg/59122/bfile/636724338211701392.JPG\n",
      "링크 searchModule.OnClickDetail('http://tour.interpark.com/goods/detail/?BaseGoodsCd=A1031529','')\n",
      "상품명 [영원한봄의도시] 달랏 패키지 3박4일 [5성호텔]\n",
      "추가설명 \n",
      "가격 471,000 원~\n",
      "여행 기간 : 3박4일\n",
      "출발 가능 기간 : 2020.01.29~2020.06.28\n",
      "평점 0.0\n",
      "0개의 상품평\n",
      "====================\n",
      "이미지 http://img.modetour.com/eagle/photoimg/42164/bfile/636724338249268660.JPG\n",
      "링크 searchModule.OnClickDetail('http://tour.interpark.com/goods/detail/?BaseGoodsCd=A1028696','')\n",
      "상품명 ♣시그니처♣[퍼펙트베트남][노쇼핑,노옵션] 나트랑x달랏 4박6일 [5성(2박)+달랏(2박)]\n",
      "추가설명 \n",
      "가격 978,800 원~\n",
      "여행 기간 : 4박6일\n",
      "출발 가능 기간 : 2020.01.29~2020.03.20\n",
      "평점 0.0\n",
      "0개의 상품평\n",
      "====================\n",
      "이미지 http://img.modetour.com/eagle/photoimg/42171/bfile/636724338177366577.JPG\n",
      "링크 searchModule.OnClickDetail('http://tour.interpark.com/goods/detail/?BaseGoodsCd=A1025809','')\n",
      "상품명 *출발확정*[증편기][관광형] 나트랑x달랏 3박5일 [4성(1박)+달랏(2박)]\n",
      "추가설명 \n",
      "가격 352,000 원~\n",
      "여행 기간 : 3박4일\n",
      "출발 가능 기간 : 2020.01.29~2020.07.31\n",
      "평점 0.0\n",
      "0개의 상품평\n",
      "====================\n",
      "이미지 http://img.modetour.com/eagle/photoimg/59122/bfile/636724338211701392.JPG\n",
      "링크 searchModule.OnClickDetail('http://tour.interpark.com/goods/detail/?BaseGoodsCd=A1025810','')\n",
      "상품명 [증편기][관광형] 나트랑x달랏 3박5일 [5성(1박)+달랏(2박)]\n",
      "추가설명 \n",
      "가격 405,000 원~\n",
      "여행 기간 : 3박4일\n",
      "출발 가능 기간 : 2020.01.29~2020.07.31\n",
      "평점 10.0\n",
      "1개의 상품평\n",
      "====================\n"
     ]
    }
   ],
   "source": [
    "for page in range(1, 2):\n",
    "    driver.execute_script(\"searchModule.SetCategoryList(%s, '')\" % page)\n",
    "    time.sleep(2)\n",
    "    boxItems = driver.find_elements_by_css_selector(\n",
    "               '.panelZone > .oTravelBox > .boxList > li')\n",
    "    for li in boxItems:\n",
    "        print('이미지', li.find_element_by_css_selector('img.img').get_attribute('src'))\n",
    "        print('링크', li.find_element_by_css_selector('a').get_attribute('onclick'))\n",
    "        print('상품명', li.find_element_by_css_selector('h5.proTit').text)\n",
    "        print('추가설명', li.find_element_by_css_selector('.proSub').text)\n",
    "        print('가격', li.find_element_by_css_selector('strong.proPrice').text)\n",
    "        for info in li.find_elements_by_css_selector('.info-row .proInfo'):\n",
    "            print(info.text)\n",
    "        print('=' * 20)\n",
    "    driver.close()"
   ]
  },
  {
   "cell_type": "code",
   "execution_count": 30,
   "metadata": {},
   "outputs": [],
   "source": [
    "from selenium import webdriver as wd\n",
    "driver = wd.Chrome(executable_path='chromedriver.exe')\n",
    "from selenium.webdriver.common.by import By\n",
    "from selenium.webdriver.support.ui import WebDriverWait\n",
    "from selenium.webdriver.support import expected_conditions as EC\n",
    "import time\n",
    "from pymongo import MongoClient\n",
    "client = MongoClient(host='localhost', port=27017)\n",
    "db = client['test']\n",
    "\n",
    "\n",
    "driver.get('http://tour.interpark.com')\n",
    "driver.implicitly_wait(10)\n",
    "driver.find_element_by_id('SearchGNBText').send_keys('달랏')\n",
    "driver.find_element_by_css_selector('button.search-btn').click()\n",
    "\n",
    "WebDriverWait(driver, 10).until(\n",
    " EC.presence_of_element_located((By.CLASS_NAME, 'oTravelBox'))\n",
    ")\n",
    "driver.find_element_by_css_selector('.oTravelBox .moreBtn').click()"
   ]
  },
  {
   "cell_type": "code",
   "execution_count": 29,
   "metadata": {
    "scrolled": true
   },
   "outputs": [
    {
     "ename": "InvalidSessionIdException",
     "evalue": "Message: invalid session id\n",
     "output_type": "error",
     "traceback": [
      "\u001b[1;31m---------------------------------------------------------------------------\u001b[0m",
      "\u001b[1;31mInvalidSessionIdException\u001b[0m                 Traceback (most recent call last)",
      "\u001b[1;32m<ipython-input-29-b0e8d58d53ef>\u001b[0m in \u001b[0;36m<module>\u001b[1;34m\u001b[0m\n\u001b[0;32m      1\u001b[0m \u001b[1;32mfor\u001b[0m \u001b[0mpage\u001b[0m \u001b[1;32min\u001b[0m \u001b[0mrange\u001b[0m\u001b[1;33m(\u001b[0m\u001b[1;36m1\u001b[0m\u001b[1;33m,\u001b[0m \u001b[1;36m2\u001b[0m\u001b[1;33m)\u001b[0m\u001b[1;33m:\u001b[0m\u001b[1;33m\u001b[0m\u001b[1;33m\u001b[0m\u001b[0m\n\u001b[1;32m----> 2\u001b[1;33m     \u001b[0mdriver\u001b[0m\u001b[1;33m.\u001b[0m\u001b[0mexecute_script\u001b[0m\u001b[1;33m(\u001b[0m\u001b[1;34m\"searchModule.SetCategoryList(%s, '')\"\u001b[0m \u001b[1;33m%\u001b[0m \u001b[0mpage\u001b[0m\u001b[1;33m)\u001b[0m\u001b[1;33m\u001b[0m\u001b[1;33m\u001b[0m\u001b[0m\n\u001b[0m\u001b[0;32m      3\u001b[0m     \u001b[0mtime\u001b[0m\u001b[1;33m.\u001b[0m\u001b[0msleep\u001b[0m\u001b[1;33m(\u001b[0m\u001b[1;36m2\u001b[0m\u001b[1;33m)\u001b[0m\u001b[1;33m\u001b[0m\u001b[1;33m\u001b[0m\u001b[0m\n\u001b[0;32m      4\u001b[0m     boxItems = driver.find_elements_by_css_selector(\n\u001b[0;32m      5\u001b[0m                '.panelZone > .oTravelBox > .boxList > li')\n",
      "\u001b[1;32mD:\\ddusi\\Miniconda3\\lib\\site-packages\\selenium\\webdriver\\remote\\webdriver.py\u001b[0m in \u001b[0;36mexecute_script\u001b[1;34m(self, script, *args)\u001b[0m\n\u001b[0;32m    634\u001b[0m         return self.execute(command, {\n\u001b[0;32m    635\u001b[0m             \u001b[1;34m'script'\u001b[0m\u001b[1;33m:\u001b[0m \u001b[0mscript\u001b[0m\u001b[1;33m,\u001b[0m\u001b[1;33m\u001b[0m\u001b[1;33m\u001b[0m\u001b[0m\n\u001b[1;32m--> 636\u001b[1;33m             'args': converted_args})['value']\n\u001b[0m\u001b[0;32m    637\u001b[0m \u001b[1;33m\u001b[0m\u001b[0m\n\u001b[0;32m    638\u001b[0m     \u001b[1;32mdef\u001b[0m \u001b[0mexecute_async_script\u001b[0m\u001b[1;33m(\u001b[0m\u001b[0mself\u001b[0m\u001b[1;33m,\u001b[0m \u001b[0mscript\u001b[0m\u001b[1;33m,\u001b[0m \u001b[1;33m*\u001b[0m\u001b[0margs\u001b[0m\u001b[1;33m)\u001b[0m\u001b[1;33m:\u001b[0m\u001b[1;33m\u001b[0m\u001b[1;33m\u001b[0m\u001b[0m\n",
      "\u001b[1;32mD:\\ddusi\\Miniconda3\\lib\\site-packages\\selenium\\webdriver\\remote\\webdriver.py\u001b[0m in \u001b[0;36mexecute\u001b[1;34m(self, driver_command, params)\u001b[0m\n\u001b[0;32m    319\u001b[0m         \u001b[0mresponse\u001b[0m \u001b[1;33m=\u001b[0m \u001b[0mself\u001b[0m\u001b[1;33m.\u001b[0m\u001b[0mcommand_executor\u001b[0m\u001b[1;33m.\u001b[0m\u001b[0mexecute\u001b[0m\u001b[1;33m(\u001b[0m\u001b[0mdriver_command\u001b[0m\u001b[1;33m,\u001b[0m \u001b[0mparams\u001b[0m\u001b[1;33m)\u001b[0m\u001b[1;33m\u001b[0m\u001b[1;33m\u001b[0m\u001b[0m\n\u001b[0;32m    320\u001b[0m         \u001b[1;32mif\u001b[0m \u001b[0mresponse\u001b[0m\u001b[1;33m:\u001b[0m\u001b[1;33m\u001b[0m\u001b[1;33m\u001b[0m\u001b[0m\n\u001b[1;32m--> 321\u001b[1;33m             \u001b[0mself\u001b[0m\u001b[1;33m.\u001b[0m\u001b[0merror_handler\u001b[0m\u001b[1;33m.\u001b[0m\u001b[0mcheck_response\u001b[0m\u001b[1;33m(\u001b[0m\u001b[0mresponse\u001b[0m\u001b[1;33m)\u001b[0m\u001b[1;33m\u001b[0m\u001b[1;33m\u001b[0m\u001b[0m\n\u001b[0m\u001b[0;32m    322\u001b[0m             response['value'] = self._unwrap_value(\n\u001b[0;32m    323\u001b[0m                 response.get('value', None))\n",
      "\u001b[1;32mD:\\ddusi\\Miniconda3\\lib\\site-packages\\selenium\\webdriver\\remote\\errorhandler.py\u001b[0m in \u001b[0;36mcheck_response\u001b[1;34m(self, response)\u001b[0m\n\u001b[0;32m    240\u001b[0m                 \u001b[0malert_text\u001b[0m \u001b[1;33m=\u001b[0m \u001b[0mvalue\u001b[0m\u001b[1;33m[\u001b[0m\u001b[1;34m'alert'\u001b[0m\u001b[1;33m]\u001b[0m\u001b[1;33m.\u001b[0m\u001b[0mget\u001b[0m\u001b[1;33m(\u001b[0m\u001b[1;34m'text'\u001b[0m\u001b[1;33m)\u001b[0m\u001b[1;33m\u001b[0m\u001b[1;33m\u001b[0m\u001b[0m\n\u001b[0;32m    241\u001b[0m             \u001b[1;32mraise\u001b[0m \u001b[0mexception_class\u001b[0m\u001b[1;33m(\u001b[0m\u001b[0mmessage\u001b[0m\u001b[1;33m,\u001b[0m \u001b[0mscreen\u001b[0m\u001b[1;33m,\u001b[0m \u001b[0mstacktrace\u001b[0m\u001b[1;33m,\u001b[0m \u001b[0malert_text\u001b[0m\u001b[1;33m)\u001b[0m\u001b[1;33m\u001b[0m\u001b[1;33m\u001b[0m\u001b[0m\n\u001b[1;32m--> 242\u001b[1;33m         \u001b[1;32mraise\u001b[0m \u001b[0mexception_class\u001b[0m\u001b[1;33m(\u001b[0m\u001b[0mmessage\u001b[0m\u001b[1;33m,\u001b[0m \u001b[0mscreen\u001b[0m\u001b[1;33m,\u001b[0m \u001b[0mstacktrace\u001b[0m\u001b[1;33m)\u001b[0m\u001b[1;33m\u001b[0m\u001b[1;33m\u001b[0m\u001b[0m\n\u001b[0m\u001b[0;32m    243\u001b[0m \u001b[1;33m\u001b[0m\u001b[0m\n\u001b[0;32m    244\u001b[0m     \u001b[1;32mdef\u001b[0m \u001b[0m_value_or_default\u001b[0m\u001b[1;33m(\u001b[0m\u001b[0mself\u001b[0m\u001b[1;33m,\u001b[0m \u001b[0mobj\u001b[0m\u001b[1;33m,\u001b[0m \u001b[0mkey\u001b[0m\u001b[1;33m,\u001b[0m \u001b[0mdefault\u001b[0m\u001b[1;33m)\u001b[0m\u001b[1;33m:\u001b[0m\u001b[1;33m\u001b[0m\u001b[1;33m\u001b[0m\u001b[0m\n",
      "\u001b[1;31mInvalidSessionIdException\u001b[0m: Message: invalid session id\n"
     ]
    }
   ],
   "source": [
    "for page in range(1, 2):\n",
    "    driver.execute_script(\"searchModule.SetCategoryList(%s, '')\" % page)\n",
    "    time.sleep(2)\n",
    "    boxItems = driver.find_elements_by_css_selector(\n",
    "               '.panelZone > .oTravelBox > .boxList > li')\n",
    "    for li in boxItems:\n",
    "        print('이미지', li.find_element_by_css_selector('img.img').get_attribute('src'))\n",
    "        print('링크', li.find_element_by_css_selector('a').get_attribute('onclick'))\n",
    "        print('상품명', li.find_element_by_css_selector('h5.proTit').text)\n",
    "        print('추가설명', li.find_element_by_css_selector('.proSub').text)\n",
    "        print('가격', li.find_element_by_css_selector('strong.proPrice').text)\n",
    "        for info in li.find_elements_by_css_selector('.info-row .proInfo'):\n",
    "            print(info.text)\n",
    "        print('=' * 20)\n",
    "        \n",
    "        db.tour.save({\n",
    "            'img' : li.find_element_by_css_selector('img.img').get_attribute('src'), \n",
    "            'link' : li.find_element_by_css_selector('a').get_attribute('onclick'),\n",
    "            'title' : li.find_element_by_css_selector('h5.proTit').text,\n",
    "            'desc' : li.find_element_by_css_selector('.proSub').text,\n",
    "            'price' : li.find_element_by_css_selector('strong.proPrice').text \n",
    "        })\n",
    "    driver.close()"
   ]
  },
  {
   "cell_type": "code",
   "execution_count": null,
   "metadata": {},
   "outputs": [],
   "source": []
  },
  {
   "cell_type": "markdown",
   "metadata": {},
   "source": [
    "# pythonDB에 있는 shop 데이터 활용\n",
    "\n",
    "1. django의 모델 기능을 활용하지 않고\n",
    "pymysql 모듈을 활용\n"
   ]
  },
  {
   "cell_type": "code",
   "execution_count": 39,
   "metadata": {},
   "outputs": [],
   "source": [
    "import pymysql\n",
    "\n",
    "conn = pymysql.connect(\n",
    "        host='localhost', user='root', password='123',\n",
    "        db='pythondb', charset='utf8')\n",
    "\n",
    "cursor = conn.cursor()\n",
    "\n",
    "sql = '''SELECT * FROM shop;'''\n",
    "\n",
    "cursor.execute(sql)\n",
    "\n",
    "conn.commit()\n",
    "\n",
    "cursor.close()\n",
    "conn.close()"
   ]
  },
  {
   "cell_type": "code",
   "execution_count": 42,
   "metadata": {},
   "outputs": [
    {
     "name": "stdout",
     "output_type": "stream",
     "text": [
      "(786, '태평양회참치', '부드러운 참다랑어 뱃살과 고소한 모듬회', '명절휴무', '주차가능', '/save_img/shop_img/ece475bf-0556-40d1-aea9-cf2387faa41c.jpg') <class 'tuple'>\n",
      "(787, '삼정횟집', '욕지도에서 공수한 자연산 회 전문점', '매주 일요일 (예약제 운영)', '주차가능', '/save_img/shop_img/10b5a4ba-f4c9-4069-896a-1afca79acd8a.jpg') <class 'tuple'>\n",
      "(788, '부평맷돌빈대떡', '고소한 기름냄새를 머금은 웰빙 빈대떡', '연중무휴', '주차불가', '/save_img/shop_img/cee031e1-ec1c-4927-9699-7d1b6cf4930a.jpg') <class 'tuple'>\n",
      "(789, '금랑', '고소한 과메기쌈의 매력이 있는 곳', '연중무휴', '주차불가', '/save_img/shop_img/fe6281fc-6d2f-4472-83e5-db4d7d7fac41.jpg') <class 'tuple'>\n",
      "(790, '만나칼국수', '진한 사골육수를 만난 부드러운 손칼국수', '공휴일', '주차가능', '/save_img/shop_img/ede5d441-3765-488a-a725-4da26b1acfae.jpg') <class 'tuple'>\n",
      "(791, '전주식당', '푸짐한 인심과 착한 가격까지 갖춘 정식', '연중무휴', '주차불가', '/save_img/shop_img/6f011697-efb2-4477-a1b8-fbc691869345.jpg') <class 'tuple'>\n",
      "(792, '동림갈비', '다양한 종류의 김치와 두툼한 생삼겹살', '둘째주 화요일', '주차불가', '/save_img/shop_img/7bd10ef8-b15d-4411-a237-e311d2b19df3.jpg') <class 'tuple'>\n",
      "(793, '중국손만두', '육즙이 감도는 찐만두와 깔끔한 만둣국', '셋째주 수요일', '주차불가', '/save_img/shop_img/5a980e49-bd87-4303-a67e-bf8493af9a59.jpg') <class 'tuple'>\n",
      "(794, '이웃집', '담백하고 고소한 밍크고래와 참치뱃살', '매주 일요일', '주차불가 (경전철 주차장 이용)', '/save_img/shop_img/17d531da-9d14-4998-8195-a2b74635ad39.jpg') <class 'tuple'>\n",
      "(795, '집밥예인', '엄마의 정성이 담긴 집밥 이상의 집밥', '매주 일요일', '주차불가', '/save_img/shop_img/a0e37cc3-2b86-4200-9916-9e6fb3264d54.jpg') <class 'tuple'>\n",
      "(796, '사상꼬리집', '부드러운 통삼겹살과 별미 돼지꼬리', '연중무휴', '주차불가', '/save_img/shop_img/4e08d8ba-4778-4092-9dea-c186d5aae06b.jpg') <class 'tuple'>\n",
      "(797, '동해남부선', '다양한 요리가 있는 술맛 나는 선술집', '매주 일요일', '주차불가', '/save_img/shop_img/b03f1a9a-f512-4064-adcc-d1ac32357ab9.jpg') <class 'tuple'>\n",
      "(798, '전주식당', '착한가격의 돌솥비빔밥과 돌솥밥', '매주 일요일', '주차불가', '/save_img/shop_img/de265b3a-e777-483f-b6a8-e3287c1782bf.jpg') <class 'tuple'>\n",
      "(799, '오가네곰탕', '점심시간에만 맛볼 수 있는 구수한 소머리곰탕', '명절휴무', '주차가능', '/save_img/shop_img/516b3f72-1e08-41cb-9c05-ad5e5cd20aba.jpg') <class 'tuple'>\n",
      "(800, '속씨원한대구탕', '24시간 속을 시원하게 풀어주는 대구탕 전문점', '연중무휴', '주차가능', '/save_img/shop_img/24f761ee-3bdc-4f89-a9c6-0f90ecc69a8b.jpg') <class 'tuple'>\n",
      "(801, '백산키친', '깔끔하고 솜씨 좋은 일식 다이닝 주점', '매주 일요일', '주차가능', '/save_img/shop_img/aaa2320e-be40-4e5d-a42e-d30f0c27dda2.jpg') <class 'tuple'>\n",
      "(802, '명가네', '착한가격의 만족스러운 전집', '명절휴무', '공영주차장 이용', '/save_img/shop_img/c69f6e09-e9de-4bae-b45e-e9243a6ad77b.jpg') <class 'tuple'>\n",
      "(803, '그때그집', '비오는 날 생각나는 부드러운 칼국수', '매주 토요일, 일요일 휴무', '주차불가', '/save_img/shop_img/971d7b01-0a04-4874-8f18-b3f459d59beb.jpg') <class 'tuple'>\n",
      "(804, '해초밥', '고소한 맛이 일품인 숙성회 전문점', '매주 일요일', '주차불가', '/save_img/shop_img/642c8bbe-8b72-47ea-a588-2259d880bb5f.jpg') <class 'tuple'>\n",
      "(805, '청진동아구찜감자탕', '줄 서서 먹는 매콤한 아구찜의 매력', '연중무휴', '주차불가', '/save_img/shop_img/16dcc157-f78b-4f09-872f-2ca888e0d70e.jpg') <class 'tuple'>\n",
      "(806, '메고밀면', '메밀에 고구마 맛을 더한 독특한 밀면', '동절기 매주 수요일', '주차불가', '/save_img/shop_img/07b926b8-03ed-4110-87a5-1a371f370743.jpg') <class 'tuple'>\n",
      "(807, '갓포현', '제철 요리를 맛볼 수 있는 솜씨 좋은 갓포', '명절휴무', '주차불가', '/save_img/shop_img/0b1e4d30-f788-4190-bdd3-0050499fffb6.jpg') <class 'tuple'>\n",
      "(808, '신기산업', '영도 앞바다가 한 눈에 들어오는 카페', '연중무휴', '주차가능', '/save_img/shop_img/c6890c3b-88b4-49a8-8ed4-db7bde14f78c.jpg') <class 'tuple'>\n",
      "(809, '팔도돌곱창', '30년 전통의 고소하고 얼큰한 돌곱창전골', '첫째, 셋째주 일요일', '주차불가', '/save_img/shop_img/4c968532-c4ed-48f7-868d-318e98924891.jpg') <class 'tuple'>\n",
      "(810, '진주식당', '해장으로 그만, 구수한 고등어추어탕', '명절휴무', '주차불가', '/save_img/shop_img/a83a6e79-6e3b-4f86-93d7-edcdacb2101d.jpg') <class 'tuple'>\n",
      "(811, '부산명물횟집', 'SINCE 1946, 고소한 숙성회와 맑은탕 전문점', '명절휴무', '인근 유료주차장 이용', '/save_img/shop_img/7d0c57f2-f135-4e07-8719-ffe6bc752c1f.jpg') <class 'tuple'>\n",
      "(812, '할매국밥', '맑고 시원한 국물과 부드러운 수육', '매주 일요일', '주차불가', '/save_img/shop_img/5a9a29c8-45c4-4fc1-9b32-41cd9efb6228.jpg') <class 'tuple'>\n",
      "(813, '부다밀면', '자극적이지 않지만 깊은 맛이 있는 밀면', '연중무휴', '주차불가', '/save_img/shop_img/ae45e674-4f49-4fcf-905d-79304481586e.jpg') <class 'tuple'>\n"
     ]
    }
   ],
   "source": [
    "import pymysql\n",
    "\n",
    "try:\n",
    "    conn = pymysql.connect(\n",
    "        host='localhost', user='root', password='123',\n",
    "        db='pythondb', charset='utf8')\n",
    "\n",
    "    with conn.cursor() as cursor:\n",
    "        sql = '''SELECT * FROM shop'''\n",
    "        cursor.execute(sql)\n",
    "        \n",
    "        result = cursor.fetchall()\n",
    "        for row in result:\n",
    "            print(row, type(row))\n",
    "except pymysql.InternalError as e:\n",
    "    print('InternalError', e)\n",
    "except pymysql.ProgrammingError as e:\n",
    "    print('programmingError', e)\n",
    "finally:\n",
    "    conn.close()"
   ]
  },
  {
   "cell_type": "code",
   "execution_count": null,
   "metadata": {},
   "outputs": [],
   "source": []
  }
 ],
 "metadata": {
  "kernelspec": {
   "display_name": "Python 3",
   "language": "python",
   "name": "python3"
  },
  "language_info": {
   "codemirror_mode": {
    "name": "ipython",
    "version": 3
   },
   "file_extension": ".py",
   "mimetype": "text/x-python",
   "name": "python",
   "nbconvert_exporter": "python",
   "pygments_lexer": "ipython3",
   "version": "3.7.4"
  }
 },
 "nbformat": 4,
 "nbformat_minor": 2
}
