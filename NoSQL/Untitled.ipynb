{
 "cells": [
  {
   "cell_type": "code",
   "execution_count": 3,
   "metadata": {},
   "outputs": [],
   "source": [
    "from pymongo import MongoClient"
   ]
  },
  {
   "cell_type": "code",
   "execution_count": 4,
   "metadata": {},
   "outputs": [],
   "source": [
    "client = MongoClient(host='localhost', port=27017)"
   ]
  },
  {
   "cell_type": "code",
   "execution_count": 5,
   "metadata": {},
   "outputs": [],
   "source": [
    "db = client['test']"
   ]
  },
  {
   "cell_type": "code",
   "execution_count": 8,
   "metadata": {},
   "outputs": [],
   "source": [
    "cursor = db.score.find()"
   ]
  },
  {
   "cell_type": "code",
   "execution_count": 11,
   "metadata": {},
   "outputs": [
    {
     "name": "stdout",
     "output_type": "stream",
     "text": [
      "5\n"
     ]
    }
   ],
   "source": [
    "cursor.rewind()\n",
    "\n",
    "for data in list(cursor):\n",
    "    print(data['a'])"
   ]
  },
  {
   "cell_type": "code",
   "execution_count": 7,
   "metadata": {
    "scrolled": true
   },
   "outputs": [
    {
     "name": "stderr",
     "output_type": "stream",
     "text": [
      "D:\\ddusi\\Miniconda3\\lib\\site-packages\\ipykernel_launcher.py:1: DeprecationWarning: save is deprecated. Use insert_one or replace_one instead\n",
      "  \"\"\"Entry point for launching an IPython kernel.\n"
     ]
    },
    {
     "data": {
      "text/plain": [
       "ObjectId('5e2ff1e3ae894c20dd03b098')"
      ]
     },
     "execution_count": 7,
     "metadata": {},
     "output_type": "execute_result"
    }
   ],
   "source": [
    "db.score.save( { 'a' : 5, 'exam' : 6})"
   ]
  },
  {
   "cell_type": "code",
   "execution_count": 13,
   "metadata": {},
   "outputs": [
    {
     "name": "stderr",
     "output_type": "stream",
     "text": [
      "D:\\ddusi\\Miniconda3\\lib\\site-packages\\ipykernel_launcher.py:1: DeprecationWarning: update is deprecated. Use replace_one, update_one or update_many instead.\n",
      "  \"\"\"Entry point for launching an IPython kernel.\n"
     ]
    },
    {
     "data": {
      "text/plain": [
       "{'n': 1, 'nModified': 1, 'ok': 1.0, 'updatedExisting': True}"
      ]
     },
     "execution_count": 13,
     "metadata": {},
     "output_type": "execute_result"
    }
   ],
   "source": [
    "db.score.update( { 'a' : 5 }, { '$set' : { 'exam' : 10 } } )\n"
   ]
  },
  {
   "cell_type": "code",
   "execution_count": 14,
   "metadata": {
    "scrolled": true
   },
   "outputs": [
    {
     "name": "stdout",
     "output_type": "stream",
     "text": [
      "{'_id': ObjectId('5e2ff1e3ae894c20dd03b098'), 'a': 5, 'exam': 10}\n"
     ]
    }
   ],
   "source": [
    "cursor.rewind()\n",
    "for data in list(cursor):\n",
    "    print(data)"
   ]
  },
  {
   "cell_type": "code",
   "execution_count": 15,
   "metadata": {},
   "outputs": [
    {
     "data": {
      "text/plain": [
       "<pymongo.results.DeleteResult at 0x18d375a9f88>"
      ]
     },
     "execution_count": 15,
     "metadata": {},
     "output_type": "execute_result"
    }
   ],
   "source": [
    "db.score.delete_one( { 'a' : 5 } )"
   ]
  },
  {
   "cell_type": "code",
   "execution_count": 8,
   "metadata": {},
   "outputs": [],
   "source": [
    "from selenium import webdriver as wd\n",
    "driver = wd.Chrome(executable_path='chromedriver.exe')\n",
    "from selenium.webdriver.common.by import By\n",
    "from selenium.webdriver.support.ui import WebDriverWait\n",
    "from selenium.webdriver.support import expected_conditions as EC\n",
    "import time\n",
    "driver.get('http://tour.interpark.com')\n",
    "driver.implicitly_wait(10)\n",
    "driver.find_element_by_id('SearchGNBText').send_keys('달랏')\n",
    "driver.find_element_by_css_selector('button.search-btn').click()\n",
    "WebDriverWait(driver, 10).until(\n",
    " EC.presence_of_element_located((By.CLASS_NAME, 'oTravelBox'))\n",
    ")\n",
    "driver.find_element_by_css_selector('.oTravelBox .moreBtn').click()"
   ]
  },
  {
   "cell_type": "code",
   "execution_count": 12,
   "metadata": {},
   "outputs": [
    {
     "name": "stdout",
     "output_type": "stream",
     "text": [
      "이미지 http://tourimage.interpark.com/product/tour/00161/A10/280/A1031420_1_027.jpg\n",
      "링크 searchModule.OnClickDetail('http://tour.interpark.com/goods/detail/?BaseGoodsCd=A1031420','')\n",
      "상품명 [달랏4일] 낭만도시 달랏 직항+랑비앙 포함 3박4일\n",
      "추가설명 ★직항 취항 기념 초특가★\n",
      "가격 365,000 원~\n",
      "여행 기간 : 3박4일\n",
      "출발 가능 기간 : 2020.01.29~2020.05.03\n",
      "평점 0.0\n",
      "0개의 상품평\n",
      "====================\n",
      "이미지 http://tourimage.interpark.com/product/tour/00161/A10/280/A1024924_1_620.jpg\n",
      "링크 searchModule.OnClickDetail('http://tour.interpark.com/goods/detail/?BaseGoodsCd=A1024924','')\n",
      "상품명 [나트랑/달랏5일] 시원한 낭만도시 랑비앙관광 5일\n",
      "추가설명 ★떠오르는 베트남 인생여행지★\n",
      "가격 434,700 원~\n",
      "여행 기간 : 3박5일\n",
      "출발 가능 기간 : 2020.01.28~2020.06.30\n",
      "평점 10.0\n",
      "1개의 상품평\n",
      "====================\n",
      "이미지 http://tourimage.interpark.com/product/tour/00161/A10/280/A1025044_3_337.jpg\n",
      "링크 searchModule.OnClickDetail('http://tour.interpark.com/goods/detail/?BaseGoodsCd=A1025044','')\n",
      "상품명 [대구출발_나트랑5일] 지금 핫한 그곳! 아름다운 나트랑/달랏 관광\n",
      "추가설명 머드온천&나트랑 시내관광 포함-동양의 나폴리 나트랑&달랏여행♥\n",
      "가격 499,000 원~\n",
      "여행 기간 : 3박5일\n",
      "출발 가능 기간 : 2020.01.28~2020.03.28\n",
      "평점 0.0\n",
      "0개의 상품평\n",
      "====================\n",
      "이미지 http://tourimage.interpark.com/product/tour/00161/A10/280/A1031349_1_470.jpg\n",
      "링크 searchModule.OnClickDetail('http://tour.interpark.com/goods/detail/?BaseGoodsCd=A1031349','')\n",
      "상품명 [나트랑 5일★연합] 나트랑 1박/ 달랏 2박 꽉찬 관광일정\n",
      "추가설명 신규취항★뱀부항공/기내식제공/수하물20KG\n",
      "가격 349,000 원~\n",
      "여행 기간 : 3박5일\n",
      "출발 가능 기간 : 2020.01.28~2020.03.28\n",
      "평점 10.0\n",
      "1개의 상품평\n",
      "====================\n",
      "이미지 http://img.modetour.com/eagle/photoimg/42164/bfile/636724338253061415.JPG\n",
      "링크 searchModule.OnClickDetail('http://tour.interpark.com/goods/detail/?BaseGoodsCd=A1023759','')\n",
      "상품명 *출발확정*[관광형] 나트랑x달랏 3박5일 [4성(1박)+달랏(2박)]\n",
      "추가설명 최대 7만원 쿠폰할인 (출발일 2020.01.01~2020.03.31)\n",
      "가격 405,000 원~\n",
      "여행 기간 : 3박5일\n",
      "출발 가능 기간 : 2020.01.28~2020.07.31\n",
      "평점 6.3\n",
      "2개의 상품평\n",
      "====================\n",
      "이미지 http://tourimage.interpark.com/product/tour/00161/A10/280/A1025396_7_460.jpg\n",
      "링크 searchModule.OnClickDetail('http://tour.interpark.com/goods/detail/?BaseGoodsCd=A1025396','')\n",
      "상품명 [부산출발_나트랑5일] 떠오르는 여행지 나트랑 + 봄의 도시 달랏을 동시에!! 실속 관광형\n",
      "추가설명 전 일전 준특급호텔 + 아름다운 나트랑 달랏 관광♡\n",
      "가격 499,000 원~\n",
      "여행 기간 : 3박5일\n",
      "출발 가능 기간 : 2020.01.28~2020.03.31\n",
      "평점 4.0\n",
      "1개의 상품평\n",
      "====================\n",
      "이미지 http://img.modetour.com/eagle/photoimg/59122/bfile/636724338211701392.JPG\n",
      "링크 searchModule.OnClickDetail('http://tour.interpark.com/goods/detail/?BaseGoodsCd=A1031529','')\n",
      "상품명 [영원한봄의도시] 달랏 패키지 3박4일 [5성호텔]\n",
      "추가설명 \n",
      "가격 471,000 원~\n",
      "여행 기간 : 3박4일\n",
      "출발 가능 기간 : 2020.01.29~2020.06.28\n",
      "평점 0.0\n",
      "0개의 상품평\n",
      "====================\n",
      "이미지 http://img.modetour.com/eagle/photoimg/42164/bfile/636724338249268660.JPG\n",
      "링크 searchModule.OnClickDetail('http://tour.interpark.com/goods/detail/?BaseGoodsCd=A1025809','')\n",
      "상품명 *출발확정*[증편기][관광형] 나트랑x달랏 3박5일 [4성(1박)+달랏(2박)]\n",
      "추가설명 \n",
      "가격 352,000 원~\n",
      "여행 기간 : 3박4일\n",
      "출발 가능 기간 : 2020.01.28~2020.07.31\n",
      "평점 0.0\n",
      "0개의 상품평\n",
      "====================\n",
      "이미지 http://img.modetour.com/eagle/photoimg/42171/bfile/636724338177366577.JPG\n",
      "링크 searchModule.OnClickDetail('http://tour.interpark.com/goods/detail/?BaseGoodsCd=A1025810','')\n",
      "상품명 [증편기][관광형] 나트랑x달랏 3박5일 [5성(1박)+달랏(2박)]\n",
      "추가설명 \n",
      "가격 405,000 원~\n",
      "여행 기간 : 3박4일\n",
      "출발 가능 기간 : 2020.01.28~2020.07.31\n",
      "평점 10.0\n",
      "1개의 상품평\n",
      "====================\n",
      "이미지 http://img.modetour.com/eagle/photoimg/56584/bfile/636453195339574051.JPG\n",
      "링크 searchModule.OnClickDetail('http://tour.interpark.com/goods/detail/?BaseGoodsCd=Q1011029','')\n",
      "상품명 ●연중 봄의 도시, 달랏● [5성호텔] 달랏 3색 골프(54홀) + 관광 3박 5일\n",
      "추가설명 \n",
      "가격 1,480,000 원~\n",
      "여행 기간 : 3박5일\n",
      "출발 가능 기간 : 2020.01.28~2020.06.27\n",
      "평점 0.0\n",
      "0개의 상품평\n",
      "====================\n"
     ]
    }
   ],
   "source": [
    "for page in range(1, 2):\n",
    "    driver.execute_script(\"searchModule.SetCategoryList(%s, '')\" % page)\n",
    "    time.sleep(2)\n",
    "    boxItems = driver.find_elements_by_css_selector(\n",
    "               '.panelZone > .oTravelBox > .boxList > li')\n",
    "    for li in boxItems:\n",
    "        print('이미지', li.find_element_by_css_selector('img.img').get_attribute('src'))\n",
    "        print('링크', li.find_element_by_css_selector('a').get_attribute('onclick'))\n",
    "        print('상품명', li.find_element_by_css_selector('h5.proTit').text)\n",
    "        print('추가설명', li.find_element_by_css_selector('.proSub').text)\n",
    "        print('가격', li.find_element_by_css_selector('strong.proPrice').text)\n",
    "        for info in li.find_elements_by_css_selector('.info-row .proInfo'):\n",
    "            print(info.text)\n",
    "        print('=' * 20)\n",
    "    driver.close()"
   ]
  },
  {
   "cell_type": "code",
   "execution_count": null,
   "metadata": {},
   "outputs": [],
   "source": []
  },
  {
   "cell_type": "code",
   "execution_count": null,
   "metadata": {},
   "outputs": [],
   "source": []
  },
  {
   "cell_type": "code",
   "execution_count": null,
   "metadata": {},
   "outputs": [],
   "source": []
  }
 ],
 "metadata": {
  "kernelspec": {
   "display_name": "Python 3",
   "language": "python",
   "name": "python3"
  },
  "language_info": {
   "codemirror_mode": {
    "name": "ipython",
    "version": 3
   },
   "file_extension": ".py",
   "mimetype": "text/x-python",
   "name": "python",
   "nbconvert_exporter": "python",
   "pygments_lexer": "ipython3",
   "version": "3.7.4"
  }
 },
 "nbformat": 4,
 "nbformat_minor": 2
}
