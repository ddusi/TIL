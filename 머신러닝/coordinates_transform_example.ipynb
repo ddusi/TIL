{
 "cells": [
  {
   "cell_type": "code",
   "execution_count": 12,
   "metadata": {},
   "outputs": [],
   "source": [
    "from pyproj import Proj, transform\n",
    "import numpy as np\n",
    "import pandas  as pd\n",
    "\n",
    "# Projection 정의\n",
    "# UTM-K\n",
    "proj_UTMK = Proj(init='epsg:5181') # UTM-K(Bassel) 도로명주소 지도 사용 중\n",
    "\n",
    "# WGS1984\n",
    "# proj_WGS84 = Proj(init='epsg:4326') # Wgs84 경도/위도, GPS사용 전지구 좌표\n",
    "proj_WGS84 = Proj(init='epsg:4326') # Wgs84 경도/위도, GPS사용 전지구 좌표"
   ]
  },
  {
   "cell_type": "markdown",
   "metadata": {},
   "source": [
    "# 좌표 변환 Example"
   ]
  },
  {
   "cell_type": "code",
   "execution_count": 13,
   "metadata": {},
   "outputs": [
    {
     "name": "stdout",
     "output_type": "stream",
     "text": [
      "126.837746714377 37.5299448479299\n"
     ]
    }
   ],
   "source": [
    "# UTM-K -> WGS84 샘플\n",
    "x1, y1 = 185658.40757,447839.99221\n",
    "x2, y2 = transform(proj_UTMK,proj_WGS84,x1,y1)\n",
    "print(x2,y2)"
   ]
  },
  {
   "cell_type": "code",
   "execution_count": 14,
   "metadata": {},
   "outputs": [
    {
     "data": {
      "text/html": [
       "<div>\n",
       "<style scoped>\n",
       "    .dataframe tbody tr th:only-of-type {\n",
       "        vertical-align: middle;\n",
       "    }\n",
       "\n",
       "    .dataframe tbody tr th {\n",
       "        vertical-align: top;\n",
       "    }\n",
       "\n",
       "    .dataframe thead th {\n",
       "        text-align: right;\n",
       "    }\n",
       "</style>\n",
       "<table border=\"1\" class=\"dataframe\">\n",
       "  <thead>\n",
       "    <tr style=\"text-align: right;\">\n",
       "      <th></th>\n",
       "      <th>관리번호</th>\n",
       "      <th>X좌표</th>\n",
       "      <th>Y좌표</th>\n",
       "      <th>인접지지적</th>\n",
       "      <th>인접지 주소(동)</th>\n",
       "      <th>인접지 주소(번지)</th>\n",
       "    </tr>\n",
       "  </thead>\n",
       "  <tbody>\n",
       "    <tr>\n",
       "      <th>0</th>\n",
       "      <td>470103_4_0003</td>\n",
       "      <td>185658.40757</td>\n",
       "      <td>447839.99221</td>\n",
       "      <td>1147010300102280001</td>\n",
       "      <td>양천구 신월동</td>\n",
       "      <td>228-1</td>\n",
       "    </tr>\n",
       "    <tr>\n",
       "      <th>1</th>\n",
       "      <td>560106_4_0041</td>\n",
       "      <td>191606.56948</td>\n",
       "      <td>446787.11200</td>\n",
       "      <td>1156010600100250001</td>\n",
       "      <td>영등포구 영등포동5가</td>\n",
       "      <td>25-1</td>\n",
       "    </tr>\n",
       "    <tr>\n",
       "      <th>2</th>\n",
       "      <td>560106_4_0042</td>\n",
       "      <td>191610.08308</td>\n",
       "      <td>446830.15067</td>\n",
       "      <td>1156010600100270005</td>\n",
       "      <td>영등포구 영등포동5가</td>\n",
       "      <td>27-5</td>\n",
       "    </tr>\n",
       "    <tr>\n",
       "      <th>3</th>\n",
       "      <td>560107_4_0028</td>\n",
       "      <td>191582.53625</td>\n",
       "      <td>446867.20485</td>\n",
       "      <td>1156010700100010016</td>\n",
       "      <td>영등포구 영등포동6가</td>\n",
       "      <td>1-16</td>\n",
       "    </tr>\n",
       "    <tr>\n",
       "      <th>4</th>\n",
       "      <td>560109_4_0001</td>\n",
       "      <td>191777.08098</td>\n",
       "      <td>447349.71074</td>\n",
       "      <td>1156010900100010000</td>\n",
       "      <td>영등포구 영등포동8가</td>\n",
       "      <td>1</td>\n",
       "    </tr>\n",
       "    <tr>\n",
       "      <th>...</th>\n",
       "      <td>...</td>\n",
       "      <td>...</td>\n",
       "      <td>...</td>\n",
       "      <td>...</td>\n",
       "      <td>...</td>\n",
       "      <td>...</td>\n",
       "    </tr>\n",
       "    <tr>\n",
       "      <th>980</th>\n",
       "      <td>320105_4_0008</td>\n",
       "      <td>202747.56704</td>\n",
       "      <td>460814.48602</td>\n",
       "      <td>1132010500103880033</td>\n",
       "      <td>도봉구 쌍문동</td>\n",
       "      <td>388-33</td>\n",
       "    </tr>\n",
       "    <tr>\n",
       "      <th>981</th>\n",
       "      <td>440101_4_0008</td>\n",
       "      <td>196121.36674</td>\n",
       "      <td>450825.20937</td>\n",
       "      <td>1144010100102670001</td>\n",
       "      <td>마포구 아현동</td>\n",
       "      <td>267-1</td>\n",
       "    </tr>\n",
       "    <tr>\n",
       "      <th>982</th>\n",
       "      <td>140163_4_0003</td>\n",
       "      <td>201396.04613</td>\n",
       "      <td>451892.56121</td>\n",
       "      <td>1114016200107730000</td>\n",
       "      <td>중구 신당동</td>\n",
       "      <td>773</td>\n",
       "    </tr>\n",
       "    <tr>\n",
       "      <th>983</th>\n",
       "      <td>650106_4_0016</td>\n",
       "      <td>200612.26199</td>\n",
       "      <td>446002.91764</td>\n",
       "      <td>1165010600100650007</td>\n",
       "      <td>서초구 잠원동</td>\n",
       "      <td>65-7</td>\n",
       "    </tr>\n",
       "    <tr>\n",
       "      <th>984</th>\n",
       "      <td>500103_4_0081</td>\n",
       "      <td>186759.49122</td>\n",
       "      <td>450303.20361</td>\n",
       "      <td>1150010300111170014</td>\n",
       "      <td>강서구 화곡동</td>\n",
       "      <td>1117-14</td>\n",
       "    </tr>\n",
       "  </tbody>\n",
       "</table>\n",
       "<p>985 rows × 6 columns</p>\n",
       "</div>"
      ],
      "text/plain": [
       "              관리번호           X좌표           Y좌표                인접지지적  \\\n",
       "0    470103_4_0003  185658.40757  447839.99221  1147010300102280001   \n",
       "1    560106_4_0041  191606.56948  446787.11200  1156010600100250001   \n",
       "2    560106_4_0042  191610.08308  446830.15067  1156010600100270005   \n",
       "3    560107_4_0028  191582.53625  446867.20485  1156010700100010016   \n",
       "4    560109_4_0001  191777.08098  447349.71074  1156010900100010000   \n",
       "..             ...           ...           ...                  ...   \n",
       "980  320105_4_0008  202747.56704  460814.48602  1132010500103880033   \n",
       "981  440101_4_0008  196121.36674  450825.20937  1144010100102670001   \n",
       "982  140163_4_0003  201396.04613  451892.56121  1114016200107730000   \n",
       "983  650106_4_0016  200612.26199  446002.91764  1165010600100650007   \n",
       "984  500103_4_0081  186759.49122  450303.20361  1150010300111170014   \n",
       "\n",
       "       인접지 주소(동) 인접지 주소(번지)  \n",
       "0        양천구 신월동      228-1  \n",
       "1    영등포구 영등포동5가       25-1  \n",
       "2    영등포구 영등포동5가       27-5  \n",
       "3    영등포구 영등포동6가       1-16  \n",
       "4    영등포구 영등포동8가          1  \n",
       "..           ...        ...  \n",
       "980      도봉구 쌍문동     388-33  \n",
       "981      마포구 아현동      267-1  \n",
       "982       중구 신당동        773  \n",
       "983      서초구 잠원동       65-7  \n",
       "984      강서구 화곡동    1117-14  \n",
       "\n",
       "[985 rows x 6 columns]"
      ]
     },
     "execution_count": 14,
     "metadata": {},
     "output_type": "execute_result"
    }
   ],
   "source": [
    "df = pd.read_csv('loc.csv')\n",
    "df"
   ]
  },
  {
   "cell_type": "code",
   "execution_count": 27,
   "metadata": {},
   "outputs": [],
   "source": [
    "list_x = []\n",
    "list_y = []\n",
    "for i in range(len(df)):\n",
    "    x = df.loc[i]['X좌표']\n",
    "    y = df.loc[i]['Y좌표']\n",
    "\n",
    "    x2, y2 = transform(proj_UTMK,proj_WGS84,x,y)\n",
    "    list_x.append(x2)\n",
    "    list_y.append(y2)\n",
    "df['X'] = list_x\n",
    "df['Y'] = list_y"
   ]
  },
  {
   "cell_type": "code",
   "execution_count": 29,
   "metadata": {},
   "outputs": [],
   "source": [
    "df.to_csv('loc2.csv', sep=',')"
   ]
  },
  {
   "cell_type": "code",
   "execution_count": 3,
   "metadata": {},
   "outputs": [
    {
     "name": "stdout",
     "output_type": "stream",
     "text": [
      "961114.5197260004 1727112.2691739995\n"
     ]
    }
   ],
   "source": [
    "# WGS84 -> UTM-K 샘플\n",
    "x1, y1 = 127.07098392510115, 35.53895289091983\n",
    "x2, y2 = transform(proj_WGS84, proj_UTMK, x1, y1)\n",
    "print(x2,y2)"
   ]
  },
  {
   "cell_type": "markdown",
   "metadata": {},
   "source": [
    "# DataFrame 여러 좌표 변환 Example"
   ]
  },
  {
   "cell_type": "code",
   "execution_count": 4,
   "metadata": {},
   "outputs": [],
   "source": [
    "# x, y 컬럼을 이용하여 UTM-K좌표를 WGS84로 변환한 Series데이터 반환\n",
    "def transform_utmk_to_w84(df):\n",
    "    return pd.Series(transform(proj_UTMK, proj_WGS84, df['x'], df['y']), index=['x', 'y'])"
   ]
  },
  {
   "cell_type": "code",
   "execution_count": 5,
   "metadata": {},
   "outputs": [],
   "source": [
    "df_xy = pd.DataFrame([\n",
    "                                        ['A', 961114.519726,1727112.269174],\n",
    "                                        ['B', 940934.895125,1685175.196487],\n",
    "                                        ['C', 1087922.228298,1761958.688262]\n",
    "                                    ], columns=['id', 'x', 'y'])"
   ]
  },
  {
   "cell_type": "code",
   "execution_count": 6,
   "metadata": {},
   "outputs": [
    {
     "data": {
      "text/html": [
       "<div>\n",
       "<style scoped>\n",
       "    .dataframe tbody tr th:only-of-type {\n",
       "        vertical-align: middle;\n",
       "    }\n",
       "\n",
       "    .dataframe tbody tr th {\n",
       "        vertical-align: top;\n",
       "    }\n",
       "\n",
       "    .dataframe thead th {\n",
       "        text-align: right;\n",
       "    }\n",
       "</style>\n",
       "<table border=\"1\" class=\"dataframe\">\n",
       "  <thead>\n",
       "    <tr style=\"text-align: right;\">\n",
       "      <th></th>\n",
       "      <th>id</th>\n",
       "      <th>x</th>\n",
       "      <th>y</th>\n",
       "    </tr>\n",
       "  </thead>\n",
       "  <tbody>\n",
       "    <tr>\n",
       "      <th>0</th>\n",
       "      <td>A</td>\n",
       "      <td>9.611145e+05</td>\n",
       "      <td>1.727112e+06</td>\n",
       "    </tr>\n",
       "    <tr>\n",
       "      <th>1</th>\n",
       "      <td>B</td>\n",
       "      <td>9.409349e+05</td>\n",
       "      <td>1.685175e+06</td>\n",
       "    </tr>\n",
       "    <tr>\n",
       "      <th>2</th>\n",
       "      <td>C</td>\n",
       "      <td>1.087922e+06</td>\n",
       "      <td>1.761959e+06</td>\n",
       "    </tr>\n",
       "  </tbody>\n",
       "</table>\n",
       "</div>"
      ],
      "text/plain": [
       "  id             x             y\n",
       "0  A  9.611145e+05  1.727112e+06\n",
       "1  B  9.409349e+05  1.685175e+06\n",
       "2  C  1.087922e+06  1.761959e+06"
      ]
     },
     "execution_count": 6,
     "metadata": {},
     "output_type": "execute_result"
    }
   ],
   "source": [
    "df_xy"
   ]
  },
  {
   "cell_type": "code",
   "execution_count": 7,
   "metadata": {},
   "outputs": [],
   "source": [
    "df_xy[['x_w84', 'y_w84']] = df_xy.apply(transform_utmk_to_w84, axis=1)"
   ]
  },
  {
   "cell_type": "code",
   "execution_count": 8,
   "metadata": {},
   "outputs": [
    {
     "data": {
      "text/html": [
       "<div>\n",
       "<style scoped>\n",
       "    .dataframe tbody tr th:only-of-type {\n",
       "        vertical-align: middle;\n",
       "    }\n",
       "\n",
       "    .dataframe tbody tr th {\n",
       "        vertical-align: top;\n",
       "    }\n",
       "\n",
       "    .dataframe thead th {\n",
       "        text-align: right;\n",
       "    }\n",
       "</style>\n",
       "<table border=\"1\" class=\"dataframe\">\n",
       "  <thead>\n",
       "    <tr style=\"text-align: right;\">\n",
       "      <th></th>\n",
       "      <th>id</th>\n",
       "      <th>x</th>\n",
       "      <th>y</th>\n",
       "      <th>x_w84</th>\n",
       "      <th>y_w84</th>\n",
       "    </tr>\n",
       "  </thead>\n",
       "  <tbody>\n",
       "    <tr>\n",
       "      <th>0</th>\n",
       "      <td>A</td>\n",
       "      <td>9.611145e+05</td>\n",
       "      <td>1.727112e+06</td>\n",
       "      <td>127.070984</td>\n",
       "      <td>35.538953</td>\n",
       "    </tr>\n",
       "    <tr>\n",
       "      <th>1</th>\n",
       "      <td>B</td>\n",
       "      <td>9.409349e+05</td>\n",
       "      <td>1.685175e+06</td>\n",
       "      <td>126.851387</td>\n",
       "      <td>35.159797</td>\n",
       "    </tr>\n",
       "    <tr>\n",
       "      <th>2</th>\n",
       "      <td>C</td>\n",
       "      <td>1.087922e+06</td>\n",
       "      <td>1.761959e+06</td>\n",
       "      <td>128.473791</td>\n",
       "      <td>35.849993</td>\n",
       "    </tr>\n",
       "  </tbody>\n",
       "</table>\n",
       "</div>"
      ],
      "text/plain": [
       "  id             x             y       x_w84      y_w84\n",
       "0  A  9.611145e+05  1.727112e+06  127.070984  35.538953\n",
       "1  B  9.409349e+05  1.685175e+06  126.851387  35.159797\n",
       "2  C  1.087922e+06  1.761959e+06  128.473791  35.849993"
      ]
     },
     "execution_count": 8,
     "metadata": {},
     "output_type": "execute_result"
    }
   ],
   "source": [
    "df_xy"
   ]
  },
  {
   "cell_type": "code",
   "execution_count": null,
   "metadata": {},
   "outputs": [],
   "source": []
  }
 ],
 "metadata": {
  "kernelspec": {
   "display_name": "Python 3",
   "language": "python",
   "name": "python3"
  },
  "language_info": {
   "codemirror_mode": {
    "name": "ipython",
    "version": 3
   },
   "file_extension": ".py",
   "mimetype": "text/x-python",
   "name": "python",
   "nbconvert_exporter": "python",
   "pygments_lexer": "ipython3",
   "version": "3.7.4"
  }
 },
 "nbformat": 4,
 "nbformat_minor": 2
}
